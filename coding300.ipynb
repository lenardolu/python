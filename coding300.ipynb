{
  "cells": [
    {
      "cell_type": "markdown",
      "metadata": {
        "id": "5bf18777"
      },
      "source": [
        "## 02. 파이썬 변수"
      ],
      "id": "5bf18777"
    },
    {
      "cell_type": "markdown",
      "metadata": {
        "id": "fa7feb76"
      },
      "source": [
        "011 변수 사용하기\n",
        "삼성전자라는 변수로 50,000원을 바인딩해보세요. 삼성전자 주식 10주를 보유하고 있을 때 총 평가금액을 출력하세요."
      ],
      "id": "fa7feb76"
    },
    {
      "cell_type": "code",
      "execution_count": null,
      "metadata": {
        "id": "01757d0d",
        "outputId": "a31b23fc-d91e-48bb-a6e1-416bad48a065"
      },
      "outputs": [
        {
          "name": "stdout",
          "output_type": "stream",
          "text": [
            "삼성전자 10주를 보유하고 있을 때 총 평가금액 = 500,000원\n"
          ]
        }
      ],
      "source": [
        "a = '삼성전자'\n",
        "b = 50000\n",
        "\n",
        "print(a,'10주를 보유하고 있을 때 총 평가금액 = {0:,}원'.format(b*10))"
      ],
      "id": "01757d0d"
    },
    {
      "cell_type": "code",
      "execution_count": null,
      "metadata": {
        "id": "cc4c2770",
        "outputId": "f2e83399-c024-42f4-bb8f-3ff866d9aa88"
      },
      "outputs": [
        {
          "name": "stdout",
          "output_type": "stream",
          "text": [
            "500000\n"
          ]
        }
      ],
      "source": [
        "# 정답 확인\n",
        "삼성전자 = 50000\n",
        "총평가금액 = 삼성전자 * 10\n",
        "print(총평가금액)"
      ],
      "id": "cc4c2770"
    },
    {
      "cell_type": "markdown",
      "metadata": {
        "id": "706f48de"
      },
      "source": [
        "012 변수 사용하기\n",
        "다음 표는 삼성전자의 일부 투자정보입니다. 변수를 사용해서 시가총액, 현재가, PER 등을 바인딩해보세요.\n",
        "\n",
        "항목\t값\n",
        "시가총액\t298조\n",
        "현재가\t50,000원\n",
        "PER\t15.79"
      ],
      "id": "706f48de"
    },
    {
      "cell_type": "code",
      "execution_count": null,
      "metadata": {
        "id": "8b72c8b9",
        "outputId": "73fe60c1-4cfd-4492-c375-0b47bbe3dead"
      },
      "outputs": [
        {
          "name": "stdout",
          "output_type": "stream",
          "text": [
            "항목 값\n",
            "시가총액 298조\n",
            "현재가 50,000원\n",
            "PER 15.79\n"
          ]
        }
      ],
      "source": [
        "a1 = '항목'\n",
        "a2 = '값'\n",
        "b1 = '시가총액'\n",
        "b2 = '298조'\n",
        "c1 = '현재가'\n",
        "c2 = '50,000원'\n",
        "d1 = 'PER'\n",
        "d2 = 15.79\n",
        "\n",
        "print(a1, a2)\n",
        "print(b1, b2)\n",
        "print(c1, c2)\n",
        "print(d1, d2)"
      ],
      "id": "8b72c8b9"
    },
    {
      "cell_type": "code",
      "execution_count": null,
      "metadata": {
        "id": "1f84001a",
        "outputId": "7e41d7bd-329f-4e06-ee45-2d7fb682d876"
      },
      "outputs": [
        {
          "name": "stdout",
          "output_type": "stream",
          "text": [
            "298000000000000 <class 'int'>\n",
            "50000 <class 'int'>\n",
            "15.79 <class 'float'>\n"
          ]
        }
      ],
      "source": [
        "# 정답확인\n",
        "시가총액 = 298000000000000\n",
        "현재가 = 50000\n",
        "PER = 15.79\n",
        "print(시가총액, type(시가총액))\n",
        "print(현재가, type(현재가))\n",
        "print(PER, type(PER))"
      ],
      "id": "1f84001a"
    },
    {
      "cell_type": "markdown",
      "metadata": {
        "id": "86a76578"
      },
      "source": [
        "013 문자열 출력\n",
        "변수 s와 t에는 각각 문자열이 바인딩 되어있습니다.\n",
        "\n",
        ">> s = \"hello\"\n",
        ">> t = \"python\"\n",
        "두 변수를 이용하여 아래와 같이 출력해보세요.\n",
        "\n",
        "실행 예:\n",
        "hello! python"
      ],
      "id": "86a76578"
    },
    {
      "cell_type": "code",
      "execution_count": null,
      "metadata": {
        "id": "edc040fb",
        "outputId": "9d63504f-86c5-47ac-8516-78f3321e775a"
      },
      "outputs": [
        {
          "name": "stdout",
          "output_type": "stream",
          "text": [
            "hello! python\n"
          ]
        }
      ],
      "source": [
        "s = \"hello\"\n",
        "t = 'python'\n",
        "print(s, t, sep='! ')"
      ],
      "id": "edc040fb"
    },
    {
      "cell_type": "code",
      "execution_count": null,
      "metadata": {
        "id": "32a1a9c2",
        "outputId": "cd743a16-63da-475a-bb1c-1b9bb3a61c1e"
      },
      "outputs": [
        {
          "name": "stdout",
          "output_type": "stream",
          "text": [
            "hello! python\n"
          ]
        }
      ],
      "source": [
        "# 정답확인\n",
        "s = \"hello\"\n",
        "t = \"python\"\n",
        "print(s+\"!\", t)"
      ],
      "id": "32a1a9c2"
    },
    {
      "cell_type": "markdown",
      "metadata": {
        "id": "d7607655"
      },
      "source": [
        "014 파이썬을 이용한 값 계산\n",
        "아래 코드의 실행 결과를 예상해보세요.\n",
        "\n",
        ">> 2 + 2 * 3 "
      ],
      "id": "d7607655"
    },
    {
      "cell_type": "code",
      "execution_count": null,
      "metadata": {
        "id": "3f7fbe43",
        "outputId": "dc466d52-fc4e-4070-cf5f-54b92215409a"
      },
      "outputs": [
        {
          "name": "stdout",
          "output_type": "stream",
          "text": [
            "8\n"
          ]
        }
      ],
      "source": [
        "print(2 + 2 *3)"
      ],
      "id": "3f7fbe43"
    },
    {
      "cell_type": "markdown",
      "metadata": {
        "id": "be3ab9ab"
      },
      "source": [
        "015 type 함수\n",
        "type() 함수는 데이터 타입을 판별합니다. 변수 a에는 128 숫자가 바인딩돼 있어 type 함수가 int (정수)형임을 알려줍니다.\n",
        "\n",
        ">> a = 128\n",
        ">> print (type(a))\n",
        "<class 'int'>\n",
        "아래 변수에 바인딩된 값의 타입을 판별해보세요.\n",
        ">> a = \"132\""
      ],
      "id": "be3ab9ab"
    },
    {
      "cell_type": "code",
      "execution_count": null,
      "metadata": {
        "id": "d32cdbf0",
        "outputId": "520e8a8a-3410-4d4d-abd3-72b183b9a26e"
      },
      "outputs": [
        {
          "name": "stdout",
          "output_type": "stream",
          "text": [
            "a = \"132은\"  <class 'str'>이다\n"
          ]
        }
      ],
      "source": [
        "a = \"132\"\n",
        "print('a = \"132은\"  {}이다'.format(type(a)))"
      ],
      "id": "d32cdbf0"
    },
    {
      "cell_type": "markdown",
      "metadata": {
        "id": "1f1493eb"
      },
      "source": [
        "016 문자열을 정수로 변환\n",
        "문자열 '720'를 정수형으로 변환해보세요.\n",
        "\n",
        ">> num_str = \"720\""
      ],
      "id": "1f1493eb"
    },
    {
      "cell_type": "code",
      "execution_count": null,
      "metadata": {
        "id": "0ead176d",
        "outputId": "3c1bf14e-449b-4324-cc22-37cccee2f92c"
      },
      "outputs": [
        {
          "name": "stdout",
          "output_type": "stream",
          "text": [
            "720\n"
          ]
        }
      ],
      "source": [
        "num_str = \"720\"\n",
        "print(int(num_str))"
      ],
      "id": "0ead176d"
    },
    {
      "cell_type": "code",
      "execution_count": null,
      "metadata": {
        "id": "f839e4c2",
        "outputId": "4d8d239f-a901-4a14-fa23-e910a48ae1ac"
      },
      "outputs": [
        {
          "name": "stdout",
          "output_type": "stream",
          "text": [
            "721 <class 'int'>\n"
          ]
        }
      ],
      "source": [
        "# 정답확인\n",
        "num_str = \"720\"  #형변환\n",
        "num_int = int(num_str)\n",
        "print(num_int+1, type(num_int))"
      ],
      "id": "f839e4c2"
    },
    {
      "cell_type": "markdown",
      "metadata": {
        "id": "dbbbc58a"
      },
      "source": [
        "017 정수를 문자열 100으로 변환\n",
        "정수 100을 문자열 '100'으로 변환해보세요.\n",
        "num = 100"
      ],
      "id": "dbbbc58a"
    },
    {
      "cell_type": "code",
      "execution_count": null,
      "metadata": {
        "id": "d661a798",
        "outputId": "d62b7e7c-89ad-4fc1-cf63-39680950c5b9"
      },
      "outputs": [
        {
          "name": "stdout",
          "output_type": "stream",
          "text": [
            "<class 'str'> 100\n"
          ]
        }
      ],
      "source": [
        "num = 100\n",
        "num = str(num)\n",
        "print(type(num), num)"
      ],
      "id": "d661a798"
    },
    {
      "cell_type": "markdown",
      "metadata": {
        "id": "1c0e9976"
      },
      "source": [
        "018 문자열을 실수로 변환\n",
        "문자열 \"15.79\"를 실수(float) 타입으로 변환해보세요."
      ],
      "id": "1c0e9976"
    },
    {
      "cell_type": "code",
      "execution_count": null,
      "metadata": {
        "id": "a767942c",
        "outputId": "983ef69c-57b1-48e6-e8a1-8de77e6ce6f2"
      },
      "outputs": [
        {
          "name": "stdout",
          "output_type": "stream",
          "text": [
            "<class 'float'> 15.79\n"
          ]
        }
      ],
      "source": [
        "num = \"15.79\"\n",
        "num = float(num)\n",
        "print(type(num), num)"
      ],
      "id": "a767942c"
    },
    {
      "cell_type": "markdown",
      "metadata": {
        "id": "56e1cb9d"
      },
      "source": [
        "019 문자열을 정수로 변환\n",
        "year라는 변수가 문자열 타입의 연도를 바인딩하고 있습니다. 이를 정수로 변환한 후 최근 3년의 연도를 화면에 출력해보세요.\n",
        "year = \"2020\""
      ],
      "id": "56e1cb9d"
    },
    {
      "cell_type": "code",
      "execution_count": null,
      "metadata": {
        "id": "9d5b3abc",
        "outputId": "a70642bb-22df-43b2-a934-275325ae79a2"
      },
      "outputs": [
        {
          "name": "stdout",
          "output_type": "stream",
          "text": [
            "2017\n"
          ]
        }
      ],
      "source": [
        "year = \"2020\"\n",
        "year = int(year)\n",
        "print(year-3)"
      ],
      "id": "9d5b3abc"
    },
    {
      "cell_type": "markdown",
      "metadata": {
        "id": "7adb0883"
      },
      "source": [
        "020 파이썬 계산\n",
        "에이컨이 월 48,584원에 무이자 36개월의 조건으로 홈쇼핑에서 판매되고 있습니다. 총 금액은 계산한 후 이를 화면에 출력해보세요. (변수사용하기)"
      ],
      "id": "7adb0883"
    },
    {
      "cell_type": "code",
      "execution_count": null,
      "metadata": {
        "id": "fac5c94d",
        "outputId": "25dfbcc9-07dd-4ce4-ca4c-65fad4a3a8ed"
      },
      "outputs": [
        {
          "name": "stdout",
          "output_type": "stream",
          "text": [
            "에어컨 1,749,024원 을36개월 무이자로 구매\n"
          ]
        }
      ],
      "source": [
        "a = 48584\n",
        "print('에어컨 {0:,}원 을36개월 무이자로 구매'.format(a*36))"
      ],
      "id": "fac5c94d"
    },
    {
      "cell_type": "markdown",
      "metadata": {
        "id": "852ee809"
      },
      "source": [
        "## 03. 파이썬 문자열"
      ],
      "id": "852ee809"
    },
    {
      "cell_type": "markdown",
      "metadata": {
        "id": "e3cb2840"
      },
      "source": [
        "021 문자열 인덱싱\n",
        "letters가 바인딩하는 문자열에서 첫번째와 세번째 문자를 출력하세요.\n",
        "\n",
        ">> letters = 'python'\n",
        "실행 예\n",
        "p t"
      ],
      "id": "e3cb2840"
    },
    {
      "cell_type": "code",
      "execution_count": null,
      "metadata": {
        "id": "fb261562",
        "outputId": "549fed72-afc6-4d71-e7f5-2d0b7087530f"
      },
      "outputs": [
        {
          "name": "stdout",
          "output_type": "stream",
          "text": [
            "p t\n"
          ]
        }
      ],
      "source": [
        "letters = 'python'\n",
        "print(letters[0], letters[2])"
      ],
      "id": "fb261562"
    },
    {
      "cell_type": "markdown",
      "metadata": {
        "id": "f03cdcfa"
      },
      "source": [
        "022 문자열 슬라이싱\n",
        "자동차 번호가 다음과 같을 때 뒤에 4자리만 출력하세요.\n",
        "\n",
        ">> license_plate = \"24가 2210\"\n",
        "실행 예: 2210"
      ],
      "id": "f03cdcfa"
    },
    {
      "cell_type": "code",
      "execution_count": null,
      "metadata": {
        "id": "e66318e2",
        "outputId": "8a2d92f2-e9e5-45ba-a541-9b0f33552c84"
      },
      "outputs": [
        {
          "name": "stdout",
          "output_type": "stream",
          "text": [
            "2210\n"
          ]
        }
      ],
      "source": [
        "license_plate = '24가 2210'\n",
        "print(license_plate[4:])"
      ],
      "id": "e66318e2"
    },
    {
      "cell_type": "code",
      "execution_count": null,
      "metadata": {
        "id": "4b1691c2",
        "outputId": "86f49334-d0b6-4e1e-c18d-aff1cb1c0a01"
      },
      "outputs": [
        {
          "name": "stdout",
          "output_type": "stream",
          "text": [
            "2210\n"
          ]
        }
      ],
      "source": [
        "# 정답확인\n",
        "license_plate = \"24가 2210\"\n",
        "print(license_plate[-4:])"
      ],
      "id": "4b1691c2"
    },
    {
      "cell_type": "markdown",
      "metadata": {
        "id": "139c157a"
      },
      "source": [
        "023 문자열 인덱싱\n",
        "아래의 문자열에서 '홀' 만 출력하세요.\n",
        "\n",
        ">> string = \"홀짝홀짝홀짝\"\n",
        "실행 예:\n",
        "홀홀홀"
      ],
      "id": "139c157a"
    },
    {
      "cell_type": "code",
      "execution_count": null,
      "metadata": {
        "id": "c4f87635",
        "outputId": "1d15d412-9c80-48dc-d191-7d44a610f261"
      },
      "outputs": [
        {
          "name": "stdout",
          "output_type": "stream",
          "text": [
            "홀홀홀\n"
          ]
        }
      ],
      "source": [
        "string = \"홀짝홀짝홀짝\"\n",
        "print(string[0::2])"
      ],
      "id": "c4f87635"
    },
    {
      "cell_type": "code",
      "execution_count": null,
      "metadata": {
        "id": "645c1d37",
        "outputId": "faf910c1-e572-4fa8-dfb7-0e25164ddce9"
      },
      "outputs": [
        {
          "name": "stdout",
          "output_type": "stream",
          "text": [
            "홀홀홀\n"
          ]
        }
      ],
      "source": [
        "# 정답확인\n",
        "string = \"홀짝홀짝홀짝\"\n",
        "print(string[::2])"
      ],
      "id": "645c1d37"
    },
    {
      "cell_type": "markdown",
      "metadata": {
        "id": "f0e1879c"
      },
      "source": [
        "024 문자열 슬라이싱\n",
        "문자열을 거꾸로 뒤집어 출력하세요.\n",
        "\n",
        ">> string = \"PYTHON\"\n",
        "실행 예:\n",
        "NOHTYP"
      ],
      "id": "f0e1879c"
    },
    {
      "cell_type": "code",
      "execution_count": null,
      "metadata": {
        "id": "72eb14f5",
        "outputId": "6b43dd1d-3985-424d-939f-67d5ff319b45"
      },
      "outputs": [
        {
          "name": "stdout",
          "output_type": "stream",
          "text": [
            "NOHTYP\n"
          ]
        }
      ],
      "source": [
        "string = \"PYTHON\"\n",
        "print(string[::-1])"
      ],
      "id": "72eb14f5"
    },
    {
      "cell_type": "markdown",
      "metadata": {
        "id": "39167ebe"
      },
      "source": [
        "025 문자열 치환\n",
        "아래의 전화번호에서 하이푼 ('-')을 제거하고 출력하세요.\n",
        "\n",
        ">> phone_number = \"010-1111-2222\"\n",
        "실행 예\n",
        "010 1111 2222"
      ],
      "id": "39167ebe"
    },
    {
      "cell_type": "code",
      "execution_count": null,
      "metadata": {
        "id": "257d9387",
        "outputId": "41eb8414-aab4-4700-8de0-01c649588140"
      },
      "outputs": [
        {
          "name": "stdout",
          "output_type": "stream",
          "text": [
            "010 1111 2222\n"
          ]
        }
      ],
      "source": [
        "phone_number = \"010-1111-2222\"\n",
        "print(phone_number.replace('-', ' '))"
      ],
      "id": "257d9387"
    },
    {
      "cell_type": "markdown",
      "metadata": {
        "id": "eb6f0ce3"
      },
      "source": [
        "026 문자열 다루기\n",
        "25번 문제의 전화번호를 아래와 같이 모두 붙여 출력하세요.\n",
        "\n",
        "실행 예\n",
        "01011112222"
      ],
      "id": "eb6f0ce3"
    },
    {
      "cell_type": "code",
      "execution_count": null,
      "metadata": {
        "id": "f0e6c8ea",
        "outputId": "a49f8786-effe-4df8-fa27-c18c102830c1"
      },
      "outputs": [
        {
          "name": "stdout",
          "output_type": "stream",
          "text": [
            "01011112222\n"
          ]
        }
      ],
      "source": [
        "phone_number = \"010-1111-2222\"\n",
        "print(phone_number.replace('-', ''))"
      ],
      "id": "f0e6c8ea"
    },
    {
      "cell_type": "markdown",
      "metadata": {
        "id": "bdcba2ed"
      },
      "source": [
        "027 문자열 다루기\n",
        "url 에 저장된 웹 페이지 주소에서 도메인을 출력하세요.\n",
        "\n",
        ">> url = \"http://sharebook.kr\"\n",
        "실행 예:\n",
        "kr"
      ],
      "id": "bdcba2ed"
    },
    {
      "cell_type": "code",
      "execution_count": null,
      "metadata": {
        "id": "c4fe90b3",
        "outputId": "510b60b7-5c96-483f-91f8-83837df0839f"
      },
      "outputs": [
        {
          "name": "stdout",
          "output_type": "stream",
          "text": [
            "kr\n"
          ]
        }
      ],
      "source": [
        "url = \"http://sharebook.kr\"\n",
        "print(url[17:19])"
      ],
      "id": "c4fe90b3"
    },
    {
      "cell_type": "code",
      "execution_count": null,
      "metadata": {
        "id": "5432ea59"
      },
      "outputs": [],
      "source": [
        "# 정답확인 문자열로 표현된 url에서 .을 기준으로 분리합니다. 분리된 url 중 마지막을 인덱싱하면 도메인만 출력할 수 있습니다.\n",
        "\n",
        "url = \"http://sharebook.kr\"\n",
        "url_split = url.split('.')\n",
        "print(url_split[-1])"
      ],
      "id": "5432ea59"
    },
    {
      "cell_type": "markdown",
      "metadata": {
        "id": "505ddaa2"
      },
      "source": [
        "028 문자열은 immutable\n",
        "아래 코드의 실행 결과를 예상해보세요.\n",
        "\n",
        ">> lang = 'python'\n",
        ">> lang[0] = 'P'\n",
        ">> print(lang)"
      ],
      "id": "505ddaa2"
    },
    {
      "cell_type": "code",
      "execution_count": null,
      "metadata": {
        "id": "761cbe8c"
      },
      "outputs": [],
      "source": [
        "lang = 'python'\n",
        "lang[0] = 'P'\n",
        "print(lang)    # Python 출력"
      ],
      "id": "761cbe8c"
    },
    {
      "cell_type": "code",
      "execution_count": null,
      "metadata": {
        "id": "a9dd8874"
      },
      "outputs": [],
      "source": [
        "# 정답확인 문자열은 수정할 수 없습니다. 실행 결과를 확인해보면 문자열이 할당(assignment) 메서드를 지원하지 않음을 알 수 있습니다.\n",
        "\n",
        "TypeError                                 Traceback (most recent call last)\n",
        "<ipython-input-22-a0f3d05b669c> in <module>\n",
        "      1 lang = \"python\"\n",
        "----> 2 lang[0]= \"P\"\n",
        "      3 print(lang)\n",
        "\n",
        "TypeError: 'str' object does not support item assignment"
      ],
      "id": "a9dd8874"
    },
    {
      "cell_type": "markdown",
      "metadata": {
        "id": "6d00224e"
      },
      "source": [
        "029 replace 메서드\n",
        "아래 문자열에서 소문자 'a'를 대문자 'A'로 변경하세요.\n",
        "\n",
        ">> string = 'abcdfe2a354a32a'\n",
        "실행 예:\n",
        "Abcdfe2A354A32A"
      ],
      "id": "6d00224e"
    },
    {
      "cell_type": "code",
      "execution_count": null,
      "metadata": {
        "id": "27dfd2cf",
        "outputId": "e8e02be0-2d26-4e33-eea7-0348d4e8c2bc"
      },
      "outputs": [
        {
          "name": "stdout",
          "output_type": "stream",
          "text": [
            "Abcdfe2A354A32A\n"
          ]
        }
      ],
      "source": [
        "string = 'abcdfe2a354a32a'\n",
        "print(string.replace('a', 'A'))"
      ],
      "id": "27dfd2cf"
    },
    {
      "cell_type": "markdown",
      "metadata": {
        "id": "7357830c"
      },
      "source": [
        "030 replace 메서드\n",
        "아래 코드의 실행 결과를 예상해보세요.\n",
        "\n",
        ">> string = 'abcd'\n",
        ">> string.replace('b', 'B')\n",
        ">> print(string)"
      ],
      "id": "7357830c"
    },
    {
      "cell_type": "code",
      "execution_count": null,
      "metadata": {
        "id": "9ae302bd",
        "outputId": "9512e95a-055c-4e6f-d1f8-ba02a5c23a2e"
      },
      "outputs": [
        {
          "name": "stdout",
          "output_type": "stream",
          "text": [
            "abcd\n"
          ]
        }
      ],
      "source": [
        "string = 'abcd'\n",
        "string.replace('b', 'B')\n",
        "print(string)    # aBcd 출력"
      ],
      "id": "9ae302bd"
    },
    {
      "cell_type": "code",
      "execution_count": null,
      "metadata": {
        "id": "8e0122d8"
      },
      "outputs": [],
      "source": [
        "# 정답확인\n",
        "# abcd가 그대로 출력됩니다. 왜냐하면 문자열은 변경할 수 없는 자료형이기 때문입니다. \n",
        "# replace 메서드를 사용하면 원본은 그대로 둔채로 변경된 새로운 문자열 객체를 리턴해줍니다."
      ],
      "id": "8e0122d8"
    },
    {
      "cell_type": "markdown",
      "metadata": {
        "id": "cc61425f"
      },
      "source": [
        "031 문자열 합치기\n",
        "아래 코드의 실행 결과를 예상해보세요.\n",
        "\n",
        ">> a = \"3\"\n",
        ">> b = \"4\"\n",
        ">> print(a + b)"
      ],
      "id": "cc61425f"
    },
    {
      "cell_type": "code",
      "execution_count": null,
      "metadata": {
        "id": "547fd68a",
        "outputId": "56ef16d9-2c1e-4836-d14c-5ffdd3aebdf3"
      },
      "outputs": [
        {
          "name": "stdout",
          "output_type": "stream",
          "text": [
            "34\n"
          ]
        }
      ],
      "source": [
        "a = \"3\"\n",
        "b = \"4\"\n",
        "print(a + b)   #'34' 출력"
      ],
      "id": "547fd68a"
    },
    {
      "cell_type": "markdown",
      "metadata": {
        "id": "fd1b11b3"
      },
      "source": [
        "032 문자열 곱하기\n",
        "아래 코드의 실행 결과를 예상해보세요.\n",
        "\n",
        ">> print(\"Hi\" * 3)"
      ],
      "id": "fd1b11b3"
    },
    {
      "cell_type": "code",
      "execution_count": null,
      "metadata": {
        "id": "b835777e",
        "outputId": "7d6aff7a-c151-455e-8d4e-4d96c8d6a8fd"
      },
      "outputs": [
        {
          "name": "stdout",
          "output_type": "stream",
          "text": [
            "HiHiHi\n"
          ]
        }
      ],
      "source": [
        "print(\"Hi\" * 3)    #HiHiHi"
      ],
      "id": "b835777e"
    },
    {
      "cell_type": "markdown",
      "metadata": {
        "id": "367d8501"
      },
      "source": [
        "033 문자열 곱하기\n",
        "화면에 '-'를 80개 출력하세요.\n",
        "\n",
        "<!-- 실행 예: -->\n",
        "-----------------------------------------------------------"
      ],
      "id": "367d8501"
    },
    {
      "cell_type": "code",
      "execution_count": null,
      "metadata": {
        "id": "f518cf95",
        "outputId": "977be5b0-6efb-4900-df90-d90255d1b210"
      },
      "outputs": [
        {
          "name": "stdout",
          "output_type": "stream",
          "text": [
            "--------------------------------------------------------------------------------\n"
          ]
        }
      ],
      "source": [
        "print('-' * 80)"
      ],
      "id": "f518cf95"
    },
    {
      "cell_type": "markdown",
      "metadata": {
        "id": "3e4c3eb5"
      },
      "source": [
        "034 문자열 곱하기\n",
        "변수에 다음과 같은 문자열이 바인딩되어 있습니다.\n",
        "\n",
        ">>> t1 = 'python'\n",
        ">>> t2 = 'java'\n",
        "변수에 문자열 더하기와 문자열 곱하기를 사용해서 아래와 같이 출력해보세요.\n",
        "\n",
        "실행 예:\n",
        "python java python java python java python java"
      ],
      "id": "3e4c3eb5"
    },
    {
      "cell_type": "code",
      "execution_count": null,
      "metadata": {
        "id": "7a847579",
        "outputId": "bbdbb35f-4740-4889-d694-12288133edb4"
      },
      "outputs": [
        {
          "name": "stdout",
          "output_type": "stream",
          "text": [
            "python java python java python java python java python java \n"
          ]
        }
      ],
      "source": [
        "t1 = 'python'\n",
        "t2 = 'java'\n",
        "print((t1 + ' ' + t2 + ' ') * 5)"
      ],
      "id": "7a847579"
    },
    {
      "cell_type": "markdown",
      "metadata": {
        "id": "74f7ae35"
      },
      "source": [
        "035 문자열 출력\n",
        "변수에 다음과 같이 문자열과 정수가 바인딩되어 있을 때 % formatting을 사용해서 다음과 같이 출력해보세요.\n",
        "\n",
        "name1 = \"김민수\" \n",
        "age1 = 10\n",
        "name2 = \"이철희\"\n",
        "age2 = 13\n",
        "이름: 김민수 나이: 10\n",
        "이름: 이철희 나이: 13"
      ],
      "id": "74f7ae35"
    },
    {
      "cell_type": "code",
      "execution_count": null,
      "metadata": {
        "id": "5be08875",
        "outputId": "dc4f06d6-27f7-4fca-9edb-8107f4608e0f"
      },
      "outputs": [
        {
          "name": "stdout",
          "output_type": "stream",
          "text": [
            "이름: 김민수 나이: 10\n",
            "이름: 이철희 나이: 13\n"
          ]
        }
      ],
      "source": [
        "name1 = \"김민수\" \n",
        "age1 = 10\n",
        "name2 = \"이철희\"\n",
        "age2 = 13\n",
        "print('이름: {} 나이: {}'.format(name1, age1))\n",
        "print('이름: {} 나이: {}'.format(name2, age2))"
      ],
      "id": "5be08875"
    },
    {
      "cell_type": "markdown",
      "metadata": {
        "id": "71a98aa7"
      },
      "source": [
        "036 문자열 출력\n",
        "문자열의 format( ) 메서드를 사용해서 035번 문제를 다시 풀어보세요."
      ],
      "id": "71a98aa7"
    },
    {
      "cell_type": "code",
      "execution_count": null,
      "metadata": {
        "id": "e56ef639",
        "outputId": "33724446-54dc-48bb-b236-428a649c539e"
      },
      "outputs": [
        {
          "name": "stdout",
          "output_type": "stream",
          "text": [
            "이름: 김민수 나이: 10\n",
            "이름: 이철희 나이: 13\n"
          ]
        }
      ],
      "source": [
        "print('이름: {a} 나이: {b}'.format(a='김민수', b='10'))\n",
        "print('이름: {a} 나이: {b}'.format(a='이철희', b='13'))"
      ],
      "id": "e56ef639"
    },
    {
      "cell_type": "markdown",
      "metadata": {
        "id": "3010d739"
      },
      "source": [
        "037 문자열 출력\n",
        "파이썬 3.6부터 지원하는 f-string을 사용해서 035번 문제를 다시 풀어보세요."
      ],
      "id": "3010d739"
    },
    {
      "cell_type": "code",
      "execution_count": null,
      "metadata": {
        "id": "d457dc2a",
        "outputId": "69f19900-5102-4981-bf6e-a97084412fab"
      },
      "outputs": [
        {
          "name": "stdout",
          "output_type": "stream",
          "text": [
            "이름: 김민수 나이: 10\n",
            "이름: 이철희 나이: 13\n"
          ]
        }
      ],
      "source": [
        "name1 = \"김민수\" \n",
        "age1 = 10\n",
        "name2 = \"이철희\"\n",
        "age2 = 13\n",
        "print(f'이름: {name1} 나이: {age1}')\n",
        "print(f'이름: {name2} 나이: {age2}')"
      ],
      "id": "d457dc2a"
    },
    {
      "cell_type": "markdown",
      "metadata": {
        "id": "bc8c5ea6"
      },
      "source": [
        "038 컴마 제거하기\n",
        "삼성전자의 상장주식수가 다음과 같습니다. 컴마를 제거한 후 이를 정수 타입으로 변환해보세요.\n",
        "\n",
        "상장주식수 = \"5,969,782,550\""
      ],
      "id": "bc8c5ea6"
    },
    {
      "cell_type": "code",
      "execution_count": null,
      "metadata": {
        "id": "81e38446",
        "outputId": "167773d5-016a-4803-b72a-5963fa517fa7"
      },
      "outputs": [
        {
          "name": "stdout",
          "output_type": "stream",
          "text": [
            "5969782550\n"
          ]
        }
      ],
      "source": [
        "상장주식수 = \"5,969,782,550\"\n",
        "a = 상장주식수.split(',')\n",
        "b = int(''.join(a))\n",
        "print(b)"
      ],
      "id": "81e38446"
    },
    {
      "cell_type": "markdown",
      "metadata": {
        "id": "d7db8098"
      },
      "source": [
        "039 문자열 슬라이싱\n",
        "다음과 같은 문자열에서 '2020/03'만 출력하세요.\n",
        "\n",
        "분기 = \"2020/03(E) (IFRS연결)\""
      ],
      "id": "d7db8098"
    },
    {
      "cell_type": "code",
      "execution_count": null,
      "metadata": {
        "id": "94a7ef70",
        "outputId": "2c6bc46d-b5f0-41cb-91a4-7ce85991601d"
      },
      "outputs": [
        {
          "name": "stdout",
          "output_type": "stream",
          "text": [
            "2020/03\n"
          ]
        }
      ],
      "source": [
        "분기 = \"2020/03(E) (IFRS연결)\"\n",
        "type(분기)\n",
        "print(분기[:7])"
      ],
      "id": "94a7ef70"
    },
    {
      "cell_type": "markdown",
      "metadata": {
        "id": "e69dccf7"
      },
      "source": [
        "040 strip 메서드\n",
        "문자열의 좌우의 공백이 있을 때 이를 제거해보세요.\n",
        "\n",
        "data = \"   삼성전자    \""
      ],
      "id": "e69dccf7"
    },
    {
      "cell_type": "code",
      "execution_count": null,
      "metadata": {
        "id": "a5e9ffb1",
        "outputId": "1a3c0a85-8eda-4bfb-9a16-e911921c6ada"
      },
      "outputs": [
        {
          "name": "stdout",
          "output_type": "stream",
          "text": [
            "삼성전자\n"
          ]
        }
      ],
      "source": [
        "data = \"   삼성전자    \"\n",
        "print(data.strip())"
      ],
      "id": "a5e9ffb1"
    },
    {
      "cell_type": "markdown",
      "metadata": {
        "id": "82836af1"
      },
      "source": [
        "041 upper 메서드\n",
        "다음과 같은 문자열이 있을 때 이를 대문자 BTC_KRW로 변경하세요.\n",
        "\n",
        "ticker = \"btc_krw\""
      ],
      "id": "82836af1"
    },
    {
      "cell_type": "code",
      "execution_count": null,
      "metadata": {
        "id": "83ccbe66",
        "outputId": "4e3d6868-1fb6-4e0b-ff44-cc6797c4f570"
      },
      "outputs": [
        {
          "name": "stdout",
          "output_type": "stream",
          "text": [
            "BTC_KRW\n"
          ]
        }
      ],
      "source": [
        "ticker = \"btc_krw\"\n",
        "print(ticker.upper())"
      ],
      "id": "83ccbe66"
    },
    {
      "cell_type": "markdown",
      "metadata": {
        "id": "bf717be5"
      },
      "source": [
        "042 lower 메서드\n",
        "다음과 같은 문자열이 있을 때 이를 소문자 btc_krw로 변경하세요.\n",
        "\n",
        "ticker = \"BTC_KRW\""
      ],
      "id": "bf717be5"
    },
    {
      "cell_type": "code",
      "execution_count": null,
      "metadata": {
        "id": "f5b0bff1",
        "outputId": "abb017f0-e204-45ac-a236-695e5ed7ce35"
      },
      "outputs": [
        {
          "name": "stdout",
          "output_type": "stream",
          "text": [
            "btc_krw\n"
          ]
        }
      ],
      "source": [
        "ticker = \"BTC_KRW\"\n",
        "print(ticker.lower())"
      ],
      "id": "f5b0bff1"
    },
    {
      "cell_type": "markdown",
      "metadata": {
        "id": "5a58b501"
      },
      "source": [
        "043 capitalize 메서드\n",
        "문자열 'hello'가 있을 때 이를 'Hello'로 변경해보세요."
      ],
      "id": "5a58b501"
    },
    {
      "cell_type": "code",
      "execution_count": null,
      "metadata": {
        "id": "f213d30f",
        "outputId": "4e343eb4-7af7-47e5-939a-f7c011633520"
      },
      "outputs": [
        {
          "name": "stdout",
          "output_type": "stream",
          "text": [
            "Hello\n"
          ]
        }
      ],
      "source": [
        "print('hello'.capitalize())"
      ],
      "id": "f213d30f"
    },
    {
      "cell_type": "markdown",
      "metadata": {
        "id": "4933753c"
      },
      "source": [
        "044 endswith 메서드\n",
        "파일 이름이 문자열로 저장되어 있을 때 endswith 메서드를 사용해서 파일 이름이 'xlsx'로 끝나는지 확인해보세요.\n",
        "\n",
        "file_name = \"보고서.xlsx\""
      ],
      "id": "4933753c"
    },
    {
      "cell_type": "code",
      "execution_count": null,
      "metadata": {
        "id": "c0b692ce",
        "outputId": "078701ae-4433-499d-ac26-9bb52ac19823"
      },
      "outputs": [
        {
          "name": "stdout",
          "output_type": "stream",
          "text": [
            "True\n"
          ]
        }
      ],
      "source": [
        "file_name = \"보고서.xlsx\"\n",
        "print(file_name.endswith(\"xlsx\"))"
      ],
      "id": "c0b692ce"
    },
    {
      "cell_type": "markdown",
      "metadata": {
        "id": "1662192a"
      },
      "source": [
        "045 endswith 메서드\n",
        "파일 이름이 문자열로 저장되어 있을 때 endswith 메서드를 사용해서 파일 이름이 'xlsx' 또는 'xls'로 끝나는지 확인해보세요.\n",
        "\n",
        "file_name = \"보고서.xlsx\""
      ],
      "id": "1662192a"
    },
    {
      "cell_type": "code",
      "execution_count": null,
      "metadata": {
        "id": "23142201",
        "outputId": "2b364da3-4ce2-47f9-c363-0f5d1f68a678"
      },
      "outputs": [
        {
          "name": "stdout",
          "output_type": "stream",
          "text": [
            "True\n",
            "False\n"
          ]
        }
      ],
      "source": [
        "file_name = \"보고서.xlsx\"\n",
        "print(file_name.endswith(\"xlsx\"))\n",
        "print(file_name.endswith(\"xls\"))"
      ],
      "id": "23142201"
    },
    {
      "cell_type": "code",
      "execution_count": null,
      "metadata": {
        "id": "84c9b192",
        "outputId": "a31b8115-751a-47dc-b87e-634880faab4f"
      },
      "outputs": [
        {
          "data": {
            "text/plain": [
              "True"
            ]
          },
          "execution_count": 22,
          "metadata": {},
          "output_type": "execute_result"
        }
      ],
      "source": [
        "# 정답확인\n",
        "file_name = \"보고서.xlsx\"\n",
        "file_name.endswith((\"xlsx\", \"xls\"))"
      ],
      "id": "84c9b192"
    },
    {
      "cell_type": "markdown",
      "metadata": {
        "id": "e5e40045"
      },
      "source": [
        "046 startswith 메서드\n",
        "파일 이름이 문자열로 저장되어 있을 때 startswith 메서드를 사용해서 파일 이름이 '2020'로 시작하는지 확인해보세요.\n",
        "\n",
        "file_name = \"2020_보고서.xlsx\""
      ],
      "id": "e5e40045"
    },
    {
      "cell_type": "code",
      "execution_count": null,
      "metadata": {
        "id": "15765bc9",
        "outputId": "d3114414-a489-4f89-9e3e-021c5509b683"
      },
      "outputs": [
        {
          "name": "stdout",
          "output_type": "stream",
          "text": [
            "True\n"
          ]
        }
      ],
      "source": [
        "file_name = \"2020_보고서.xlsx\"\n",
        "print(file_name.startswith('2020'))"
      ],
      "id": "15765bc9"
    },
    {
      "cell_type": "markdown",
      "metadata": {
        "id": "12d7cf95"
      },
      "source": [
        "047 split 메서드\n",
        "다음과 같은 문자열이 있을 때 공백을 기준으로 문자열을 나눠보세요.\n",
        "\n",
        "a = \"hello world\""
      ],
      "id": "12d7cf95"
    },
    {
      "cell_type": "code",
      "execution_count": null,
      "metadata": {
        "id": "41034baf",
        "outputId": "754ce088-47b8-4350-e5b0-a7fdd3ef513d"
      },
      "outputs": [
        {
          "name": "stdout",
          "output_type": "stream",
          "text": [
            "['hello', 'world']\n",
            "hello world\n"
          ]
        }
      ],
      "source": [
        "a = \"hello world\"\n",
        "b = a.split(' ')\n",
        "print(b)\n",
        "print(b[0], b[1])"
      ],
      "id": "41034baf"
    },
    {
      "cell_type": "markdown",
      "metadata": {
        "id": "6a2d1920"
      },
      "source": [
        "048 split 메서드\n",
        "다음과 같이 문자열이 있을 때 btc와 krw로 나눠보세요.\n",
        "\n",
        "ticker = \"btc_krw\""
      ],
      "id": "6a2d1920"
    },
    {
      "cell_type": "code",
      "execution_count": null,
      "metadata": {
        "id": "26f4b0b9",
        "outputId": "e3f42f84-3309-4f74-853d-426ae7d2f3d7"
      },
      "outputs": [
        {
          "name": "stdout",
          "output_type": "stream",
          "text": [
            "btc krw\n"
          ]
        }
      ],
      "source": [
        "ticker = \"btc_krw\"\n",
        "c = ticker.split('_')\n",
        "print(c[0], c[1])"
      ],
      "id": "26f4b0b9"
    },
    {
      "cell_type": "markdown",
      "metadata": {
        "id": "4dc8a482"
      },
      "source": [
        "049 split 메서드\n",
        "다음과 같이 날짜를 표현하는 문자열이 있을 때 연도, 월, 일로 나눠보세요.\n",
        "\n",
        "date = \"2020-05-01\""
      ],
      "id": "4dc8a482"
    },
    {
      "cell_type": "code",
      "execution_count": null,
      "metadata": {
        "id": "86961fea",
        "outputId": "d8249ad1-26ce-496a-ca6f-f60e88e4811b"
      },
      "outputs": [
        {
          "name": "stdout",
          "output_type": "stream",
          "text": [
            "2020년 05월 01일\n"
          ]
        }
      ],
      "source": [
        "date = \"2020-05-01\"\n",
        "d = date.split('-')\n",
        "print('{}년 {}월 {}일'.format(*d))"
      ],
      "id": "86961fea"
    },
    {
      "cell_type": "markdown",
      "metadata": {
        "id": "c155c1d4"
      },
      "source": [
        "050 rstrip 메서드\n",
        "문자열의 오른쪽에 공백이 있을 때 이를 제거해보세요.\n",
        "\n",
        "data = \"039490     \""
      ],
      "id": "c155c1d4"
    },
    {
      "cell_type": "code",
      "execution_count": null,
      "metadata": {
        "id": "f050e5b1",
        "outputId": "c593e353-b7fe-4fe3-f851-ee473ce765ac"
      },
      "outputs": [
        {
          "name": "stdout",
          "output_type": "stream",
          "text": [
            "039490\n"
          ]
        }
      ],
      "source": [
        "data = \"039490     \"\n",
        "print(data.rstrip())"
      ],
      "id": "f050e5b1"
    },
    {
      "cell_type": "markdown",
      "metadata": {
        "id": "2bee2af7"
      },
      "source": [
        "## 04. 파이썬 리스트"
      ],
      "id": "2bee2af7"
    },
    {
      "cell_type": "markdown",
      "metadata": {
        "id": "ca217f61"
      },
      "source": [
        "051 리스트 생성\n",
        "2016년 11월 영화 예매 순위 기준 top3는 다음과 같습니다. 영화 제목을 movie_rank 이름의 리스트에 저장해보세요. (순위 정보는 저장하지 않습니다.)\n",
        "\n",
        "순위\t영화\n",
        "1\t닥터 스트레인지\n",
        "2\t스플릿\n",
        "3\t럭키"
      ],
      "id": "ca217f61"
    },
    {
      "cell_type": "code",
      "execution_count": null,
      "metadata": {
        "id": "d1063bda",
        "outputId": "18a7ae27-0e39-4903-be40-331ca2be7b7c"
      },
      "outputs": [
        {
          "data": {
            "text/plain": [
              "['닥터 스트레이지', '스플릿', '럭키']"
            ]
          },
          "execution_count": 23,
          "metadata": {},
          "output_type": "execute_result"
        }
      ],
      "source": [
        "movie_rank = ['닥터 스트레이지', '스플릿', '럭키']\n",
        "movie_rank"
      ],
      "id": "d1063bda"
    },
    {
      "cell_type": "markdown",
      "metadata": {
        "id": "82a99542"
      },
      "source": [
        "052 리스트에 원소 추가\n",
        "051의 movie_rank 리스트에 \"배트맨\"을 추가하라."
      ],
      "id": "82a99542"
    },
    {
      "cell_type": "code",
      "execution_count": null,
      "metadata": {
        "id": "137c206b",
        "outputId": "5691defc-647d-47c7-8865-161dec160b6a"
      },
      "outputs": [
        {
          "data": {
            "text/plain": [
              "['닥터 스트레이지', '스플릿', '럭키', '배트맨']"
            ]
          },
          "execution_count": 67,
          "metadata": {},
          "output_type": "execute_result"
        }
      ],
      "source": [
        "movie_rank = ['닥터 스트레이지', '스플릿', '럭키']\n",
        "movie_rank.append('배트맨')\n",
        "movie_rank"
      ],
      "id": "137c206b"
    },
    {
      "cell_type": "markdown",
      "metadata": {
        "id": "167740f9"
      },
      "source": [
        "053\n",
        "movie_rank 리스트에는 아래와 같이 네 개의 영화 제목이 바인딩되어 있다. \"슈퍼맨\"을 \"닥터 스트레인지\"와 \"스플릿\" 사이에 추가하라.\n",
        "\n",
        "movie_rank = ['닥터 스트레인지', '스플릿', '럭키', '배트맨']"
      ],
      "id": "167740f9"
    },
    {
      "cell_type": "code",
      "execution_count": null,
      "metadata": {
        "id": "93c4c228",
        "outputId": "12312c15-efab-4716-ac6f-27cad0893ce8"
      },
      "outputs": [
        {
          "data": {
            "text/plain": [
              "['닥터 스트레이지', '슈퍼맨', '스플릿', '럭키', '배트맨']"
            ]
          },
          "execution_count": 27,
          "metadata": {},
          "output_type": "execute_result"
        }
      ],
      "source": [
        "movie_rank = ['닥터 스트레인지', '스플릿', '럭키', '배트맨']\n",
        "movie_rank.insert(1, '슈퍼맨')\n",
        "movie_rank"
      ],
      "id": "93c4c228"
    },
    {
      "cell_type": "markdown",
      "metadata": {
        "id": "0efbb8e3"
      },
      "source": [
        "054\n",
        "movie_rank 리스트에서 '럭키'를 삭제하라.\n",
        "\n",
        "movie_rank = ['닥터 스트레인지', '슈퍼맨', '스플릿', '럭키', '배트맨']"
      ],
      "id": "0efbb8e3"
    },
    {
      "cell_type": "code",
      "execution_count": null,
      "metadata": {
        "id": "8fc24153",
        "outputId": "3c8c202a-699f-4f84-a7fb-e045255e3e2e"
      },
      "outputs": [
        {
          "data": {
            "text/plain": [
              "['닥터 스트레인지', '슈퍼맨', '스플릿', '배트맨']"
            ]
          },
          "execution_count": 31,
          "metadata": {},
          "output_type": "execute_result"
        }
      ],
      "source": [
        "movie_rank = ['닥터 스트레인지', '슈퍼맨', '스플릿', '럭키', '배트맨']\n",
        "movie_rank.remove('럭키')\n",
        "movie_rank"
      ],
      "id": "8fc24153"
    },
    {
      "cell_type": "markdown",
      "metadata": {
        "id": "0a86e834"
      },
      "source": [
        "movie_rank 리스트에서 '스플릿' 과 '배트맨'을 를 삭제하라.\n",
        "\n",
        "movie_rank = ['닥터 스트레인지', '슈퍼맨', '스플릿', '배트맨']"
      ],
      "id": "0a86e834"
    },
    {
      "cell_type": "code",
      "execution_count": null,
      "metadata": {
        "id": "34aeaf2f",
        "outputId": "b543249f-f1bd-4289-9dce-bc0acf14dff1"
      },
      "outputs": [
        {
          "data": {
            "text/plain": [
              "['닥터 스트레인지', '슈퍼맨']"
            ]
          },
          "execution_count": 69,
          "metadata": {},
          "output_type": "execute_result"
        }
      ],
      "source": [
        "movie_rank = ['닥터 스트레인지', '슈퍼맨', '스플릿', '배트맨']\n",
        "movie_rank.remove('스플릿')\n",
        "movie_rank.remove('배트맨')\n",
        "movie_rank"
      ],
      "id": "34aeaf2f"
    },
    {
      "cell_type": "code",
      "execution_count": null,
      "metadata": {
        "id": "5dcdb840",
        "outputId": "88db9e51-997f-4f57-9b7c-3763c83cf11b"
      },
      "outputs": [
        {
          "name": "stdout",
          "output_type": "stream",
          "text": [
            "['닥터 스트레인지', '슈퍼맨']\n"
          ]
        }
      ],
      "source": [
        "# 정답확인\n",
        "# del을 이용하여 리스트에서 원소를 삭제할 수 있습니다. 리스트에서 어떤 값을 삭제하면 남은 값들은 새로 인덱싱됩니다. \n",
        "# 따라서 여러 값을 삭제할 때는 어떤 값이 먼저 삭제된 후 남은 원소들에 대해서 순서를 새로 고려한 후 삭제해야 합니다.\n",
        "\n",
        "movie_rank = ['닥터 스트레인지', '슈퍼맨', '스플릿', '배트맨']\n",
        "del movie_rank[2]\n",
        "del movie_rank[2]\n",
        "print(movie_rank)"
      ],
      "id": "5dcdb840"
    },
    {
      "cell_type": "markdown",
      "metadata": {
        "id": "a2a85d58"
      },
      "source": [
        "056\n",
        "lang1과 lang2 리스트가 있을 때 lang1과 lang2의 원소를 모두 갖고 있는 langs 리스트를 만들어라.\n",
        "\n",
        ">> lang1 = [\"C\", \"C++\", \"JAVA\"]\n",
        ">> lang2 = [\"Python\", \"Go\", \"C#\"]\n",
        "실행 예:\n",
        ">> langs\n",
        "['C', 'C++', 'JAVA', 'Python', 'Go', 'C#']"
      ],
      "id": "a2a85d58"
    },
    {
      "cell_type": "code",
      "execution_count": null,
      "metadata": {
        "id": "0153b6a7",
        "outputId": "df689fc5-bd13-4f7b-e8e5-910669f568ae"
      },
      "outputs": [
        {
          "data": {
            "text/plain": [
              "['C', 'C++', 'JAVA', 'Python', 'Go', 'C#']"
            ]
          },
          "execution_count": 34,
          "metadata": {},
          "output_type": "execute_result"
        }
      ],
      "source": [
        "lang1 = [\"C\", \"C++\", \"JAVA\"]\n",
        "lang2 = [\"Python\", \"Go\", \"C#\"]\n",
        "langs = lang1 + lang2\n",
        "langs"
      ],
      "id": "0153b6a7"
    },
    {
      "cell_type": "markdown",
      "metadata": {
        "id": "91aa27bd"
      },
      "source": [
        "다음 리스트에서 최댓값과 최솟값을 출력하라. (힌트: min(), max() 함수 사용)\n",
        "\n",
        "nums = [1, 2, 3, 4, 5, 6, 7]\n",
        "실행 예:\n",
        "max:  7\n",
        "min:  1"
      ],
      "id": "91aa27bd"
    },
    {
      "cell_type": "code",
      "execution_count": null,
      "metadata": {
        "id": "1749882f",
        "outputId": "daac6464-76bb-4c09-e69f-82bd7afe7d78"
      },
      "outputs": [
        {
          "name": "stdout",
          "output_type": "stream",
          "text": [
            "max: 7\n",
            "min: 1\n"
          ]
        }
      ],
      "source": [
        "nums = [1, 2, 3, 4, 5, 6, 7]\n",
        "print('max:', max(nums))\n",
        "print('min:', min(nums))"
      ],
      "id": "1749882f"
    },
    {
      "cell_type": "markdown",
      "metadata": {
        "id": "f0eb7d31"
      },
      "source": [
        "다음 리스트의 합을 출력하라.\n",
        "\n",
        "nums = [1, 2, 3, 4, 5]\n",
        "실행 예:\n",
        "15"
      ],
      "id": "f0eb7d31"
    },
    {
      "cell_type": "code",
      "execution_count": null,
      "metadata": {
        "id": "813f2c1a",
        "outputId": "f1a9aae7-4947-467f-b7c2-15e514b042e8"
      },
      "outputs": [
        {
          "name": "stdout",
          "output_type": "stream",
          "text": [
            "15\n"
          ]
        }
      ],
      "source": [
        "nums = [1, 2, 3, 4, 5]\n",
        "print(sum(nums))"
      ],
      "id": "813f2c1a"
    },
    {
      "cell_type": "markdown",
      "metadata": {
        "id": "af8c5d9c"
      },
      "source": [
        "다음 리스트에 저장된 데이터의 개수를 화면에 구하하라.\n",
        "\n",
        "cook = [\"피자\", \"김밥\", \"만두\", \"양념치킨\", \"족발\", \"피자\", \"김치만두\", \"쫄면\", \"소시지\", \"라면\", \"팥빙수\", \"김치전\"]"
      ],
      "id": "af8c5d9c"
    },
    {
      "cell_type": "code",
      "execution_count": null,
      "metadata": {
        "id": "53f795af",
        "outputId": "858d0bf3-8831-4102-88b5-c69ecc0800bb"
      },
      "outputs": [
        {
          "data": {
            "text/plain": [
              "12"
            ]
          },
          "execution_count": 38,
          "metadata": {},
          "output_type": "execute_result"
        }
      ],
      "source": [
        "cook = [\"피자\", \"김밥\", \"만두\", \"양념치킨\", \"족발\", \"피자\", \"김치만두\", \"쫄면\", \"소시지\", \"라면\", \"팥빙수\", \"김치전\"]\n",
        "len(cook)"
      ],
      "id": "53f795af"
    },
    {
      "cell_type": "markdown",
      "metadata": {
        "id": "73d8d67b"
      },
      "source": [
        "다음 리스트의 평균을 출력하라.\n",
        "\n",
        "nums = [1, 2, 3, 4, 5]\n",
        "실행 예:\n",
        "3.0"
      ],
      "id": "73d8d67b"
    },
    {
      "cell_type": "code",
      "execution_count": null,
      "metadata": {
        "id": "d7e2a65e",
        "outputId": "2903de58-1939-4f32-e092-49ccde9a09dc"
      },
      "outputs": [
        {
          "name": "stdout",
          "output_type": "stream",
          "text": [
            "3.0\n"
          ]
        }
      ],
      "source": [
        "nums = [1, 2, 3, 4, 5]\n",
        "print(sum(nums)/len(nums))"
      ],
      "id": "d7e2a65e"
    },
    {
      "cell_type": "markdown",
      "metadata": {
        "id": "de2cf036"
      },
      "source": [
        "061\n",
        "price 변수에는 날짜와 종가 정보가 저장돼 있다. 날짜 정보를 제외하고 가격 정보만을 출력하라. (힌트 : 슬라이싱)\n",
        "\n",
        "price = ['20180728', 100, 130, 140, 150, 160, 170]\n",
        "출력 예시:\n",
        "[100, 130, 140, 150, 160, 170]"
      ],
      "id": "de2cf036"
    },
    {
      "cell_type": "code",
      "execution_count": null,
      "metadata": {
        "id": "49002cd6",
        "outputId": "a6ad0e4b-73d9-4b90-df4d-f4935cbffc0b"
      },
      "outputs": [
        {
          "data": {
            "text/plain": [
              "[100, 130, 140, 150, 160, 170]"
            ]
          },
          "execution_count": 40,
          "metadata": {},
          "output_type": "execute_result"
        }
      ],
      "source": [
        "price = ['20180728', 100, 130, 140, 150, 160, 170]\n",
        "price[1:]"
      ],
      "id": "49002cd6"
    },
    {
      "cell_type": "markdown",
      "metadata": {
        "id": "b011cf0e"
      },
      "source": [
        "062\n",
        "슬라이싱을 사용해서 홀수만 출력하라.\n",
        "\n",
        "nums = [1, 2, 3, 4, 5, 6, 7, 8, 9, 10]\n",
        "실행 예:\n",
        "[1, 3, 5, 7, 9]"
      ],
      "id": "b011cf0e"
    },
    {
      "cell_type": "code",
      "execution_count": null,
      "metadata": {
        "id": "6316de9f",
        "outputId": "d5b889a7-32c8-4fab-c1df-bb6f600bf81c"
      },
      "outputs": [
        {
          "data": {
            "text/plain": [
              "[1, 3, 5, 7, 9]"
            ]
          },
          "execution_count": 72,
          "metadata": {},
          "output_type": "execute_result"
        }
      ],
      "source": [
        "nums = [1, 2, 3, 4, 5, 6, 7, 8, 9, 10]\n",
        "nums[::2]"
      ],
      "id": "6316de9f"
    },
    {
      "cell_type": "markdown",
      "metadata": {
        "id": "64a6c931"
      },
      "source": [
        "063\n",
        "슬라이싱을 사용해서 짝수만 출력하라.\n",
        "\n",
        "nums = [1, 2, 3, 4, 5, 6, 7, 8, 9, 10]\n",
        "실행 예:\n",
        "[2, 4, 6, 8, 10]"
      ],
      "id": "64a6c931"
    },
    {
      "cell_type": "code",
      "execution_count": null,
      "metadata": {
        "id": "6cb229b8",
        "outputId": "60241ea3-68fa-41c2-e3cf-b39520bcec60"
      },
      "outputs": [
        {
          "data": {
            "text/plain": [
              "[2, 4, 6, 8, 10]"
            ]
          },
          "execution_count": 43,
          "metadata": {},
          "output_type": "execute_result"
        }
      ],
      "source": [
        "nums = [1, 2, 3, 4, 5, 6, 7, 8, 9, 10]\n",
        "nums[1::2]"
      ],
      "id": "6cb229b8"
    },
    {
      "cell_type": "markdown",
      "metadata": {
        "id": "57addd8d"
      },
      "source": [
        "064\n",
        "슬라이싱을 사용해서 리스트의 숫자를 역 방향으로 출력하라.\n",
        "\n",
        "nums = [1, 2, 3, 4, 5]\n",
        "실행 예:\n",
        "[5, 4, 3, 2, 1]"
      ],
      "id": "57addd8d"
    },
    {
      "cell_type": "code",
      "execution_count": null,
      "metadata": {
        "id": "d44e59b8",
        "outputId": "4e52db93-f3fc-4e51-bfde-60ad83bd0ea6"
      },
      "outputs": [
        {
          "data": {
            "text/plain": [
              "[5, 4, 3, 2, 1]"
            ]
          },
          "execution_count": 44,
          "metadata": {},
          "output_type": "execute_result"
        }
      ],
      "source": [
        "nums = [1, 2, 3, 4, 5]\n",
        "nums[::-1]"
      ],
      "id": "d44e59b8"
    },
    {
      "cell_type": "markdown",
      "metadata": {
        "id": "24c623cf"
      },
      "source": [
        "065\n",
        "interest 리스트에는 아래의 데이터가 바인딩되어 있다.\n",
        "\n",
        "interest = ['삼성전자', 'LG전자', 'Naver']\n",
        "interest 리스트를 사용하여 아래와 같이 화면에 출력하라.\n",
        "\n",
        "출력 예시:\n",
        "삼성전자 Naver"
      ],
      "id": "24c623cf"
    },
    {
      "cell_type": "code",
      "execution_count": null,
      "metadata": {
        "id": "94d88367",
        "outputId": "b433ff79-0132-4be0-c375-47e1fdf74fd3"
      },
      "outputs": [
        {
          "name": "stdout",
          "output_type": "stream",
          "text": [
            "삼성전자 Naver\n"
          ]
        }
      ],
      "source": [
        "interest = ['삼성전자', 'LG전자', 'Naver']\n",
        "print(interest[0], interest[2])"
      ],
      "id": "94d88367"
    },
    {
      "cell_type": "markdown",
      "metadata": {
        "id": "64dd3237"
      },
      "source": [
        "066 join 메서드\n",
        "interest 리스트에는 아래의 데이터가 바인딩되어 있다.\n",
        "\n",
        "interest = ['삼성전자', 'LG전자', 'Naver', 'SK하이닉스', '미래에셋대우']\n",
        "interest 리스트를 사용하여 아래와 같이 화면에 출력하라.\n",
        "\n",
        "출력 예시:\n",
        "삼성전자 LG전자 Naver SK하이닉스 미래에셋대우"
      ],
      "id": "64dd3237"
    },
    {
      "cell_type": "code",
      "execution_count": null,
      "metadata": {
        "id": "064d6763",
        "outputId": "daa23471-5dd7-4ad6-b469-0311b3f4a2b9"
      },
      "outputs": [
        {
          "name": "stdout",
          "output_type": "stream",
          "text": [
            "삼성전자 LG전자 Naver SK하이닉스 미래에셋대우\n"
          ]
        }
      ],
      "source": [
        "interest = ['삼성전자', 'LG전자', 'Naver', 'SK하이닉스', '미래에셋대우']\n",
        "a = ' '.join(interest)\n",
        "print(a)"
      ],
      "id": "064d6763"
    },
    {
      "cell_type": "markdown",
      "metadata": {
        "id": "acf174b6"
      },
      "source": [
        "067 join 메서드\n",
        "interest 리스트에는 아래의 데이터가 바인딩되어 있다.\n",
        "\n",
        "interest = ['삼성전자', 'LG전자', 'Naver', 'SK하이닉스', '미래에셋대우']\n",
        "interest 리스트를 사용하여 아래와 같이 화면에 출력하라.\n",
        "\n",
        "출력 예시:\n",
        "삼성전자/LG전자/Naver/SK하이닉스/미래에셋대우"
      ],
      "id": "acf174b6"
    },
    {
      "cell_type": "code",
      "execution_count": null,
      "metadata": {
        "id": "ff91e2f1",
        "outputId": "7e814a2d-9e14-4325-fb93-ef4246dc4de4"
      },
      "outputs": [
        {
          "data": {
            "text/plain": [
              "'삼성전자/LG전자/Naver/SK하이닉스/미래에셋대우'"
            ]
          },
          "execution_count": 75,
          "metadata": {},
          "output_type": "execute_result"
        }
      ],
      "source": [
        "interest = ['삼성전자', 'LG전자', 'Naver', 'SK하이닉스', '미래에셋대우']\n",
        "a = '/'.join(interest)\n",
        "a"
      ],
      "id": "ff91e2f1"
    },
    {
      "cell_type": "markdown",
      "metadata": {
        "id": "65370907"
      },
      "source": [
        "068 join 메서드\n",
        "interest 리스트에는 아래의 데이터가 바인딩되어 있다.\n",
        "\n",
        "interest = ['삼성전자', 'LG전자', 'Naver', 'SK하이닉스', '미래에셋대우']\n",
        "join() 메서드를 사용해서 interest 리스트를 아래와 같이 화면에 출력하라.\n",
        "\n",
        "출력 예시:\n",
        "삼성전자\n",
        "LG전자\n",
        "Naver\n",
        "SK하이닉스\n",
        "미래에셋대우"
      ],
      "id": "65370907"
    },
    {
      "cell_type": "code",
      "execution_count": null,
      "metadata": {
        "id": "1eb7738d",
        "outputId": "25ec8ab0-67eb-4e23-a391-bcc9593f8a3f"
      },
      "outputs": [
        {
          "name": "stdout",
          "output_type": "stream",
          "text": [
            "삼성전자\n",
            "LG전자\n",
            "Naver\n",
            "SK하이닉스\n",
            "미래에셋대우\n"
          ]
        }
      ],
      "source": [
        "interest = ['삼성전자', 'LG전자', 'Naver', 'SK하이닉스', '미래에셋대우']\n",
        "a = '\\n'.join(interest)\n",
        "print(a)"
      ],
      "id": "1eb7738d"
    },
    {
      "cell_type": "markdown",
      "metadata": {
        "id": "3fe21957"
      },
      "source": [
        "069 문자열 split 메서드\n",
        "회사 이름이 슬래시 ('/')로 구분되어 하나의 문자열로 저장되어 있다.\n",
        "\n",
        "string = \"삼성전자/LG전자/Naver\"\n",
        "이를 interest 이름의 리스트로 분리 저장하라.\n",
        "\n",
        "실행 예시\n",
        ">> print(interest)\n",
        "['삼성전자', 'LG전자', 'Naver']"
      ],
      "id": "3fe21957"
    },
    {
      "cell_type": "code",
      "execution_count": null,
      "metadata": {
        "id": "a758009c",
        "outputId": "41e8fa23-ce52-4f69-ba86-cf7061f88c5a"
      },
      "outputs": [
        {
          "data": {
            "text/plain": [
              "['삼성전자', 'LG전자', 'Naver']"
            ]
          },
          "execution_count": 65,
          "metadata": {},
          "output_type": "execute_result"
        }
      ],
      "source": [
        "string = \"삼성전자/LG전자/Naver\"\n",
        "interest = string.split('/')\n",
        "interest"
      ],
      "id": "a758009c"
    },
    {
      "cell_type": "markdown",
      "metadata": {
        "id": "69709872"
      },
      "source": [
        "070 리스트 정렬\n",
        "리스트에 있는 값을 오름차순으로 정렬하세요.\n",
        "\n",
        "data = [2, 4, 3, 1, 5, 10, 9]"
      ],
      "id": "69709872"
    },
    {
      "cell_type": "code",
      "execution_count": null,
      "metadata": {
        "id": "09986090",
        "outputId": "638c6bc3-d187-4f18-a004-cac69493d066"
      },
      "outputs": [
        {
          "data": {
            "text/plain": [
              "[1, 2, 3, 4, 5, 9, 10]"
            ]
          },
          "execution_count": 66,
          "metadata": {},
          "output_type": "execute_result"
        }
      ],
      "source": [
        "data = [2, 4, 3, 1, 5, 10, 9]\n",
        "data.sort()\n",
        "data"
      ],
      "id": "09986090"
    },
    {
      "cell_type": "code",
      "execution_count": null,
      "metadata": {
        "id": "204e2e57",
        "outputId": "b7f0ffde-ad78-49fc-c034-d7570a895d9d"
      },
      "outputs": [
        {
          "name": "stdout",
          "output_type": "stream",
          "text": [
            "[1, 2, 3, 4, 5, 9, 10]\n",
            "[1, 2, 3, 4, 5, 9, 10]\n"
          ]
        }
      ],
      "source": [
        "# 정답확인\n",
        "data = [2, 4, 3, 1, 5, 10, 9]\n",
        "data.sort()\n",
        "print(data)\n",
        "\n",
        "data = [2, 4, 3, 1, 5, 10, 9]\n",
        "data2 = sorted(data)\n",
        "print(data2)"
      ],
      "id": "204e2e57"
    },
    {
      "cell_type": "markdown",
      "metadata": {
        "id": "63820d84"
      },
      "source": [
        "## 05. 파이썬 튜플"
      ],
      "id": "63820d84"
    },
    {
      "cell_type": "markdown",
      "metadata": {
        "id": "3b9fb8ce"
      },
      "source": [
        "071\n",
        "my_variable 이름의 비어있는 튜플을 만들라."
      ],
      "id": "3b9fb8ce"
    },
    {
      "cell_type": "code",
      "execution_count": null,
      "metadata": {
        "colab": {
          "base_uri": "https://localhost:8080/"
        },
        "id": "24846be2",
        "outputId": "ce9115e6-c188-4156-9c36-daa75df897ba"
      },
      "outputs": [
        {
          "name": "stdout",
          "output_type": "stream",
          "text": [
            "<class 'tuple'>\n"
          ]
        },
        {
          "data": {
            "text/plain": [
              "()"
            ]
          },
          "execution_count": 6,
          "metadata": {},
          "output_type": "execute_result"
        }
      ],
      "source": [
        "a = ()\n",
        "print(type(a))\n",
        "a"
      ],
      "id": "24846be2"
    },
    {
      "cell_type": "markdown",
      "metadata": {
        "id": "42586217"
      },
      "source": [
        "072\n",
        "2016년 11월 영화 예매 순위 기준 top3는 다음과 같다. 영화 제목을 movie_rank 이름의 튜플에 저장하라. (순위 정보는 저장하지 않는다.)\n",
        "\n",
        "순위\t영화\n",
        "1\t닥터 스트레인지\n",
        "2\t스플릿\n",
        "3\t럭키"
      ],
      "id": "42586217"
    },
    {
      "cell_type": "code",
      "execution_count": null,
      "metadata": {
        "colab": {
          "base_uri": "https://localhost:8080/"
        },
        "id": "935a5dc5",
        "outputId": "caab8590-5ecc-483c-c641-6488bc15a6bd"
      },
      "outputs": [
        {
          "data": {
            "text/plain": [
              "('닥터 스트레이저', '스플릿', '럭키')"
            ]
          },
          "execution_count": 2,
          "metadata": {},
          "output_type": "execute_result"
        }
      ],
      "source": [
        "movie_rank = ('닥터 스트레이저', '스플릿', '럭키')\n",
        "movie_rank"
      ],
      "id": "935a5dc5"
    },
    {
      "cell_type": "markdown",
      "metadata": {
        "id": "06a29451"
      },
      "source": [
        "073\n",
        "숫자 1 이 저장된 튜플을 생성하라."
      ],
      "id": "06a29451"
    },
    {
      "cell_type": "code",
      "execution_count": null,
      "metadata": {
        "colab": {
          "base_uri": "https://localhost:8080/"
        },
        "id": "b164d7bb",
        "outputId": "4fe3e9cd-2d33-4379-bbc7-e46de7b08623"
      },
      "outputs": [
        {
          "name": "stdout",
          "output_type": "stream",
          "text": [
            "<class 'tuple'>\n"
          ]
        },
        {
          "data": {
            "text/plain": [
              "(1,)"
            ]
          },
          "execution_count": 8,
          "metadata": {},
          "output_type": "execute_result"
        }
      ],
      "source": [
        "a = (1,)\n",
        "print(type(a))\n",
        "a"
      ],
      "id": "b164d7bb"
    },
    {
      "cell_type": "markdown",
      "metadata": {
        "id": "18692a6f"
      },
      "source": [
        "074\n",
        "다음 코드를 실행해보고 오류가 발생하는 원인을 설명하라.\n",
        "\n",
        ">> t = (1, 2, 3)\n",
        ">> t[0] = 'a'\n",
        "Traceback (most recent call last):\n",
        "  File \"<pyshell#46>\", line 1, in <module>\n",
        "    t[0] = 'a'\n",
        "TypeError: 'tuple' object does not support item assignment"
      ],
      "id": "18692a6f"
    },
    {
      "cell_type": "code",
      "execution_count": null,
      "metadata": {
        "colab": {
          "base_uri": "https://localhost:8080/",
          "height": 193
        },
        "id": "d1ce837f",
        "outputId": "7d59e96d-fc9e-42d4-a4d8-6daf5a5f789a"
      },
      "outputs": [
        {
          "ename": "TypeError",
          "evalue": "ignored",
          "output_type": "error",
          "traceback": [
            "\u001b[0;31m---------------------------------------------------------------------------\u001b[0m",
            "\u001b[0;31mTypeError\u001b[0m                                 Traceback (most recent call last)",
            "\u001b[0;32m<ipython-input-9-806afe5c5ecf>\u001b[0m in \u001b[0;36m<module>\u001b[0;34m\u001b[0m\n\u001b[1;32m      1\u001b[0m \u001b[0mt\u001b[0m \u001b[0;34m=\u001b[0m \u001b[0;34m(\u001b[0m\u001b[0;36m1\u001b[0m\u001b[0;34m,\u001b[0m \u001b[0;36m2\u001b[0m\u001b[0;34m,\u001b[0m \u001b[0;36m3\u001b[0m\u001b[0;34m)\u001b[0m\u001b[0;34m\u001b[0m\u001b[0;34m\u001b[0m\u001b[0m\n\u001b[0;32m----> 2\u001b[0;31m \u001b[0mt\u001b[0m\u001b[0;34m[\u001b[0m\u001b[0;36m0\u001b[0m\u001b[0;34m]\u001b[0m \u001b[0;34m=\u001b[0m \u001b[0;34m'a'\u001b[0m      \u001b[0;31m# 튜플은 자료를 수정 할 수 없다\u001b[0m\u001b[0;34m\u001b[0m\u001b[0;34m\u001b[0m\u001b[0m\n\u001b[0m",
            "\u001b[0;31mTypeError\u001b[0m: 'tuple' object does not support item assignment"
          ]
        }
      ],
      "source": [
        "t = (1, 2, 3)\n",
        "t[0] = 'a'      # 튜플은 자료를 수정 할 수 없다"
      ],
      "id": "d1ce837f"
    },
    {
      "cell_type": "markdown",
      "metadata": {
        "id": "77740f91"
      },
      "source": [
        "075\n",
        "아래와 같이 t에는 1, 2, 3, 4 데이터가 바인딩되어 있다. t가 바인딩하는 데이터 타입은 무엇인가?\n",
        "\n",
        "t = 1, 2, 3, 4"
      ],
      "id": "77740f91"
    },
    {
      "cell_type": "code",
      "execution_count": null,
      "metadata": {
        "colab": {
          "base_uri": "https://localhost:8080/"
        },
        "id": "f105fac7",
        "outputId": "b0618798-90f2-47ca-8a07-834d1acdc776"
      },
      "outputs": [
        {
          "name": "stdout",
          "output_type": "stream",
          "text": [
            "<class 'tuple'>\n"
          ]
        }
      ],
      "source": [
        "t = 1, 2, 3, 4\n",
        "print(type(t))   # tuple"
      ],
      "id": "f105fac7"
    },
    {
      "cell_type": "markdown",
      "metadata": {
        "id": "530cc1a3"
      },
      "source": [
        "076\n",
        "변수 t에는 아래와 같은 값이 저장되어 있다. 변수 t가 ('A', 'b', 'c') 튜플을 가리키도록 수정 하라.\n",
        "\n",
        "t = ('a', 'b', 'c')"
      ],
      "id": "530cc1a3"
    },
    {
      "cell_type": "code",
      "execution_count": null,
      "metadata": {
        "colab": {
          "base_uri": "https://localhost:8080/"
        },
        "id": "82363c4f",
        "outputId": "4966c8d8-b040-4833-c4de-807918fd7700"
      },
      "outputs": [
        {
          "data": {
            "text/plain": [
              "('A', 'b', 'c')"
            ]
          },
          "execution_count": 11,
          "metadata": {},
          "output_type": "execute_result"
        }
      ],
      "source": [
        "t = ('a', 'b', 'c')\n",
        "T = ('A', 'b', 'c')\n",
        "t = T\n",
        "t"
      ],
      "id": "82363c4f"
    },
    {
      "cell_type": "markdown",
      "metadata": {
        "id": "e367fd55"
      },
      "source": [
        "077\n",
        "다음 튜플을 리스트로 변환하라.\n",
        "\n",
        "interest = ('삼성전자', 'LG전자', 'SK Hynix')"
      ],
      "id": "e367fd55"
    },
    {
      "cell_type": "code",
      "execution_count": null,
      "metadata": {
        "colab": {
          "base_uri": "https://localhost:8080/"
        },
        "id": "bbe26cf5",
        "outputId": "c6fd7cf5-3914-4caf-bb92-ba1debd13108"
      },
      "outputs": [
        {
          "name": "stdout",
          "output_type": "stream",
          "text": [
            "<class 'list'>\n",
            "['삼성전자', 'LG전자', 'SK Hynix']\n"
          ]
        }
      ],
      "source": [
        "interest = ('삼성전자', 'LG전자', 'SK Hynix')\n",
        "interest = list(interest)\n",
        "print(type(interest))\n",
        "print(interest)"
      ],
      "id": "bbe26cf5"
    },
    {
      "cell_type": "markdown",
      "metadata": {
        "id": "9200a085"
      },
      "source": [
        "078\n",
        "다음 리스트를 튜플로 변경하라.\n",
        "\n",
        "interest = ['삼성전자', 'LG전자', 'SK Hynix']"
      ],
      "id": "9200a085"
    },
    {
      "cell_type": "code",
      "execution_count": null,
      "metadata": {
        "colab": {
          "base_uri": "https://localhost:8080/"
        },
        "id": "80d2e49d",
        "outputId": "c4edf80a-b495-408f-d5af-8b759b9a2fc2"
      },
      "outputs": [
        {
          "name": "stdout",
          "output_type": "stream",
          "text": [
            "<class 'tuple'>\n",
            "('삼성전자', 'LG전자', 'SK Hynix')\n"
          ]
        }
      ],
      "source": [
        "interest = ['삼성전자', 'LG전자', 'SK Hynix']\n",
        "interest = tuple(interest)\n",
        "print(type(interest))\n",
        "print(interest)"
      ],
      "id": "80d2e49d"
    },
    {
      "cell_type": "markdown",
      "metadata": {
        "id": "e928a018"
      },
      "source": [
        "079 튜플 언팩킹\n",
        "다음 코드의 실행 결과를 예상하라.\n",
        "\n",
        "temp = ('apple', 'banana', 'cake')\n",
        "a, b, c = temp\n",
        "print(a, b, c)"
      ],
      "id": "e928a018"
    },
    {
      "cell_type": "code",
      "execution_count": null,
      "metadata": {
        "colab": {
          "base_uri": "https://localhost:8080/"
        },
        "id": "632aa6f7",
        "outputId": "14d698ca-0f9c-49a3-fe43-a0bb98d5a43a"
      },
      "outputs": [
        {
          "name": "stdout",
          "output_type": "stream",
          "text": [
            "apple banana cake\n"
          ]
        }
      ],
      "source": [
        "temp = ('apple', 'banana', 'cake')\n",
        "a, b, c = temp\n",
        "print(a, b, c)    # apple banana cake"
      ],
      "id": "632aa6f7"
    },
    {
      "cell_type": "markdown",
      "metadata": {
        "id": "b1809866"
      },
      "source": [
        "080 range 함수\n",
        "1 부터 99까지의 정수 중 짝수만 저장된 튜플을 생성하라.\n",
        "\n",
        "(2, 4, 6, 8 ... 98)"
      ],
      "id": "b1809866"
    },
    {
      "cell_type": "code",
      "execution_count": null,
      "metadata": {
        "colab": {
          "base_uri": "https://localhost:8080/"
        },
        "id": "6a29daca",
        "outputId": "7fa7f1b7-f3bc-41a3-879d-ab13386559ad"
      },
      "outputs": [
        {
          "data": {
            "text/plain": [
              "tuple"
            ]
          },
          "execution_count": 27,
          "metadata": {},
          "output_type": "execute_result"
        }
      ],
      "source": [
        "a = tuple(range(0,100,2))\n",
        "type(a)"
      ],
      "id": "6a29daca"
    },
    {
      "cell_type": "markdown",
      "metadata": {
        "id": "16df3d28"
      },
      "source": [
        "## 06. 파이썬 딕셔너리"
      ],
      "id": "16df3d28"
    },
    {
      "cell_type": "markdown",
      "metadata": {
        "id": "2f519998"
      },
      "source": [
        "081 별 표현식\n",
        "기본적으로 데이터 언패킹은 좌변의 변수와 우변 데이터 개수가 같아야 합니다. 하지만 star expression을 사용하면 변수의 개수가 달라도 데이터 언패킹을 할 수 있습니다. 튜플에 저장된 데이터 중에서 앞에 있는 두 개의 데이터만 필요할 경우 나머지 데이터의 언패킹 코드를 작성할 필요가 없습니다.\n",
        "\n",
        ">> a, b, *c = (0, 1, 2, 3, 4, 5)\n",
        ">> a\n",
        "0\n",
        ">> b\n",
        "1\n",
        ">> c\n",
        "[2, 3, 4, 5]\n",
        "다음과 같이 10개의 값이 저장된 scores 리스트가 있을 때, start expression을 사용하여 좌측 8개의 값을 valid_score 변수에 바인딩하여라.\n",
        "\n",
        "*scores = [8.8, 8.9, 8.7, 9.2, 9.3, 9.7, 9.9, 9.5, 7.8, 9.4]\n"
      ],
      "id": "2f519998"
    },
    {
      "cell_type": "code",
      "execution_count": null,
      "metadata": {
        "colab": {
          "base_uri": "https://localhost:8080/"
        },
        "id": "f59fc873",
        "outputId": "aa343b38-26e3-4eb6-92a2-305043163d21"
      },
      "outputs": [
        {
          "name": "stdout",
          "output_type": "stream",
          "text": [
            "[8.8, 8.9, 8.7, 9.2, 9.3, 9.7, 9.9, 9.5] 7.8 9.4\n"
          ]
        }
      ],
      "source": [
        "scores = [8.8, 8.9, 8.7, 9.2, 9.3, 9.7, 9.9, 9.5, 7.8, 9.4]\n",
        "*valid_score, d, e = scores\n",
        "print(valid_score, d, e)"
      ],
      "id": "f59fc873"
    },
    {
      "cell_type": "markdown",
      "metadata": {
        "id": "a39eae56"
      },
      "source": [
        "082\n",
        "다음과 같이 10개의 값이 저장된 scores 리스트가 있을 때, start expression을 사용하여 우측 8개의 값을 valid_score 변수에 바인딩하여라.\n",
        "\n",
        "scores = [8.8, 8.9, 8.7, 9.2, 9.3, 9.7, 9.9, 9.5, 7.8, 9.4]"
      ],
      "id": "a39eae56"
    },
    {
      "cell_type": "code",
      "execution_count": null,
      "metadata": {
        "colab": {
          "base_uri": "https://localhost:8080/"
        },
        "id": "331d4293",
        "outputId": "5ed917cf-5faa-46ab-fa85-66ff109343ce"
      },
      "outputs": [
        {
          "name": "stdout",
          "output_type": "stream",
          "text": [
            "[8.7, 9.2, 9.3, 9.7, 9.9, 9.5, 7.8, 9.4] 8.8 8.9\n"
          ]
        }
      ],
      "source": [
        "scores = [8.8, 8.9, 8.7, 9.2, 9.3, 9.7, 9.9, 9.5, 7.8, 9.4]\n",
        "a, b, *valid_score = scores\n",
        "print(valid_score, a, b)"
      ],
      "id": "331d4293"
    },
    {
      "cell_type": "markdown",
      "metadata": {
        "id": "32b5d84f"
      },
      "source": [
        "083\n",
        "다음과 같이 10개의 값이 저장된 scores 리스트가 있을 때, start expression을 사용하여 가운데 있는 8개의 값을 valid_score 변수에 바인딩하여라.\n",
        "\n",
        "scores = [8.8, 8.9, 8.7, 9.2, 9.3, 9.7, 9.9, 9.5, 7.8, 9.4]"
      ],
      "id": "32b5d84f"
    },
    {
      "cell_type": "code",
      "execution_count": null,
      "metadata": {
        "colab": {
          "base_uri": "https://localhost:8080/"
        },
        "id": "b1dfd1b2",
        "outputId": "1ce5876c-d91f-4347-be6c-73a17d2fff60"
      },
      "outputs": [
        {
          "name": "stdout",
          "output_type": "stream",
          "text": [
            "[8.9, 8.7, 9.2, 9.3, 9.7, 9.9, 9.5, 7.8] 8.8 9.4\n"
          ]
        }
      ],
      "source": [
        "scores = [8.8, 8.9, 8.7, 9.2, 9.3, 9.7, 9.9, 9.5, 7.8, 9.4]\n",
        "a, *valid_score, b = scores\n",
        "print(valid_score, a, b)"
      ],
      "id": "b1dfd1b2"
    },
    {
      "cell_type": "markdown",
      "metadata": {
        "id": "aeb8a61c"
      },
      "source": [
        "084 비어있는 딕셔너리\n",
        "temp 이름의 비어있는 딕셔너리를 만들라."
      ],
      "id": "aeb8a61c"
    },
    {
      "cell_type": "code",
      "execution_count": null,
      "metadata": {
        "colab": {
          "base_uri": "https://localhost:8080/"
        },
        "id": "1d6746f7",
        "outputId": "1ae3a40d-ce48-41f6-854a-07014b2cca0c"
      },
      "outputs": [
        {
          "data": {
            "text/plain": [
              "dict"
            ]
          },
          "execution_count": 35,
          "metadata": {},
          "output_type": "execute_result"
        }
      ],
      "source": [
        "a = {}\n",
        "type(a)"
      ],
      "id": "1d6746f7"
    },
    {
      "cell_type": "markdown",
      "metadata": {
        "id": "20aa89d0"
      },
      "source": [
        "085\n",
        "다음 아이스크림 이름과 희망 가격을 딕셔너리로 구성하라.\n",
        "\n",
        "이름\t희망 가격\n",
        "메로나\t1000\n",
        "폴라포\t1200\n",
        "빵빠레\t1800"
      ],
      "id": "20aa89d0"
    },
    {
      "cell_type": "code",
      "execution_count": null,
      "metadata": {
        "colab": {
          "base_uri": "https://localhost:8080/"
        },
        "id": "c5f677d7",
        "outputId": "82273fa4-0a4c-4662-b6f6-35be8f4e4b7a"
      },
      "outputs": [
        {
          "name": "stdout",
          "output_type": "stream",
          "text": [
            "{'메로나': 1000, '폴라포': 1200, '빵빠레': 1800}\n",
            "<class 'dict'>\n"
          ]
        }
      ],
      "source": [
        "a = {'메로나':1000, '폴라포':1200, '빵빠레' :1800}\n",
        "print(a)\n",
        "print(type(a))"
      ],
      "id": "c5f677d7"
    },
    {
      "cell_type": "markdown",
      "metadata": {
        "id": "f1000ca8"
      },
      "source": [
        "086\n",
        "085 번의 딕셔너리에 아래 아이스크림 가격정보를 추가하라.\n",
        "\n",
        "이름\t희망 가격\n",
        "죠스바\t1200\n",
        "월드콘\t1500"
      ],
      "id": "f1000ca8"
    },
    {
      "cell_type": "code",
      "execution_count": null,
      "metadata": {
        "colab": {
          "base_uri": "https://localhost:8080/"
        },
        "id": "22c2b7ca",
        "outputId": "5c682cb3-88d6-48e2-aa30-578fd6c31218"
      },
      "outputs": [
        {
          "name": "stdout",
          "output_type": "stream",
          "text": [
            "이름    희망가격\n",
            "죠스바    1200\n",
            "월드콘    1500\n"
          ]
        }
      ],
      "source": [
        "a = {'죠스바':1200, '월드콘':1500}\n",
        "print('이름    희망가격\\n죠스바    {}\\n월드콘    {}'.format(a.get('죠스바'), a.get('월드콘')))"
      ],
      "id": "22c2b7ca"
    },
    {
      "cell_type": "markdown",
      "metadata": {
        "id": "d74899ad"
      },
      "source": [
        "087\n",
        "다음 딕셔너리를 사용하여 메로나 가격을 출력하라.\n",
        "\n",
        "ice = {'메로나': 1000,\n",
        "       '폴로포': 1200,\n",
        "       '빵빠레': 1800,\n",
        "       '죠스바': 1200,\n",
        "       '월드콘': 1500}\n",
        "실행 예:\n",
        "메로나 가격: 1000"
      ],
      "id": "d74899ad"
    },
    {
      "cell_type": "code",
      "execution_count": null,
      "metadata": {
        "colab": {
          "base_uri": "https://localhost:8080/"
        },
        "id": "0b621180",
        "outputId": "d41ceac5-79a5-49d1-d860-86755bc0b281"
      },
      "outputs": [
        {
          "name": "stdout",
          "output_type": "stream",
          "text": [
            "메로나 가격 : 1000\n"
          ]
        }
      ],
      "source": [
        "ice = {'메로나': 1000, '폴로포': 1200, '빵빠레': 1800, '죠스바': 1200, '월드콘': 1500}\n",
        "print('메로나 가격 : {}'.format(ice.get('메로나')))"
      ],
      "id": "0b621180"
    },
    {
      "cell_type": "markdown",
      "metadata": {
        "id": "fc3ef8d3"
      },
      "source": [
        "088\n",
        "다음 딕셔너리에서 메로나의 가격을 1300으로 수정하라.\n",
        "\n",
        "ice = {'메로나': 1000,\n",
        "       '폴로포': 1200,\n",
        "       '빵빠레': 1800,\n",
        "       '죠스바': 1200,\n",
        "       '월드콘': 1500}"
      ],
      "id": "fc3ef8d3"
    },
    {
      "cell_type": "code",
      "execution_count": null,
      "metadata": {
        "colab": {
          "base_uri": "https://localhost:8080/"
        },
        "id": "3bcfb736",
        "outputId": "c6d74974-d39d-4445-8901-8d41d3d19b87"
      },
      "outputs": [
        {
          "data": {
            "text/plain": [
              "{'메로나': 1300, '폴로포': 1200, '빵빠레': 1800, '죠스바': 1200, '월드콘': 1500}"
            ]
          },
          "execution_count": 60,
          "metadata": {},
          "output_type": "execute_result"
        }
      ],
      "source": [
        "ice = {'메로나': 1000, '폴로포': 1200, '빵빠레': 1800, '죠스바': 1200, '월드콘': 1500}\n",
        "ice.update(메로나=1300)\n",
        "ice"
      ],
      "id": "3bcfb736"
    },
    {
      "cell_type": "markdown",
      "metadata": {
        "id": "1c139e7e"
      },
      "source": [
        "089\n",
        "다음 딕셔너리에서 메로나를 삭제하라.\n",
        "\n",
        "ice = {'메로나': 1000,\n",
        "       '폴로포': 1200,\n",
        "       '빵빠레': 1800,\n",
        "       '죠스바': 1200,\n",
        "       '월드콘': 1500}"
      ],
      "id": "1c139e7e"
    },
    {
      "cell_type": "code",
      "execution_count": null,
      "metadata": {
        "id": "b18e560f"
      },
      "outputs": [],
      "source": [],
      "id": "b18e560f"
    },
    {
      "cell_type": "markdown",
      "metadata": {
        "id": "2736b2f6"
      },
      "source": [
        "090\n",
        "다음 코드에서 에러가 발생한 원인을 설명하라.\n",
        "\n",
        ">> icecream = {'폴라포': 1200, '빵빠레': 1800, '월드콘': 1500, '메로나': 1000}\n",
        ">> icecream['누가바']\n",
        "Traceback (most recent call last):\n",
        "  File \"<pyshell#69>\", line 1, in <module>\n",
        "    icecream['누가바']\n",
        "KeyError: '누가바'"
      ],
      "id": "2736b2f6"
    },
    {
      "cell_type": "code",
      "execution_count": null,
      "metadata": {
        "id": "03d01d53"
      },
      "outputs": [],
      "source": [],
      "id": "03d01d53"
    },
    {
      "cell_type": "markdown",
      "metadata": {
        "id": "20a17c38"
      },
      "source": [
        "091 딕셔너리 생성\n",
        "아래의 표에서, 아이스크림 이름을 키값으로, (가격, 재고) 리스트를 딕셔너리의 값으로 저장하라. 딕셔너리의 이름은 inventory로 한다.\n",
        "\n",
        "이름\t가격\t재고\n",
        "메로나\t300\t20\n",
        "비비빅\t400\t3\n",
        "죠스바\t250\t100"
      ],
      "id": "20a17c38"
    },
    {
      "cell_type": "code",
      "execution_count": null,
      "metadata": {
        "id": "78b4ef92"
      },
      "outputs": [],
      "source": [],
      "id": "78b4ef92"
    },
    {
      "cell_type": "markdown",
      "metadata": {
        "id": "cbd42220"
      },
      "source": [
        "092 딕셔너리 인덱싱\n",
        "inventory 딕셔너리에서 메로나의 가격을 화면에 출력하라.\n",
        "\n",
        "inventory = {\"메로나\": [300, 20],\n",
        "              \"비비빅\": [400, 3],\n",
        "              \"죠스바\": [250, 100]}\n",
        "실행 예시:\n",
        "300 원"
      ],
      "id": "cbd42220"
    },
    {
      "cell_type": "code",
      "execution_count": null,
      "metadata": {
        "id": "fad4a43e"
      },
      "outputs": [],
      "source": [],
      "id": "fad4a43e"
    },
    {
      "cell_type": "markdown",
      "metadata": {
        "id": "38668fc3"
      },
      "source": [
        "093 딕셔너리 인덱싱\n",
        "inventory 딕셔너리에서 메로나의 재고를 화면에 출력하라.\n",
        "\n",
        "inventory = {\"메로나\": [300, 20],\n",
        "              \"비비빅\": [400, 3],\n",
        "              \"죠스바\": [250, 100]}\n",
        "실행 예시:\n",
        "20 개"
      ],
      "id": "38668fc3"
    },
    {
      "cell_type": "code",
      "execution_count": null,
      "metadata": {
        "id": "e6248873"
      },
      "outputs": [],
      "source": [],
      "id": "e6248873"
    },
    {
      "cell_type": "markdown",
      "metadata": {
        "id": "19382f3b"
      },
      "source": [
        "094 딕셔너리 추가\n",
        "inventory 딕셔너리에 아래 데이터를 추가하라.\n",
        "\n",
        "inventory = {\"메로나\": [300, 20],\n",
        "              \"비비빅\": [400, 3],\n",
        "              \"죠스바\": [250, 100]}\n",
        "이름\t가격\t재고\n",
        "월드콘\t500\t7\n",
        "실행 예시:\n",
        ">> print(inventory)\n",
        "{'메로나': [300, 20], '비비빅': [400, 3], '죠스바': [250, 100], '월드콘': [500, 7]}"
      ],
      "id": "19382f3b"
    },
    {
      "cell_type": "code",
      "execution_count": null,
      "metadata": {
        "id": "5b4ee47c"
      },
      "outputs": [],
      "source": [],
      "id": "5b4ee47c"
    },
    {
      "cell_type": "markdown",
      "metadata": {
        "id": "e84df8e6"
      },
      "source": [
        "095 딕셔너리 keys() 메서드\n",
        "다음의 딕셔너리로부터 key 값으로만 구성된 리스트를 생성하라.\n",
        "\n",
        "icecream = {'탱크보이': 1200, '폴라포': 1200, '빵빠레': 1800, '월드콘': 1500, '메로나': 1000}"
      ],
      "id": "e84df8e6"
    },
    {
      "cell_type": "code",
      "execution_count": null,
      "metadata": {
        "id": "bf725ee8"
      },
      "outputs": [],
      "source": [],
      "id": "bf725ee8"
    },
    {
      "cell_type": "markdown",
      "metadata": {
        "id": "1384b132"
      },
      "source": [
        "096 딕셔너리 values() 메서드\n",
        "다음의 딕셔너리에서 values 값으로만 구성된 리스트를 생성하라.\n",
        "\n",
        "icecream = {'탱크보이': 1200, '폴라포': 1200, '빵빠레': 1800, '월드콘': 1500, '메로나': 1000}"
      ],
      "id": "1384b132"
    },
    {
      "cell_type": "code",
      "execution_count": null,
      "metadata": {
        "id": "a92780d2"
      },
      "outputs": [],
      "source": [],
      "id": "a92780d2"
    },
    {
      "cell_type": "markdown",
      "metadata": {
        "id": "e8748a51"
      },
      "source": [
        "097 딕셔너리 values() 메서드\n",
        "icecream 딕셔너리에서 아이스크림 판매 금액의 총합을 출력하라.\n",
        "\n",
        "icecream = {'탱크보이': 1200, '폴라포': 1200, '빵빠레': 1800, '월드콘': 1500, '메로나': 1000}\n",
        "출력 예시:\n",
        "6700"
      ],
      "id": "e8748a51"
    },
    {
      "cell_type": "code",
      "execution_count": null,
      "metadata": {
        "id": "4f7e23f4"
      },
      "outputs": [],
      "source": [],
      "id": "4f7e23f4"
    },
    {
      "cell_type": "markdown",
      "metadata": {
        "id": "e28090d3"
      },
      "source": [
        "098 딕셔너리 update 메서드\n",
        "아래의 new_product 딕셔너리를 다음 icecream 딕셔너리에 추가하라.\n",
        "\n",
        "icecream = {'탱크보이': 1200, '폴라포': 1200, '빵빠레': 1800, '월드콘': 1500, '메로나': 1000}\n",
        "new_product = {'팥빙수':2700, '아맛나':1000}\n",
        "실행 예시:\n",
        ">> print(icecream)\n",
        "{'탱크보이': 1200,  '폴라포': 1200,  '빵빠레': 1800,  '월드콘': 1500,  '메로나': 1000,  '팥빙수':2700, '아맛나':1000}"
      ],
      "id": "e28090d3"
    },
    {
      "cell_type": "code",
      "execution_count": null,
      "metadata": {
        "id": "0fc23d46"
      },
      "outputs": [],
      "source": [],
      "id": "0fc23d46"
    },
    {
      "cell_type": "markdown",
      "metadata": {
        "id": "631b3035"
      },
      "source": [
        "099 zip과 dict\n",
        "아래 두 개의 튜플을 하나의 딕셔너리로 변환하라. keys를 키로, vals를 값으로 result 이름의 딕셔너리로 저장한다.\n",
        "\n",
        "keys = (\"apple\", \"pear\", \"peach\")\n",
        "vals = (300, 250, 400)\n",
        "실행 예시:\n",
        ">> print(result)\n",
        "{'apple': 300, 'pear': 250, 'peach': 400}"
      ],
      "id": "631b3035"
    },
    {
      "cell_type": "code",
      "execution_count": null,
      "metadata": {
        "id": "f1dd042e"
      },
      "outputs": [],
      "source": [],
      "id": "f1dd042e"
    },
    {
      "cell_type": "markdown",
      "metadata": {
        "id": "b17aba86"
      },
      "source": [
        "100 zip과 dict\n",
        "date와 close_price 두 개의 리스트를 close_table 이름의 딕셔너리로 생성하라.\n",
        "\n",
        "date = ['09/05', '09/06', '09/07', '09/08', '09/09']\n",
        "close_price = [10500, 10300, 10100, 10800, 11000]\n",
        "실행 예시:\n",
        ">> print(close_table)\n",
        "{'09/05': 10500, '09/06': 10300, '09/07': 10100, '09/08': 10800, '09/09': 11000}"
      ],
      "id": "b17aba86"
    },
    {
      "cell_type": "code",
      "execution_count": null,
      "metadata": {
        "id": "09465d6e"
      },
      "outputs": [],
      "source": [],
      "id": "09465d6e"
    },
    {
      "cell_type": "markdown",
      "metadata": {
        "id": "c07dc97e"
      },
      "source": [
        "## 07. 파이썬 분기문"
      ],
      "id": "c07dc97e"
    },
    {
      "cell_type": "markdown",
      "metadata": {
        "id": "2b8ef7a8"
      },
      "source": [
        "101\n",
        "파이썬에서 True 혹은 False를 갖는 데이터 타입은 무엇인가?"
      ],
      "id": "2b8ef7a8"
    },
    {
      "cell_type": "code",
      "execution_count": null,
      "metadata": {
        "id": "39f548e7"
      },
      "outputs": [],
      "source": [],
      "id": "39f548e7"
    },
    {
      "cell_type": "markdown",
      "metadata": {
        "id": "9ec6c371"
      },
      "source": [
        "102\n",
        "아래 코드의 출력 결과를 예상하라\n",
        "\n",
        "print(3 == 5)"
      ],
      "id": "9ec6c371"
    },
    {
      "cell_type": "code",
      "execution_count": null,
      "metadata": {
        "id": "a87c12c5"
      },
      "outputs": [],
      "source": [],
      "id": "a87c12c5"
    },
    {
      "cell_type": "markdown",
      "metadata": {
        "id": "e088ef95"
      },
      "source": [
        "103\n",
        "아래 코드의 출력 결과를 예상하라\n",
        "\n",
        "print(3 < 5)"
      ],
      "id": "e088ef95"
    },
    {
      "cell_type": "code",
      "execution_count": null,
      "metadata": {
        "id": "3334cd55"
      },
      "outputs": [],
      "source": [],
      "id": "3334cd55"
    },
    {
      "cell_type": "markdown",
      "metadata": {
        "id": "92e80ea1"
      },
      "source": [
        "104\n",
        "아래 코드의 결과를 예상하라.\n",
        "\n",
        "x = 4\n",
        "print(1 < x < 5)"
      ],
      "id": "92e80ea1"
    },
    {
      "cell_type": "code",
      "execution_count": null,
      "metadata": {
        "id": "6d35428b"
      },
      "outputs": [],
      "source": [],
      "id": "6d35428b"
    },
    {
      "cell_type": "markdown",
      "metadata": {
        "id": "1dc7f203"
      },
      "source": [
        "105\n",
        "아래 코드의 결과를 예상하라.\n",
        "\n",
        "print ((3 == 3) and (4 != 3))"
      ],
      "id": "1dc7f203"
    },
    {
      "cell_type": "code",
      "execution_count": null,
      "metadata": {
        "id": "ae407c88"
      },
      "outputs": [],
      "source": [],
      "id": "ae407c88"
    },
    {
      "cell_type": "markdown",
      "metadata": {
        "id": "ca39ff55"
      },
      "source": [
        "106\n",
        "아래 코드에서 에러가 발생하는 원인에 대해 설명하라.\n",
        "\n",
        "print(3 => 4)"
      ],
      "id": "ca39ff55"
    },
    {
      "cell_type": "code",
      "execution_count": null,
      "metadata": {
        "id": "67ae7c5d"
      },
      "outputs": [],
      "source": [],
      "id": "67ae7c5d"
    },
    {
      "cell_type": "markdown",
      "metadata": {
        "id": "47c131b1"
      },
      "source": [
        "107\n",
        "아래 코드의 출력 결과를 예상하라\n",
        "\n",
        "if 4 < 3:\n",
        "    print(\"Hello World\")"
      ],
      "id": "47c131b1"
    },
    {
      "cell_type": "code",
      "execution_count": null,
      "metadata": {
        "id": "c9a25730"
      },
      "outputs": [],
      "source": [],
      "id": "c9a25730"
    },
    {
      "cell_type": "markdown",
      "metadata": {
        "id": "565ac1b7"
      },
      "source": [
        "108\n",
        "아래 코드의 출력 결과를 예상하라\n",
        "\n",
        "if 4 < 3:\n",
        "    print(\"Hello World.\")\n",
        "else:\n",
        "    print(\"Hi, there.\")"
      ],
      "id": "565ac1b7"
    },
    {
      "cell_type": "code",
      "execution_count": null,
      "metadata": {
        "id": "a5827b95"
      },
      "outputs": [],
      "source": [],
      "id": "a5827b95"
    },
    {
      "cell_type": "markdown",
      "metadata": {
        "id": "306a1147"
      },
      "source": [
        "109\n",
        "아래 코드의 출력 결과를 예상하라\n",
        "\n",
        "if True :\n",
        "    print (\"1\")\n",
        "    print (\"2\")\n",
        "else :\n",
        "    print(\"3\")\n",
        "print(\"4\")"
      ],
      "id": "306a1147"
    },
    {
      "cell_type": "code",
      "execution_count": null,
      "metadata": {
        "id": "00962e7a"
      },
      "outputs": [],
      "source": [],
      "id": "00962e7a"
    },
    {
      "cell_type": "markdown",
      "metadata": {
        "id": "22d451ef"
      },
      "source": [
        "110\n",
        "아래 코드의 출력 결과를 예상하라\n",
        "\n",
        "if True :\n",
        "    if False:\n",
        "        print(\"1\")\n",
        "        print(\"2\")\n",
        "    else:\n",
        "        print(\"3\")\n",
        "else :\n",
        "    print(\"4\")\n",
        "print(\"5\")"
      ],
      "id": "22d451ef"
    },
    {
      "cell_type": "code",
      "execution_count": null,
      "metadata": {
        "id": "35db5868"
      },
      "outputs": [],
      "source": [],
      "id": "35db5868"
    },
    {
      "cell_type": "markdown",
      "metadata": {
        "id": "5048d686"
      },
      "source": [
        "111\n",
        "사용자로부터 입력받은 문자열을 두 번 출력하라. 아래는 사용자가 \"안녕하세요\"를 입력한 경우의 출력 결과이다.\n",
        "\n",
        ">> 안녕하세요\n",
        "안녕하세요안녕하세요"
      ],
      "id": "5048d686"
    },
    {
      "cell_type": "code",
      "execution_count": null,
      "metadata": {
        "id": "ec1ea056"
      },
      "outputs": [],
      "source": [],
      "id": "ec1ea056"
    },
    {
      "cell_type": "markdown",
      "metadata": {
        "id": "1816278f"
      },
      "source": [
        "112\n",
        "사용자로부터 하나의 숫자를 입력받고, 입력 받은 숫자에 10을 더해 출력하라.\n",
        "\n",
        ">> 숫자를 입력하세요: 30\n",
        "40"
      ],
      "id": "1816278f"
    },
    {
      "cell_type": "code",
      "execution_count": null,
      "metadata": {
        "id": "d7c16adc"
      },
      "outputs": [],
      "source": [],
      "id": "d7c16adc"
    },
    {
      "cell_type": "markdown",
      "metadata": {
        "id": "4f954d58"
      },
      "source": [
        "113\n",
        "사용자로부터 하나의 숫자를 입력 받고 짝수/홀수를 판별하라.\n",
        "\n",
        ">> 30\n",
        "짝수"
      ],
      "id": "4f954d58"
    },
    {
      "cell_type": "code",
      "execution_count": null,
      "metadata": {
        "id": "8714dc93"
      },
      "outputs": [],
      "source": [],
      "id": "8714dc93"
    },
    {
      "cell_type": "markdown",
      "metadata": {
        "id": "c7b8c659"
      },
      "source": [
        "114\n",
        "사용자로부터 값을 입력받은 후 해당 값에 20을 더한 값을 출력하라. 단 사용자가 입력한 값과 20을 더한 계산 값이 255를 초과하는 경우 255를 출력해야 한다.\n",
        "\n",
        ">> 입력값: 200\n",
        "출력값: 220\n",
        ">> 입력값: 240\n",
        "출력값: 255"
      ],
      "id": "c7b8c659"
    },
    {
      "cell_type": "code",
      "execution_count": null,
      "metadata": {
        "id": "a339fb1d"
      },
      "outputs": [],
      "source": [],
      "id": "a339fb1d"
    },
    {
      "cell_type": "markdown",
      "metadata": {
        "id": "6f3aa1e7"
      },
      "source": [
        "115\n",
        "사용자로부터 하나의 값을 입력받은 후 해당 값에 20을 뺀 값을 출력하라. 단 출력 값의 범위는 0~255이다. 예를 들어 결괏값이 0보다 작은 값이되는 경우 0을 출력하고 255보다 큰 값이 되는 경우 255를 출력해야 한다.\n",
        "\n",
        ">> 입력값: 200\n",
        "출력값: 180\n",
        ">> 입력값: 15\n",
        "출력값: 0"
      ],
      "id": "6f3aa1e7"
    },
    {
      "cell_type": "code",
      "execution_count": null,
      "metadata": {
        "id": "ec7408b1"
      },
      "outputs": [],
      "source": [],
      "id": "ec7408b1"
    },
    {
      "cell_type": "markdown",
      "metadata": {
        "id": "2e29bb2e"
      },
      "source": [
        "116\n",
        "사용자로부터 입력 받은 시간이 정각인지 판별하라.\n",
        "\n",
        ">> 현재시간:02:00\n",
        "정각 입니다.\n",
        ">> 현재시간:03:10\n",
        "정각이 아닙니다"
      ],
      "id": "2e29bb2e"
    },
    {
      "cell_type": "code",
      "execution_count": null,
      "metadata": {
        "id": "40d7b982"
      },
      "outputs": [],
      "source": [],
      "id": "40d7b982"
    },
    {
      "cell_type": "markdown",
      "metadata": {
        "id": "7c1bab65"
      },
      "source": [
        "117\n",
        "사용자로 입력받은 단어가 아래 fruit 리스트에 포함되어 있는지를 확인하라. 포함되었다면 \"정답입니다\"를 아닐 경우 \"오답입니다\" 출력하라.\n",
        "\n",
        "fruit = [\"사과\", \"포도\", \"홍시\"]\n",
        ">> 좋아하는 과일은? 사과\n",
        "정답입니다."
      ],
      "id": "7c1bab65"
    },
    {
      "cell_type": "code",
      "execution_count": null,
      "metadata": {
        "id": "a39a57a7"
      },
      "outputs": [],
      "source": [],
      "id": "a39a57a7"
    },
    {
      "cell_type": "markdown",
      "metadata": {
        "id": "04afe2c7"
      },
      "source": [
        "118\n",
        "투자 경고 종목 리스트가 있을 때 사용자로부터 종목명을 입력 받은 후 해당 종목이 투자 경고 종목이라면 '투자 경고 종목입니다'를 아니면 \"투자 경고 종목이 아닙니다.\"를 출력하는 프로그램을 작성하라.\n",
        "\n",
        "warn_investment_list = [\"Microsoft\", \"Google\", \"Naver\", \"Kakao\", \"SAMSUNG\", \"LG\"]"
      ],
      "id": "04afe2c7"
    },
    {
      "cell_type": "code",
      "execution_count": null,
      "metadata": {
        "id": "f898f81a"
      },
      "outputs": [],
      "source": [],
      "id": "f898f81a"
    },
    {
      "cell_type": "markdown",
      "metadata": {
        "id": "78a3e0e4"
      },
      "source": [
        "119\n",
        "아래와 같이 fruit 딕셔너리가 정의되어 있다. 사용자가 입력한 값이 딕셔너리 키 (key) 값에 포함되었다면 \"정답입니다\"를 아닐 경우 \"오답입니다\" 출력하라.\n",
        "\n",
        "fruit = {\"봄\" : \"딸기\", \"여름\" : \"토마토\", \"가을\" : \"사과\"}\n",
        ">> 제가좋아하는계절은: 봄\n",
        "정답입니다."
      ],
      "id": "78a3e0e4"
    },
    {
      "cell_type": "code",
      "execution_count": null,
      "metadata": {
        "id": "e1ebd320"
      },
      "outputs": [],
      "source": [],
      "id": "e1ebd320"
    },
    {
      "cell_type": "markdown",
      "metadata": {
        "id": "658c546f"
      },
      "source": [
        "120\n",
        "아래와 같이 fruit 딕셔너리가 정의되어 있다. 사용자가 입력한 값이 딕셔너리 값 (value)에 포함되었다면 \"정답입니다\"를 아닐 경우 \"오답입니다\" 출력하라.\n",
        "\n",
        "fruit = {\"봄\" : \"딸기\", \"여름\" : \"토마토\", \"가을\" : \"사과\"}\n",
        ">> 좋아하는과일은? 한라봉\n",
        "오답입니다."
      ],
      "id": "658c546f"
    },
    {
      "cell_type": "code",
      "execution_count": null,
      "metadata": {
        "id": "ee3cae79"
      },
      "outputs": [],
      "source": [],
      "id": "ee3cae79"
    },
    {
      "cell_type": "markdown",
      "metadata": {
        "id": "72b5a0e3"
      },
      "source": [
        "121\n",
        "사용자로부터 문자 한 개를 입력 받고, 소문자일 경우 대문자로, 대문자 일 경우, 소문자로 변경해서 출력하라.\n",
        "\n",
        ">> a\n",
        "A\n",
        "힌트-1 : islower() 함수는 문자의 소문자 여부를 판별합니다. 만약 소문자일 경우 True, 대문자일 경우 False를 반환합니다. 힌트-2 : upper() 함수는 대문자로, lower() 함수는 소문자로 변경합니다."
      ],
      "id": "72b5a0e3"
    },
    {
      "cell_type": "code",
      "execution_count": null,
      "metadata": {
        "id": "98034f6b"
      },
      "outputs": [],
      "source": [],
      "id": "98034f6b"
    },
    {
      "cell_type": "markdown",
      "metadata": {
        "id": "c3775c23"
      },
      "source": [
        "122\n",
        "점수 구간에 해당하는 학점이 아래와 같이 정의되어 있다. 사용자로부터 score를 입력받아 학점을 출력하라.\n",
        "\n",
        "점수\t학점\n",
        "81~100\tA\n",
        "61~80\tB\n",
        "41~60\tC\n",
        "21~40\tD\n",
        "0~20\tE\n",
        ">> score: 83\n",
        "grade is A"
      ],
      "id": "c3775c23"
    },
    {
      "cell_type": "code",
      "execution_count": null,
      "metadata": {
        "id": "39362a4e"
      },
      "outputs": [],
      "source": [],
      "id": "39362a4e"
    },
    {
      "cell_type": "markdown",
      "metadata": {
        "id": "f11fbb24"
      },
      "source": [
        "123\n",
        "사용자로부터 달러, 엔, 유로, 또는 위안 금액을 입력받은 후 이를 원으로 변환하는 프로그램을 작성하라. 각 통화별 환율은 다음과 같다. 사용자는 100 달러, 1000 엔, 13 유로, 100 위안과 같이 금액과 통화명 사이에 공백을 넣어 입력한다고 가정한다.\n",
        "\n",
        "통화명\t환율\n",
        "달러\t1167\n",
        "엔\t1.096\n",
        "유로\t1268\n",
        "위안\t171\n",
        ">> 입력: 100 달러\n",
        "116700.00 원"
      ],
      "id": "f11fbb24"
    },
    {
      "cell_type": "code",
      "execution_count": null,
      "metadata": {
        "id": "eaa936c1"
      },
      "outputs": [],
      "source": [],
      "id": "eaa936c1"
    },
    {
      "cell_type": "markdown",
      "metadata": {
        "id": "a51b060b"
      },
      "source": [
        "124\n",
        "사용자로부터 세 개의 숫자를 입력 받은 후 가장 큰 숫자를 출력하라.\n",
        "\n",
        ">> input number1: 10\n",
        ">> input number2: 9\n",
        ">> input number3: 20\n",
        "20"
      ],
      "id": "a51b060b"
    },
    {
      "cell_type": "code",
      "execution_count": null,
      "metadata": {
        "id": "6dc571df"
      },
      "outputs": [],
      "source": [],
      "id": "6dc571df"
    },
    {
      "cell_type": "markdown",
      "metadata": {
        "id": "f9a3d7b0"
      },
      "source": [
        "125\n",
        "휴대폰 번호 앞자리에 따라 통신사는 아래와 같이 구분된다. 사용자로부터 휴대전화 번호를 입력 받고, 통신사를 출력하는 프로그램을 작성하라.\n",
        "\n",
        "번호\t통신사\n",
        "011\tSKT\n",
        "016\tKT\n",
        "019\tLGU\n",
        "010\t알수없음\n",
        ">> 휴대전화 번호 입력: 011-345-1922\n",
        "당신은 SKT 사용자입니다."
      ],
      "id": "f9a3d7b0"
    },
    {
      "cell_type": "code",
      "execution_count": null,
      "metadata": {
        "id": "b3aafa90"
      },
      "outputs": [],
      "source": [],
      "id": "b3aafa90"
    },
    {
      "cell_type": "markdown",
      "metadata": {
        "id": "f875ae6f"
      },
      "source": [
        "126\n",
        "우편번호는 5자리로 구성되는데, 앞의 세자리는 구를 나타낸다. 예를들어, 강북구의 경우 010, 011, 012 세 자리로 시작한다.\n",
        "\n",
        "-\t0\t1\t2\t3\t4\t5\t6\t7\t8\t9\n",
        "01\t강북구\t강북구\t강북구\t도봉구\t도봉구\t도봉구\t노원구\t노원구\t노원구\t노원구\n",
        "사용자로 부터 5자리 우편번호를 입력받고 구를 판별하라\n",
        "\n",
        ">> 우편번호: 01400\n",
        "도봉구"
      ],
      "id": "f875ae6f"
    },
    {
      "cell_type": "code",
      "execution_count": null,
      "metadata": {
        "id": "e4b3134f"
      },
      "outputs": [],
      "source": [],
      "id": "e4b3134f"
    },
    {
      "cell_type": "markdown",
      "metadata": {
        "id": "bd176965"
      },
      "source": [
        "127\n",
        "주민등록번호 뒷 자리 7자리 중 첫째 자리는 성별을 나타내는데, 1, 3은 남자 2, 4는 여자를 의미한다. 사용자로부터 13자리의 주민등록번호를 입력 받은 후 성별 (남자, 여자)를 출력하는 프로그램을 작성하라.\n",
        "\n",
        ">> 주민등록번호: 821010-1635210\n",
        "남자"
      ],
      "id": "bd176965"
    },
    {
      "cell_type": "code",
      "execution_count": null,
      "metadata": {
        "id": "a24a6190"
      },
      "outputs": [],
      "source": [],
      "id": "a24a6190"
    },
    {
      "cell_type": "markdown",
      "metadata": {
        "id": "d0015e10"
      },
      "source": [
        "주민등록번호의 뒷 자리 7자리 중 두번째와 세번째는 지역코드를 의미한다. 주민 등록 번호를 입력 받은 후 출생지가 서울인지 아닌지 판단하는 코드를 작성하라\n",
        "\n",
        "지역코드\t출생지\n",
        "00 ~ 08\t서울\n",
        "09 ~ 12\t부산\n",
        ">> 주민등록번호: 821010-1635210\n",
        "서울이 아닙니다.\n",
        ">> 주민등록번호: 861010-1015210\n",
        "서울 입니다."
      ],
      "id": "d0015e10"
    },
    {
      "cell_type": "code",
      "execution_count": null,
      "metadata": {
        "id": "ce43bedc"
      },
      "outputs": [],
      "source": [],
      "id": "ce43bedc"
    },
    {
      "cell_type": "markdown",
      "metadata": {
        "id": "caaad260"
      },
      "source": [
        "129\n",
        "주민등록번호는 13자리로 구성되는데 마지막 자리수는 주민등록번호의 유효성을 체크하는데 사용된다. 먼저 앞에서부터 12자리의 숫자에 2, 3, 4, 5, 6, 7, 8, 9, 2, 3, 4, 5를 차례로 곱한 뒤 그 값을 전부 더한다. 연산 결과 값을 11로 나누면 나머지가 나오는데 11에서 나머지를 뺀 값이 주민등록번호의 마지막 번호가 된다.\n",
        "\n",
        "  8 2 1 0 1 0 - 1 6 3 5 2 1 0\n",
        "x 2 3 4 5 6 7   8 9 2 3 4 5 \n",
        "<!------------------------------- -->\n",
        "1차 계산: (8*2 + 2*3 + 1*4 + 0*5 + 1*6 + 0*7 + 1*8 + 6*9 + 3*2 + 5*3 + 2*4 + 1*5) = (128 % 11) = 7\n",
        "2차 계산: 11 -7 = 4\n",
        "위와 같이 821010-1635210에 대해서 계산을 해보면 마지막 자리는 4가 되어야 함을 알 수 있다. 즉, 821010-1635210은 유효하지 않은 주민등록번호임을 알 수 있다.\n",
        "\n",
        "다음과 같이 사용자로부터 주민등록번호를 입력받은 후 주민등록번호가 유효한지를 출력하는 프로그램을 작성하라.\n",
        "\n",
        ">> 주민등록번호: 821010-1635210\n",
        "유효하지 않은 주민등록번호입니다. "
      ],
      "id": "caaad260"
    },
    {
      "cell_type": "code",
      "execution_count": null,
      "metadata": {
        "id": "3793e8f7"
      },
      "outputs": [],
      "source": [],
      "id": "3793e8f7"
    },
    {
      "cell_type": "markdown",
      "metadata": {
        "id": "3a1f67ae"
      },
      "source": [
        "130\n",
        "아래 코드는 비트코인의 가격 정보를 딕셔너리로 가져오는 코드이다.\n",
        "\n",
        "import requests\n",
        "btc = requests.get(\"https://api.bithumb.com/public/ticker/\").json()['data']\n",
        "btc 딕셔너리 안에는 시가, 종가, 최고가, 최저가 등이 저장되어 있다. 최고가와 최저가의 차이를 변동폭으로 정의할 때 (시가 + 변동폭)이 최고가 보다 높을 경우 \"상승장\", 그렇지 않은 경우 \"하락장\" 문자열을 출력하라.\n",
        "\n",
        "Key Name\tDescription\n",
        "opening_price\t최근 24시간 내 시작 거래금액\n",
        "closing_price\t최근 24시간 내 마지막 거래금액\n",
        "min_price\t최근 24시간 내 최저 거래금액\n",
        "max_price\t최근 24시간 내 최고 거래금액"
      ],
      "id": "3a1f67ae"
    },
    {
      "cell_type": "code",
      "execution_count": null,
      "metadata": {
        "id": "269aad4c"
      },
      "outputs": [],
      "source": [],
      "id": "269aad4c"
    },
    {
      "cell_type": "markdown",
      "metadata": {
        "id": "a7df0d76"
      },
      "source": [
        "## 08. 파이썬 반복문"
      ],
      "id": "a7df0d76"
    },
    {
      "cell_type": "markdown",
      "metadata": {
        "id": "6a79028a"
      },
      "source": [
        "131\n",
        "for문의 실행결과를 예측하라.\n",
        "\n",
        "과일 = [\"사과\", \"귤\", \"수박\"]\n",
        "for 변수 in 과일:\n",
        "    print(변수)"
      ],
      "id": "6a79028a"
    },
    {
      "cell_type": "code",
      "execution_count": null,
      "metadata": {
        "id": "cffc0da0"
      },
      "outputs": [],
      "source": [],
      "id": "cffc0da0"
    },
    {
      "cell_type": "markdown",
      "metadata": {
        "id": "e0b7e4bc"
      },
      "source": [
        "132\n",
        "for문의 실행결과를 예측하라.\n",
        "\n",
        "과일 = [\"사과\", \"귤\", \"수박\"]\n",
        "for 변수 in 과일:\n",
        "  print(\"#####\")"
      ],
      "id": "e0b7e4bc"
    },
    {
      "cell_type": "code",
      "execution_count": null,
      "metadata": {
        "id": "46fab91d"
      },
      "outputs": [],
      "source": [],
      "id": "46fab91d"
    },
    {
      "cell_type": "markdown",
      "metadata": {
        "id": "0b0b2871"
      },
      "source": [
        "133\n",
        "다음 for 문과 동일한 기능을 수행하는 코드를 작성하세요.\n",
        "\n",
        "for 변수 in [\"A\", \"B\", \"C\"]:\n",
        "  print(변수)"
      ],
      "id": "0b0b2871"
    },
    {
      "cell_type": "code",
      "execution_count": null,
      "metadata": {
        "id": "89ba85b1"
      },
      "outputs": [],
      "source": [],
      "id": "89ba85b1"
    },
    {
      "cell_type": "markdown",
      "metadata": {
        "id": "ff14982c"
      },
      "source": [
        "134\n",
        "for문을 풀어서 동일한 동작을하는 코드를 작성하라.\n",
        "\n",
        "for 변수 in [\"A\", \"B\", \"C\"]:\n",
        "  print(\"출력:\", 변수)"
      ],
      "id": "ff14982c"
    },
    {
      "cell_type": "code",
      "execution_count": null,
      "metadata": {
        "id": "e06da2f1"
      },
      "outputs": [],
      "source": [],
      "id": "e06da2f1"
    },
    {
      "cell_type": "markdown",
      "metadata": {
        "id": "412be522"
      },
      "source": [
        "135\n",
        "for문을 풀어서 동일한 동작을 하는 코드를 작성하라.\n",
        "\n",
        "for 변수 in [\"A\", \"B\", \"C\"]:\n",
        "  b = 변수.lower()\n",
        "  print(\"변환:\", b)"
      ],
      "id": "412be522"
    },
    {
      "cell_type": "code",
      "execution_count": null,
      "metadata": {
        "id": "17836939"
      },
      "outputs": [],
      "source": [],
      "id": "17836939"
    },
    {
      "cell_type": "markdown",
      "metadata": {
        "id": "332ccc27"
      },
      "source": [
        "136\n",
        "다음 코드를 for문으로 작성하라.\n",
        "\n",
        "변수 = 10\n",
        "print(변수)\n",
        "변수 = 20\n",
        "print(변수)\n",
        "변수 = 30\n",
        "print(변수)"
      ],
      "id": "332ccc27"
    },
    {
      "cell_type": "code",
      "execution_count": null,
      "metadata": {
        "id": "11763c76"
      },
      "outputs": [],
      "source": [],
      "id": "11763c76"
    },
    {
      "cell_type": "markdown",
      "metadata": {
        "id": "00da2123"
      },
      "source": [
        "137\n",
        "다음 코드를 for문으로 작성하라.\n",
        "\n",
        "print(10)\n",
        "print(20)\n",
        "print(30)"
      ],
      "id": "00da2123"
    },
    {
      "cell_type": "code",
      "execution_count": null,
      "metadata": {
        "id": "ed599d1d"
      },
      "outputs": [],
      "source": [],
      "id": "ed599d1d"
    },
    {
      "cell_type": "markdown",
      "metadata": {
        "id": "7b6c7fe6"
      },
      "source": [
        "138\n",
        "다음 코드를 for문으로 작성하라.\n",
        "\n",
        "print(10)\n",
        "print(\"-------\")\n",
        "print(20)\n",
        "print(\"-------\")\n",
        "print(30)\n",
        "print(\"-------\")"
      ],
      "id": "7b6c7fe6"
    },
    {
      "cell_type": "code",
      "execution_count": null,
      "metadata": {
        "id": "f7b8bccc"
      },
      "outputs": [],
      "source": [],
      "id": "f7b8bccc"
    },
    {
      "cell_type": "markdown",
      "metadata": {
        "id": "111df80d"
      },
      "source": [
        "139\n",
        "다음 코드를 for문으로 작성하라.\n",
        "\n",
        "print(\"++++\")\n",
        "print(10)\n",
        "print(20)\n",
        "print(30)"
      ],
      "id": "111df80d"
    },
    {
      "cell_type": "code",
      "execution_count": null,
      "metadata": {
        "id": "9af18e54"
      },
      "outputs": [],
      "source": [],
      "id": "9af18e54"
    },
    {
      "cell_type": "markdown",
      "metadata": {
        "id": "2e566e73"
      },
      "source": [
        "140\n",
        "다음 코드를 for문으로 작성하라.\n",
        "\n",
        "print(\"-------\")\n",
        "print(\"-------\")\n",
        "print(\"-------\")\n",
        "print(\"-------\")"
      ],
      "id": "2e566e73"
    },
    {
      "cell_type": "code",
      "execution_count": null,
      "metadata": {
        "id": "0399f988"
      },
      "outputs": [],
      "source": [],
      "id": "0399f988"
    },
    {
      "cell_type": "markdown",
      "metadata": {
        "id": "d9e8e843"
      },
      "source": [
        "141\n",
        "다음과 같이 판매가가 저장된 리스트가 있을 때 부가세가 포함된 가격을 for 문을 사용해서 화면에 출력하라. 단 부가세는 10원으로 가정한다.\n",
        "\n",
        "리스트 = [100, 200, 300]\n",
        "110\n",
        "210\n",
        "310"
      ],
      "id": "d9e8e843"
    },
    {
      "cell_type": "code",
      "execution_count": null,
      "metadata": {
        "id": "0af318eb"
      },
      "outputs": [],
      "source": [],
      "id": "0af318eb"
    },
    {
      "cell_type": "markdown",
      "metadata": {
        "id": "95ede4ee"
      },
      "source": [
        "142\n",
        "for 문을 사용해서 리스트에 저장된 값을 다음과 같이 출력하라.\n",
        "\n",
        "리스트 = [\"김밥\", \"라면\", \"튀김\"]\n",
        "오늘의 메뉴: 김밥\n",
        "오늘의 메뉴: 라면\n",
        "오늘의 메뉴: 튀김"
      ],
      "id": "95ede4ee"
    },
    {
      "cell_type": "code",
      "execution_count": null,
      "metadata": {
        "id": "30f2df16"
      },
      "outputs": [],
      "source": [],
      "id": "30f2df16"
    },
    {
      "cell_type": "markdown",
      "metadata": {
        "id": "8d3a5075"
      },
      "source": [
        "143\n",
        "리스트에 주식 종목이름이 저장돼 있다.\n",
        "\n",
        "리스트 = [\"SK하이닉스\", \"삼성전자\", \"LG전자\"]\n",
        "저장된 문자열의 길이를 다음과 같이 출력하라.\n",
        "\n",
        "6\n",
        "4\n",
        "4"
      ],
      "id": "8d3a5075"
    },
    {
      "cell_type": "code",
      "execution_count": null,
      "metadata": {
        "id": "dd5744fa"
      },
      "outputs": [],
      "source": [],
      "id": "dd5744fa"
    },
    {
      "cell_type": "markdown",
      "metadata": {
        "id": "efce3917"
      },
      "source": [
        "144\n",
        "리스트에는 동물이름이 문자열로 저장돼 있다.\n",
        "\n",
        "리스트 = ['dog', 'cat', 'parrot']\n",
        "동물 이름과 글자수를 다음과 같이 출력하라.\n",
        "\n",
        "dog 3\n",
        "cat 3\n",
        "parrot 6"
      ],
      "id": "efce3917"
    },
    {
      "cell_type": "code",
      "execution_count": null,
      "metadata": {
        "id": "b7c8fda9"
      },
      "outputs": [],
      "source": [],
      "id": "b7c8fda9"
    },
    {
      "cell_type": "markdown",
      "metadata": {
        "id": "e33b529b"
      },
      "source": [
        "145\n",
        "리스트에 동물 이름 저장돼 있다.\n",
        "\n",
        "리스트 = ['dog', 'cat', 'parrot']\n",
        "for문을 사용해서 동물 이름의 첫 글자만 출력하라.\n",
        "\n",
        "d\n",
        "c\n",
        "p"
      ],
      "id": "e33b529b"
    },
    {
      "cell_type": "code",
      "execution_count": null,
      "metadata": {
        "id": "aa36dac6"
      },
      "outputs": [],
      "source": [],
      "id": "aa36dac6"
    },
    {
      "cell_type": "markdown",
      "metadata": {
        "id": "26b7e212"
      },
      "source": [
        "146\n",
        "리스트에는 세 개의 숫자가 바인딩돼 있다.\n",
        "\n",
        "리스트 = [1, 2, 3]\n",
        "for문을 사용해서 다음과 같이 출력하라.\n",
        "\n",
        "3 x 1\n",
        "3 x 2\n",
        "3 x 3"
      ],
      "id": "26b7e212"
    },
    {
      "cell_type": "code",
      "execution_count": null,
      "metadata": {
        "id": "059b718c"
      },
      "outputs": [],
      "source": [],
      "id": "059b718c"
    },
    {
      "cell_type": "markdown",
      "metadata": {
        "id": "4488c492"
      },
      "source": [
        "147\n",
        "리스트에는 세 개의 숫자가 바인딩돼 있다.\n",
        "\n",
        "리스트 = [1, 2, 3]\n",
        "for문을 사용해서 다음과 같이 출력하라.\n",
        "\n",
        "3 x 1 = 3\n",
        "3 x 2 = 6\n",
        "3 x 3 = 9"
      ],
      "id": "4488c492"
    },
    {
      "cell_type": "code",
      "execution_count": null,
      "metadata": {
        "id": "09d41b0a"
      },
      "outputs": [],
      "source": [],
      "id": "09d41b0a"
    },
    {
      "cell_type": "markdown",
      "metadata": {
        "id": "2ebba67b"
      },
      "source": [
        "148\n",
        "리스트에는 네 개의 문자열이 바인딩돼 있다.\n",
        "\n",
        "리스트 = [\"가\", \"나\", \"다\", \"라\"]\n",
        "for문을 사용해서 다음과 같이 출력하라.\n",
        "\n",
        "나\n",
        "다\n",
        "라"
      ],
      "id": "2ebba67b"
    },
    {
      "cell_type": "code",
      "execution_count": null,
      "metadata": {
        "id": "5c3cedaf"
      },
      "outputs": [],
      "source": [],
      "id": "5c3cedaf"
    },
    {
      "cell_type": "markdown",
      "metadata": {
        "id": "1bdfc78f"
      },
      "source": [
        "149\n",
        "리스트에는 네 개의 문자열이 바인딩돼 있다.\n",
        "\n",
        "리스트 = [\"가\", \"나\", \"다\", \"라\"]\n",
        "for문을 사용해서 다음과 같이 출력하라.\n",
        "\n",
        "가\n",
        "다"
      ],
      "id": "1bdfc78f"
    },
    {
      "cell_type": "code",
      "execution_count": null,
      "metadata": {
        "id": "84811dee"
      },
      "outputs": [],
      "source": [],
      "id": "84811dee"
    },
    {
      "cell_type": "markdown",
      "metadata": {
        "id": "d8d72e56"
      },
      "source": [
        "150\n",
        "리스트에는 네 개의 문자열이 바인딩돼 있다.\n",
        "\n",
        "리스트 = [\"가\", \"나\", \"다\", \"라\"]\n",
        "for문을 사용해서 다음과 같이 출력하라.\n",
        "\n",
        "라\n",
        "다\n",
        "나\n",
        "가"
      ],
      "id": "d8d72e56"
    },
    {
      "cell_type": "code",
      "execution_count": null,
      "metadata": {
        "id": "253cfbc6"
      },
      "outputs": [],
      "source": [],
      "id": "253cfbc6"
    },
    {
      "cell_type": "markdown",
      "metadata": {
        "id": "42c0a824"
      },
      "source": [
        "151\n",
        "리스트에는 네 개의 정수가 저장돼 있다.\n",
        "\n",
        "리스트 = [3, -20, -3, 44]\n",
        "for문을 사용해서 리스트의 음수를 출력하라.\n",
        "\n",
        "-20\n",
        "-3"
      ],
      "id": "42c0a824"
    },
    {
      "cell_type": "code",
      "execution_count": null,
      "metadata": {
        "id": "1a06e80e"
      },
      "outputs": [],
      "source": [],
      "id": "1a06e80e"
    },
    {
      "cell_type": "markdown",
      "metadata": {
        "id": "070aeaf8"
      },
      "source": [
        "152\n",
        "for문을 사용해서 3의 배수만을 출력하라.\n",
        "\n",
        "리스트 = [3, 100, 23, 44]\n",
        "3"
      ],
      "id": "070aeaf8"
    },
    {
      "cell_type": "code",
      "execution_count": null,
      "metadata": {
        "id": "56a30426"
      },
      "outputs": [],
      "source": [],
      "id": "56a30426"
    },
    {
      "cell_type": "markdown",
      "metadata": {
        "id": "d72c6f43"
      },
      "source": [
        "153\n",
        "리스트에서 20 보다 작은 3의 배수를 출력하라\n",
        "\n",
        "리스트 = [13, 21, 12, 14, 30, 18]\n",
        "12\n",
        "18"
      ],
      "id": "d72c6f43"
    },
    {
      "cell_type": "code",
      "execution_count": null,
      "metadata": {
        "id": "62112798"
      },
      "outputs": [],
      "source": [],
      "id": "62112798"
    },
    {
      "cell_type": "markdown",
      "metadata": {
        "id": "7b2bd787"
      },
      "source": [
        "154\n",
        "리스트에서 세 글자 이상의 문자를 화면에 출력하라\n",
        "\n",
        "리스트 = [\"I\", \"study\", \"python\", \"language\", \"!\"]\n",
        "study\n",
        "python\n",
        "language"
      ],
      "id": "7b2bd787"
    },
    {
      "cell_type": "code",
      "execution_count": null,
      "metadata": {
        "id": "7e75752f"
      },
      "outputs": [],
      "source": [],
      "id": "7e75752f"
    },
    {
      "cell_type": "markdown",
      "metadata": {
        "id": "d4195ab0"
      },
      "source": [
        "155\n",
        "리스트에서 대문자만 화면에 출력하라.\n",
        "\n",
        "리스트 = [\"A\", \"b\", \"c\", \"D\"]\n",
        "A\n",
        "D\n",
        "(참고) isupper() 메서드는 대문자 여부를 판별합니다.\n",
        "\n",
        ">> 변수 = \"A\"\n",
        ">> 변수.isupper()\n",
        "True\n",
        ">> 변수 = \"a\"\n",
        ">> 변수.isupper()\n",
        "False"
      ],
      "id": "d4195ab0"
    },
    {
      "cell_type": "code",
      "execution_count": null,
      "metadata": {
        "id": "b5caeaa3"
      },
      "outputs": [],
      "source": [],
      "id": "b5caeaa3"
    },
    {
      "cell_type": "markdown",
      "metadata": {
        "id": "c8d4064e"
      },
      "source": [
        "156\n",
        "리스트에서 소문자만 화면에 출력하라.\n",
        "\n",
        "리스트 = [\"A\", \"b\", \"c\", \"D\"]\n",
        "b\n",
        "c"
      ],
      "id": "c8d4064e"
    },
    {
      "cell_type": "code",
      "execution_count": null,
      "metadata": {
        "id": "ee9702c9"
      },
      "outputs": [],
      "source": [],
      "id": "ee9702c9"
    },
    {
      "cell_type": "markdown",
      "metadata": {
        "id": "6c97d5bb"
      },
      "source": [
        "157\n",
        "이름의 첫 글자를 대문자로 변경해서 출력하라.\n",
        "\n",
        "리스트 = ['dog', 'cat', 'parrot']\n",
        "Dog\n",
        "Cat\n",
        "Parrot\n",
        "(참고) upper() 메서드는 문자열을 대문자로 변경합니다.\n",
        "\n",
        ">> 변수 = \"a\"\n",
        ">> a.upper()\n",
        "A\n",
        ">> 변수 = \"abc\"\n",
        ">> 변수.upper()\n",
        "ABC"
      ],
      "id": "6c97d5bb"
    },
    {
      "cell_type": "code",
      "execution_count": null,
      "metadata": {
        "id": "cd98337a"
      },
      "outputs": [],
      "source": [],
      "id": "cd98337a"
    },
    {
      "cell_type": "markdown",
      "metadata": {
        "id": "1b73e596"
      },
      "source": [
        "158\n",
        "파일 이름이 저장된 리스트에서 확장자를 제거하고 파일 이름만 화면에 출력하라. (힌트: split() 메서드)\n",
        "\n",
        "리스트 = ['hello.py', 'ex01.py', 'intro.hwp']\n",
        "hello\n",
        "ex01\n",
        "intro"
      ],
      "id": "1b73e596"
    },
    {
      "cell_type": "code",
      "execution_count": null,
      "metadata": {
        "id": "469d825e"
      },
      "outputs": [],
      "source": [],
      "id": "469d825e"
    },
    {
      "cell_type": "markdown",
      "metadata": {
        "id": "036b4f03"
      },
      "source": [
        "파일 이름이 저장된 리스트에서 확장자가 .h인 파일 이름을 출력하라.\n",
        "\n",
        "리스트 = ['intra.h', 'intra.c', 'define.h', 'run.py']\n",
        "intra.h\n",
        "define.h"
      ],
      "id": "036b4f03"
    },
    {
      "cell_type": "code",
      "execution_count": null,
      "metadata": {
        "id": "b153e40d"
      },
      "outputs": [],
      "source": [],
      "id": "b153e40d"
    },
    {
      "cell_type": "markdown",
      "metadata": {
        "id": "67c004a2"
      },
      "source": [
        "160\n",
        "파일 이름이 저장된 리스트에서 확장자가 .h나 .c인 파일을 화면에 출력하라.\n",
        "\n",
        "리스트 = ['intra.h', 'intra.c', 'define.h', 'run.py']\n",
        "intra.h\n",
        "intra.c\n",
        "define.h"
      ],
      "id": "67c004a2"
    },
    {
      "cell_type": "code",
      "execution_count": null,
      "metadata": {
        "id": "c8c1e284"
      },
      "outputs": [],
      "source": [],
      "id": "c8c1e284"
    },
    {
      "cell_type": "markdown",
      "metadata": {
        "id": "9942f984"
      },
      "source": [
        "161\n",
        "for문과 range 구문을 사용해서 0~99까지 한 라인에 하나씩 순차적으로 출력하는 프로그램을 작성하라."
      ],
      "id": "9942f984"
    },
    {
      "cell_type": "code",
      "execution_count": null,
      "metadata": {
        "id": "1331208a"
      },
      "outputs": [],
      "source": [],
      "id": "1331208a"
    },
    {
      "cell_type": "markdown",
      "metadata": {
        "id": "a6587c5e"
      },
      "source": [
        "162\n",
        "월드컵은 4년에 한 번 개최된다. range()를 사용하여 2002~2050년까지 중 월드컵이 개최되는 연도를 출력하라.\n",
        "\n",
        "2002\n",
        "2006\n",
        "2010\n",
        "...\n",
        "2042\n",
        "2046\n",
        "2050\n",
        "참고) range의 세번 째 파라미터는 증감폭을 결정합니다.\n",
        "\n",
        ">> print(list(range(0, 10, 2)))\n",
        "[0, 2, 4, 6, 8]"
      ],
      "id": "a6587c5e"
    },
    {
      "cell_type": "code",
      "execution_count": null,
      "metadata": {
        "id": "633bdb70"
      },
      "outputs": [],
      "source": [],
      "id": "633bdb70"
    },
    {
      "cell_type": "markdown",
      "metadata": {
        "id": "9f86e934"
      },
      "source": [
        "163\n",
        "1부터 30까지의 숫자 중 3의 배수를 출력하라.\n",
        "\n",
        "3 \n",
        "6 \n",
        "9 \n",
        "12 \n",
        "15 \n",
        "18 \n",
        "21 \n",
        "24 \n",
        "27 \n",
        "30"
      ],
      "id": "9f86e934"
    },
    {
      "cell_type": "code",
      "execution_count": null,
      "metadata": {
        "id": "ce09da16"
      },
      "outputs": [],
      "source": [],
      "id": "ce09da16"
    },
    {
      "cell_type": "markdown",
      "metadata": {
        "id": "b5e041c3"
      },
      "source": [
        "164\n",
        "99부터 0까지 1씩 감소하는 숫자들을, 한 라인에 하나씩 출력하라."
      ],
      "id": "b5e041c3"
    },
    {
      "cell_type": "code",
      "execution_count": null,
      "metadata": {
        "id": "3e64508f"
      },
      "outputs": [],
      "source": [],
      "id": "3e64508f"
    },
    {
      "cell_type": "markdown",
      "metadata": {
        "id": "d3d1e895"
      },
      "source": [
        "165\n",
        "for문을 사용해서 아래와 같이 출력하라.\n",
        "\n",
        "0.0\n",
        "0.1\n",
        "0.2\n",
        "0.3\n",
        "0.4\n",
        "0.5\n",
        "...\n",
        "0.9"
      ],
      "id": "d3d1e895"
    },
    {
      "cell_type": "code",
      "execution_count": null,
      "metadata": {
        "id": "96c1dd1e"
      },
      "outputs": [],
      "source": [],
      "id": "96c1dd1e"
    },
    {
      "cell_type": "markdown",
      "metadata": {
        "id": "d7b5ad67"
      },
      "source": [
        "166\n",
        "구구단 3단을 출력하라.\n",
        "\n",
        "3x1 = 3\n",
        "3x2 = 6\n",
        "3x3 = 9\n",
        "3x4 = 12\n",
        "3x5 = 15\n",
        "3x6 = 18\n",
        "3x7 = 21\n",
        "3x8 = 24\n",
        "3x9 = 27"
      ],
      "id": "d7b5ad67"
    },
    {
      "cell_type": "code",
      "execution_count": null,
      "metadata": {
        "id": "884f248c"
      },
      "outputs": [],
      "source": [],
      "id": "884f248c"
    },
    {
      "cell_type": "markdown",
      "metadata": {
        "id": "061a2d42"
      },
      "source": [
        "167\n",
        "구구단 3단을 출력하라. 단 홀수 번째만 출력한다.\n",
        "\n",
        "3x1 = 3\n",
        "3x3 = 9\n",
        "3x5 = 15\n",
        "3x7 = 21\n",
        "3x9 = 27"
      ],
      "id": "061a2d42"
    },
    {
      "cell_type": "code",
      "execution_count": null,
      "metadata": {
        "id": "7dec76dc"
      },
      "outputs": [],
      "source": [],
      "id": "7dec76dc"
    },
    {
      "cell_type": "markdown",
      "metadata": {
        "id": "431d11a2"
      },
      "source": [
        "168\n",
        "1~10까지의 숫자에 대해 모두 더한 값을 출력하는 프로그램을 for 문을 사용하여 작성하라.\n",
        "\n",
        "합 : 55"
      ],
      "id": "431d11a2"
    },
    {
      "cell_type": "code",
      "execution_count": null,
      "metadata": {
        "id": "9df78007"
      },
      "outputs": [],
      "source": [],
      "id": "9df78007"
    },
    {
      "cell_type": "markdown",
      "metadata": {
        "id": "ce03ae17"
      },
      "source": [
        "169\n",
        "1~10까지의 숫자 중 모든 홀수의 합을 출력하는 프로그램을 for 문을 사용하여 작성하라.\n",
        "\n",
        "합: 25"
      ],
      "id": "ce03ae17"
    },
    {
      "cell_type": "code",
      "execution_count": null,
      "metadata": {
        "id": "9da19f6b"
      },
      "outputs": [],
      "source": [],
      "id": "9da19f6b"
    },
    {
      "cell_type": "markdown",
      "metadata": {
        "id": "6094bc45"
      },
      "source": [
        "170\n",
        "1~10까지의 숫자를 모두 곱한 값을 출력하는 프로그램을 for 문을 사용하여 작성하라."
      ],
      "id": "6094bc45"
    },
    {
      "cell_type": "code",
      "execution_count": null,
      "metadata": {
        "id": "bc3bc001"
      },
      "outputs": [],
      "source": [],
      "id": "bc3bc001"
    },
    {
      "cell_type": "markdown",
      "metadata": {
        "id": "fdb8b76f"
      },
      "source": [
        "171\n",
        "아래와 같이 리스트의 데이터를 출력하라. 단, for문과 range문을 사용하라.\n",
        "\n",
        "price_list = [32100, 32150, 32000, 32500]\n",
        "32100\n",
        "32150\n",
        "32000\n",
        "32500"
      ],
      "id": "fdb8b76f"
    },
    {
      "cell_type": "code",
      "execution_count": null,
      "metadata": {
        "id": "41a8243f"
      },
      "outputs": [],
      "source": [],
      "id": "41a8243f"
    },
    {
      "cell_type": "markdown",
      "metadata": {
        "id": "d5d45dbe"
      },
      "source": [
        "172\n",
        "아래와 같이 리스트의 데이터를 출력하라. 단, for문과 range문을 사용하라.\n",
        "\n",
        "price_list = [32100, 32150, 32000, 32500]\n",
        "0 32100\n",
        "1 32150\n",
        "2 32000\n",
        "3 32500"
      ],
      "id": "d5d45dbe"
    },
    {
      "cell_type": "code",
      "execution_count": null,
      "metadata": {
        "id": "1ef0c087"
      },
      "outputs": [],
      "source": [],
      "id": "1ef0c087"
    },
    {
      "cell_type": "markdown",
      "metadata": {
        "id": "7946e397"
      },
      "source": [
        "173\n",
        "아래와 같이 리스트의 데이터를 출력하라. 단, for문과 range문을 사용하라.\n",
        "\n",
        "price_list = [32100, 32150, 32000, 32500]\n",
        "3 32100\n",
        "2 32150\n",
        "1 32000\n",
        "0 32500"
      ],
      "id": "7946e397"
    },
    {
      "cell_type": "code",
      "execution_count": null,
      "metadata": {
        "id": "a2fd8dd3"
      },
      "outputs": [],
      "source": [],
      "id": "a2fd8dd3"
    },
    {
      "cell_type": "markdown",
      "metadata": {
        "id": "ec4d3abc"
      },
      "source": [
        "174\n",
        "아래와 같이 리스트의 데이터를 출력하라. 단, for문과 range문을 사용하라.\n",
        "\n",
        "price_list = [32100, 32150, 32000, 32500]\n",
        "100 32150\n",
        "110 32000\n",
        "120 32500"
      ],
      "id": "ec4d3abc"
    },
    {
      "cell_type": "code",
      "execution_count": null,
      "metadata": {
        "id": "320f8541"
      },
      "outputs": [],
      "source": [],
      "id": "320f8541"
    },
    {
      "cell_type": "markdown",
      "metadata": {
        "id": "f67422cd"
      },
      "source": [
        "175\n",
        "my_list를 아래와 같이 출력하라.\n",
        "\n",
        "my_list = [\"가\", \"나\", \"다\", \"라\"]\n",
        "가 나\n",
        "나 다\n",
        "다 라"
      ],
      "id": "f67422cd"
    },
    {
      "cell_type": "code",
      "execution_count": null,
      "metadata": {
        "id": "7d298216"
      },
      "outputs": [],
      "source": [],
      "id": "7d298216"
    },
    {
      "cell_type": "markdown",
      "metadata": {
        "id": "170e66cc"
      },
      "source": [
        "176\n",
        "리스트를 아래와 같이 출력하라.\n",
        "\n",
        "my_list = [\"가\", \"나\", \"다\", \"라\", \"마\"]\n",
        "가 나 다\n",
        "나 다 라\n",
        "다 라 마"
      ],
      "id": "170e66cc"
    },
    {
      "cell_type": "code",
      "execution_count": null,
      "metadata": {
        "id": "113e1488"
      },
      "outputs": [],
      "source": [],
      "id": "113e1488"
    },
    {
      "cell_type": "markdown",
      "metadata": {
        "id": "22ef8f8b"
      },
      "source": [
        "177\n",
        "반복문과 range 함수를 사용해서 my_list를 아래와 같이 출력하라.\n",
        "\n",
        "my_list = [\"가\", \"나\", \"다\", \"라\"]\n",
        "라 다\n",
        "다 나\n",
        "나 가"
      ],
      "id": "22ef8f8b"
    },
    {
      "cell_type": "code",
      "execution_count": null,
      "metadata": {
        "id": "cc441eb0"
      },
      "outputs": [],
      "source": [],
      "id": "cc441eb0"
    },
    {
      "cell_type": "markdown",
      "metadata": {
        "id": "948fe257"
      },
      "source": [
        "178\n",
        "리스트에는 네 개의 정수가 저장되어 있다. 각각의 데이터에 대해서 자신과 우측값과의 차분값을 화면에 출력하라.\n",
        "\n",
        "my_list = [100, 200, 400, 800]\n",
        "예를들어 100을 기준으로 우측에 위치한 200과의 차분 값를 화면에 출력하고, 200을 기준으로 우측에 위치한 400과의 차분값을 화면에 출력한다. 이어서 400을 기준으로 우측에 위치한 800과의 차분값을 화면에 출력한다.\n",
        "\n",
        "100\n",
        "200\n",
        "400"
      ],
      "id": "948fe257"
    },
    {
      "cell_type": "code",
      "execution_count": null,
      "metadata": {
        "id": "06f1a438"
      },
      "outputs": [],
      "source": [],
      "id": "06f1a438"
    },
    {
      "cell_type": "markdown",
      "metadata": {
        "id": "dcffc054"
      },
      "source": [
        "179\n",
        "리스트에는 6일 간의 종가 데이터가 저장되어 있다. 종가 데이터의 3일 이동 평균을 계산하고 이를 화면에 출력하라.\n",
        "\n",
        "my_list = [100, 200, 400, 800, 1000, 1300]\n",
        "첫 번째 줄에는 100, 200, 400의 평균값이 출력된다. 두 번째 줄에는 200, 400, 800의 평균값이 출력된다. 같은 방식으로 나머지 데이터의 평균을 출력한다.\n",
        "\n",
        "233.33333333333334\n",
        "466.6666666666667\n",
        "733.3333333333334\n",
        "1033.3333333333333"
      ],
      "id": "dcffc054"
    },
    {
      "cell_type": "code",
      "execution_count": null,
      "metadata": {
        "id": "4a4cee1a"
      },
      "outputs": [],
      "source": [],
      "id": "4a4cee1a"
    },
    {
      "cell_type": "markdown",
      "metadata": {
        "id": "47567dda"
      },
      "source": [
        "180\n",
        "리스트에 5일간의 저가, 고가 정보가 저장돼 있다. 고가와 저가의 차를 변동폭이라고 정의할 때, low, high 두 개의 리스트를 사용해서 5일간의 변동폭을 volatility 리스트에 저장하라.\n",
        "\n",
        "low_prices  = [100, 200, 400, 800, 1000]\n",
        "high_prices = [150, 300, 430, 880, 1000]"
      ],
      "id": "47567dda"
    },
    {
      "cell_type": "code",
      "execution_count": null,
      "metadata": {
        "id": "d168d173"
      },
      "outputs": [],
      "source": [],
      "id": "d168d173"
    },
    {
      "cell_type": "markdown",
      "metadata": {
        "id": "fe56fa95"
      },
      "source": [
        "181\n",
        "아래 표에서 하나의 행을 하나의 리스트로, 총 3개의 리스트를 갖는 이차원 리스트 apart를 정의하라.\n",
        "\n",
        "101호\t102호\n",
        "201호\t202호\n",
        "301호\t302호"
      ],
      "id": "fe56fa95"
    },
    {
      "cell_type": "code",
      "execution_count": null,
      "metadata": {
        "id": "9cba5eb1"
      },
      "outputs": [],
      "source": [],
      "id": "9cba5eb1"
    },
    {
      "cell_type": "markdown",
      "metadata": {
        "id": "98333385"
      },
      "source": [
        "182\n",
        "아래 표에서 하나의 열을 하나의 리스트로, 총 2개의 리스트를 갖는 이차원 리스트 stock을 정의하라.\n",
        "\n",
        "시가\t종가\n",
        "100\t80\n",
        "200\t210\n",
        "300\t330"
      ],
      "id": "98333385"
    },
    {
      "cell_type": "code",
      "execution_count": null,
      "metadata": {
        "id": "404988eb"
      },
      "outputs": [],
      "source": [],
      "id": "404988eb"
    },
    {
      "cell_type": "markdown",
      "metadata": {
        "id": "08183d39"
      },
      "source": [
        "183\n",
        "아래 표를 stock 이름의 딕셔너리로 표현하라.시가를 key로 저장하고, 나머지 같은 열의 데이터를 리스트로 저장해서 value로 저장한다. 종가 역시 key로 저장하고 나머지 같은 열의 데이터를 리스트로 저장해서 value로 저장한다.\n",
        "\n",
        "시가\t종가\n",
        "100\t80\n",
        "200\t210\n",
        "300\t330"
      ],
      "id": "08183d39"
    },
    {
      "cell_type": "code",
      "execution_count": null,
      "metadata": {
        "id": "f8e24e42"
      },
      "outputs": [],
      "source": [],
      "id": "f8e24e42"
    },
    {
      "cell_type": "markdown",
      "metadata": {
        "id": "db2ecf70"
      },
      "source": [
        "184\n",
        "아래 표를 stock 이라는 이름의 딕셔너리로 표현하라. 날짜를 key로 저장하고, 나머지 같은 행의 데이터를 리스트로 저장해서 value로 저장한다. 첫 열이 날짜이다.\n",
        "\n",
        "10/10\t80\t110\t70\t90\n",
        "10/11\t210\t230\t190\t200"
      ],
      "id": "db2ecf70"
    },
    {
      "cell_type": "code",
      "execution_count": null,
      "metadata": {
        "id": "3da7ec8f"
      },
      "outputs": [],
      "source": [],
      "id": "3da7ec8f"
    },
    {
      "cell_type": "markdown",
      "metadata": {
        "id": "903f4354"
      },
      "source": [
        "185\n",
        "리스트에 저장된 데이터를 아래와 같이 출력하라.\n",
        "\n",
        "apart = [ [101, 102], [201, 202], [301, 302] ]\n",
        "101 호\n",
        "102 호\n",
        "201 호\n",
        "202 호\n",
        "301 호\n",
        "302 호"
      ],
      "id": "903f4354"
    },
    {
      "cell_type": "code",
      "execution_count": null,
      "metadata": {
        "id": "5f8d9e88"
      },
      "outputs": [],
      "source": [],
      "id": "5f8d9e88"
    },
    {
      "cell_type": "markdown",
      "metadata": {
        "id": "bbaaba48"
      },
      "source": [
        "186\n",
        "리스트에 저장된 데이터를 아래와 같이 출력하라.\n",
        "\n",
        "apart = [ [101, 102], [201, 202], [301, 302] ]\n",
        "301 호\n",
        "302 호\n",
        "201 호\n",
        "202 호\n",
        "101 호\n",
        "102 호"
      ],
      "id": "bbaaba48"
    },
    {
      "cell_type": "code",
      "execution_count": null,
      "metadata": {
        "id": "0cf9091c"
      },
      "outputs": [],
      "source": [],
      "id": "0cf9091c"
    },
    {
      "cell_type": "markdown",
      "metadata": {
        "id": "80b93164"
      },
      "source": [
        "187\n",
        "리스트에 저장된 데이터를 아래와 같이 출력하라.\n",
        "\n",
        "apart = [ [101, 102], [201, 202], [301, 302] ]\n",
        "302 호\n",
        "301 호\n",
        "202 호\n",
        "201 호\n",
        "102 호\n",
        "101 호"
      ],
      "id": "80b93164"
    },
    {
      "cell_type": "code",
      "execution_count": null,
      "metadata": {
        "id": "e6c0e800"
      },
      "outputs": [],
      "source": [],
      "id": "e6c0e800"
    },
    {
      "cell_type": "markdown",
      "metadata": {
        "id": "efbad77e"
      },
      "source": [
        "188\n",
        "리스트에 저장된 데이터를 아래와 같이 출력하라.\n",
        "\n",
        "apart = [ [101, 102], [201, 202], [301, 302] ]\n",
        "101 호\n",
        "<!-- ----- -->\n",
        "102 호\n",
        "<!-- ----- -->\n",
        "201 호\n",
        "<!-- ----- -->\n",
        "202 호\n",
        "<!-- ----- -->\n",
        "301 호\n",
        "<!-- ----- -->\n",
        "302 호\n",
        "<!-- ----- -->"
      ],
      "id": "efbad77e"
    },
    {
      "cell_type": "code",
      "execution_count": null,
      "metadata": {
        "id": "5e1d5d2c"
      },
      "outputs": [],
      "source": [],
      "id": "5e1d5d2c"
    },
    {
      "cell_type": "markdown",
      "metadata": {
        "id": "f1d4ebf8"
      },
      "source": [
        "189\n",
        "리스트에 저장된 데이터를 아래와 같이 출력하라.\n",
        "\n",
        "apart = [ [101, 102], [201, 202], [301, 302] ]\n",
        "101 호\n",
        "102 호\n",
        "<!-- ----- -->\n",
        "201 호\n",
        "202 호\n",
        "<!-- ----- -->\n",
        "301 호\n",
        "302 호\n",
        "<!-- ----- -->"
      ],
      "id": "f1d4ebf8"
    },
    {
      "cell_type": "code",
      "execution_count": null,
      "metadata": {
        "id": "b2b09c1f"
      },
      "outputs": [],
      "source": [],
      "id": "b2b09c1f"
    },
    {
      "cell_type": "markdown",
      "metadata": {
        "id": "03b2b657"
      },
      "source": [
        "190\n",
        "리스트에 저장된 데이터를 아래와 같이 출력하라.\n",
        "\n",
        "apart = [ [101, 102], [201, 202], [301, 302] ]\n",
        "101 호\n",
        "102 호\n",
        "201 호\n",
        "202 호\n",
        "301 호\n",
        "302 호\n",
        "<!-- ----- -->"
      ],
      "id": "03b2b657"
    },
    {
      "cell_type": "code",
      "execution_count": null,
      "metadata": {
        "id": "feb3cdfd"
      },
      "outputs": [],
      "source": [],
      "id": "feb3cdfd"
    },
    {
      "cell_type": "markdown",
      "metadata": {
        "id": "08ed3268"
      },
      "source": [
        "191\n",
        "data에는 매수한 종목들의 OHLC (open/high/low/close) 가격 정보가 바인딩 되어있다.\n",
        "\n",
        "data = [\n",
        "    [ 2000,  3050,  2050,  1980],\n",
        "    [ 7500,  2050,  2050,  1980],\n",
        "    [15450, 15050, 15550, 14900]\n",
        "]\n",
        "\n",
        "수수료를 0.014 %로 가정할 때, 각 가격에 수수료를 포함한 가격을 한라인에 하나씩 출력하라.\n",
        "\n",
        "2000.28\n",
        "3050.427\n",
        "2050.2870000000003\n",
        "..."
      ],
      "id": "08ed3268"
    },
    {
      "cell_type": "code",
      "execution_count": null,
      "metadata": {
        "id": "72f44043"
      },
      "outputs": [],
      "source": [],
      "id": "72f44043"
    },
    {
      "cell_type": "markdown",
      "metadata": {
        "id": "e37daff9"
      },
      "source": [
        "192\n",
        "191번의 출력 결과에 행단위로 \"----\" 구분자를 추가하라.\n",
        "\n",
        "2000.28\n",
        "3050.427\n",
        "2050.2870000000003\n",
        "1980.2772\n",
        "\"----\"\n",
        "7501.05\n",
        "2050.2870000000003\n",
        "2050.2870000000003\n",
        "1980.2772\n",
        "\"----\"\n",
        "15452.163\n",
        "15052.107\n",
        "15552.177\n",
        "14902.086000000001\n",
        "\"----\""
      ],
      "id": "e37daff9"
    },
    {
      "cell_type": "code",
      "execution_count": null,
      "metadata": {
        "id": "e430ddd2"
      },
      "outputs": [],
      "source": [],
      "id": "e430ddd2"
    },
    {
      "cell_type": "markdown",
      "metadata": {
        "id": "317abf0e"
      },
      "source": [
        "193\n",
        "192 번 문제의 결괏값을 result 이름의 리스트에 1차원 배열로 저장하라.\n",
        "\n",
        ">> print(result)\n",
        "[2000.28, 3050.427, 2050.2870000000003, 1980.2772, 7501.05, 2050.2870000000003, 2050.2870000000003, ...]"
      ],
      "id": "317abf0e"
    },
    {
      "cell_type": "code",
      "execution_count": null,
      "metadata": {
        "id": "43462c2f"
      },
      "outputs": [],
      "source": [],
      "id": "43462c2f"
    },
    {
      "cell_type": "markdown",
      "metadata": {
        "id": "27f64ec3"
      },
      "source": [
        "194\n",
        "191번 문제의 결괏값을 result 이름의 리스트에 2차원 배열로 저장하라. 저장 포맷은 아래와 같다. 각 행에 대한 데이터끼리 리스트에 저장되어야 한다.\n",
        "\n",
        ">> print(result)\n",
        "[\n",
        " [2000.28, 3050.427, 2050.2870000000003, 1980.2772],\n",
        " [7501.05, 2050.2870000000003, 2050.2870000000003, 1980.2772],\n",
        " [15452.163, 15052.107, 15552.177, 14902.086000000001]\n",
        "]"
      ],
      "id": "27f64ec3"
    },
    {
      "cell_type": "code",
      "execution_count": null,
      "metadata": {
        "id": "a0290e8d"
      },
      "outputs": [],
      "source": [],
      "id": "a0290e8d"
    },
    {
      "cell_type": "markdown",
      "metadata": {
        "id": "a53297b1"
      },
      "source": [
        "195\n",
        "ohlc 리스트에는 시가(open), 고가 (high), 저가 (low) , 종가(close)가 날짜별로 저장돼 있다. 화면에 종가데이터를 출력하라.\n",
        "\n",
        "ohlc = [[\"open\", \"high\", \"low\", \"close\"],\n",
        "        [100, 110, 70, 100],\n",
        "        [200, 210, 180, 190],\n",
        "        [300, 310, 300, 310]]\n",
        "100\n",
        "190\n",
        "310"
      ],
      "id": "a53297b1"
    },
    {
      "cell_type": "code",
      "execution_count": null,
      "metadata": {
        "id": "87da16d7"
      },
      "outputs": [],
      "source": [],
      "id": "87da16d7"
    },
    {
      "cell_type": "markdown",
      "metadata": {
        "id": "1357cc1f"
      },
      "source": [
        "196\n",
        "ohlc 리스트에는 시가(open), 고가 (high), 저가 (low) , 종가(close)가 날짜별로 저장돼 있다. 종가가 150원보다 큰경우에만 종가를 출력하라.\n",
        "\n",
        "ohlc = [[\"open\", \"high\", \"low\", \"close\"],\n",
        "        [100, 110, 70, 100],\n",
        "        [200, 210, 180, 190],\n",
        "        [300, 310, 300, 310]]\n",
        "190\n",
        "310"
      ],
      "id": "1357cc1f"
    },
    {
      "cell_type": "code",
      "execution_count": null,
      "metadata": {
        "id": "30cb9f5a"
      },
      "outputs": [],
      "source": [],
      "id": "30cb9f5a"
    },
    {
      "cell_type": "markdown",
      "metadata": {
        "id": "435d86f8"
      },
      "source": [
        "197\n",
        "ohlc 리스트에는 시가(open), 고가 (high), 저가 (low) , 종가(close)가 날짜별로 저장돼 있다. 종가가 시가 보다 크거나 같은 경우에만 종가를 출력하라.\n",
        "\n",
        "ohlc = [[\"open\", \"high\", \"low\", \"close\"],\n",
        "        [100, 110, 70, 100],\n",
        "        [200, 210, 180, 190],\n",
        "        [300, 310, 300, 310]]\n",
        "100\n",
        "310"
      ],
      "id": "435d86f8"
    },
    {
      "cell_type": "code",
      "execution_count": null,
      "metadata": {
        "id": "768b0bd6"
      },
      "outputs": [],
      "source": [],
      "id": "768b0bd6"
    },
    {
      "cell_type": "markdown",
      "metadata": {
        "id": "f829615b"
      },
      "source": [
        "198\n",
        "ohlc 리스트에는 시가(open), 고가 (high), 저가 (low) , 종가(close)가 날짜별로 저장돼 있다. 고가와 저가의 차이를 변동폭으로 정의할 때 변동폭을 volatility 이름의 리스트에 저장하라.\n",
        "\n",
        "ohlc = [[\"open\", \"high\", \"low\", \"close\"],\n",
        "        [100, 110, 70, 100],\n",
        "        [200, 210, 180, 190],\n",
        "        [300, 310, 300, 310]]\n",
        ">> print(volatility)\n",
        "[40, 30, 10]"
      ],
      "id": "f829615b"
    },
    {
      "cell_type": "code",
      "execution_count": null,
      "metadata": {
        "id": "2d8316a0"
      },
      "outputs": [],
      "source": [],
      "id": "2d8316a0"
    },
    {
      "cell_type": "markdown",
      "metadata": {
        "id": "157d03e5"
      },
      "source": [
        "199\n",
        "리스트에는 3일 간의 ohlc 데이터가 저장돼 있다. 종가가 시가보다 높은 날의 변동성 (고가 - 저가)을 화면에 출력하라.\n",
        "\n",
        "ohlc = [[\"open\", \"high\", \"low\", \"close\"],\n",
        "        [100, 110, 70, 100],\n",
        "        [200, 210, 180, 190],\n",
        "        [300, 310, 300, 310]]\n",
        "종가가 시가보다 높은 거래일의 OHLC는 [300, 310, 300, 310] 이다. 따라서 이 거래일의 변동성은 10 (310 - 300)이다.\n",
        "\n",
        "10"
      ],
      "id": "157d03e5"
    },
    {
      "cell_type": "code",
      "execution_count": null,
      "metadata": {
        "id": "1c792928"
      },
      "outputs": [],
      "source": [],
      "id": "1c792928"
    },
    {
      "cell_type": "markdown",
      "metadata": {
        "id": "4fd63555"
      },
      "source": [
        "200\n",
        "리스트에는 3일 간의 ohlc 데이터가 저장돼 있다. 시가에 매수해서 종가에 매도 했을 경우 총 수익금을 계산하라.\n",
        "\n",
        "ohlc = [[\"open\", \"high\", \"low\", \"close\"],\n",
        "        [100, 110, 70, 100],\n",
        "        [200, 210, 180, 190],\n",
        "        [300, 310, 300, 310]]\n",
        "1일차 수익 0원 (100 - 100), 2일차 수익 -10원 (190 - 200), 3일차 수익 10원 (310 - 300) 이다.\n",
        "\n",
        "0"
      ],
      "id": "4fd63555"
    },
    {
      "cell_type": "code",
      "execution_count": null,
      "metadata": {
        "id": "919ed913"
      },
      "outputs": [],
      "source": [],
      "id": "919ed913"
    },
    {
      "cell_type": "markdown",
      "metadata": {
        "id": "a43dc052"
      },
      "source": [
        "## 09. 파이썬 함수"
      ],
      "id": "a43dc052"
    },
    {
      "cell_type": "markdown",
      "metadata": {
        "id": "9235261e"
      },
      "source": [
        "201\n",
        "\"비트코인\" 문자열을 화면에 출력하는 print_coin() 함수를 정의하라."
      ],
      "id": "9235261e"
    },
    {
      "cell_type": "code",
      "execution_count": null,
      "metadata": {
        "id": "d999d817"
      },
      "outputs": [],
      "source": [],
      "id": "d999d817"
    },
    {
      "cell_type": "markdown",
      "metadata": {
        "id": "e2f9bb7f"
      },
      "source": [
        "202\n",
        "201번에서 정의한 함수를 호출하라."
      ],
      "id": "e2f9bb7f"
    },
    {
      "cell_type": "code",
      "execution_count": null,
      "metadata": {
        "id": "25e817f0"
      },
      "outputs": [],
      "source": [],
      "id": "25e817f0"
    },
    {
      "cell_type": "markdown",
      "metadata": {
        "id": "843a9540"
      },
      "source": [
        "203\n",
        "201번에서 정의한 print_coin 함수를 100번호출하라."
      ],
      "id": "843a9540"
    },
    {
      "cell_type": "code",
      "execution_count": null,
      "metadata": {
        "id": "e81ba835"
      },
      "outputs": [],
      "source": [],
      "id": "e81ba835"
    },
    {
      "cell_type": "markdown",
      "metadata": {
        "id": "d4d693e4"
      },
      "source": [
        "204\n",
        "\"비트코인\" 문자열을 100번 화면에 출력하는 print_coins() 함수를 정의하라."
      ],
      "id": "d4d693e4"
    },
    {
      "cell_type": "code",
      "execution_count": null,
      "metadata": {
        "id": "569fdf29"
      },
      "outputs": [],
      "source": [],
      "id": "569fdf29"
    },
    {
      "cell_type": "markdown",
      "metadata": {
        "id": "c444294a"
      },
      "source": [
        "205\n",
        "아래의 에러가 발생하는 이유에 대해 설명하라.\n",
        "\n",
        "hello()\n",
        "def hello():\n",
        "    print(\"Hi\")\n",
        "실행 예\n",
        "\n",
        "NameError: name 'hello' is not defined"
      ],
      "id": "c444294a"
    },
    {
      "cell_type": "code",
      "execution_count": null,
      "metadata": {
        "id": "fffda411"
      },
      "outputs": [],
      "source": [],
      "id": "fffda411"
    },
    {
      "cell_type": "markdown",
      "metadata": {
        "id": "763c2cba"
      },
      "source": [
        "206\n",
        "아래 코드의 실행 결과를 예측하라.\n",
        "\n",
        "def message() :\n",
        "    print(\"A\")\n",
        "    print(\"B\")\n",
        "\n",
        "message()\n",
        "print(\"C\")\n",
        "message()"
      ],
      "id": "763c2cba"
    },
    {
      "cell_type": "code",
      "execution_count": null,
      "metadata": {
        "id": "1e4b5a5f"
      },
      "outputs": [],
      "source": [],
      "id": "1e4b5a5f"
    },
    {
      "cell_type": "markdown",
      "metadata": {
        "id": "e590ca5b"
      },
      "source": [
        "207\n",
        "아래 코드의 실행 결과를 예측하라. (읽기 어려운 코드의 예입니다.)\n",
        "\n",
        "print(\"A\")\n",
        "\n",
        "def message() :\n",
        "    print(\"B\")\n",
        "\n",
        "print(\"C\")\n",
        "message()"
      ],
      "id": "e590ca5b"
    },
    {
      "cell_type": "code",
      "execution_count": null,
      "metadata": {
        "id": "6c670bcc"
      },
      "outputs": [],
      "source": [],
      "id": "6c670bcc"
    },
    {
      "cell_type": "markdown",
      "metadata": {
        "id": "9dc2f5e1"
      },
      "source": [
        "208\n",
        "아래 코드의 실행 결과를 예측하라. (읽기 어려운 코드의 예입니다.)\n",
        "\n",
        "print(\"A\")\n",
        "def message1() :\n",
        "    print(\"B\")\n",
        "print(\"C\")\n",
        "def message2() :\n",
        "    print(\"D\")\n",
        "message1()\n",
        "print(\"E\")\n",
        "message2()"
      ],
      "id": "9dc2f5e1"
    },
    {
      "cell_type": "code",
      "execution_count": null,
      "metadata": {
        "id": "499450cf"
      },
      "outputs": [],
      "source": [],
      "id": "499450cf"
    },
    {
      "cell_type": "markdown",
      "metadata": {
        "id": "ec579d79"
      },
      "source": [
        "209\n",
        "아래 코드의 실행 결과를 예측하라.\n",
        "\n",
        "def message1():\n",
        "    print(\"A\")\n",
        "\n",
        "def message2():\n",
        "    print(\"B\")\n",
        "    message1()\n",
        "\n",
        "message2()"
      ],
      "id": "ec579d79"
    },
    {
      "cell_type": "code",
      "execution_count": null,
      "metadata": {
        "id": "56c062a9"
      },
      "outputs": [],
      "source": [],
      "id": "56c062a9"
    },
    {
      "cell_type": "markdown",
      "metadata": {
        "id": "80368640"
      },
      "source": [
        "210\n",
        "아래 코드의 실행 결과를 예측하라.\n",
        "\n",
        "def message1():\n",
        "    print(\"A\")\n",
        "\n",
        "def message2():\n",
        "    print(\"B\")\n",
        "\n",
        "def message3():\n",
        "    for i in range (3) :\n",
        "        message2()\n",
        "        print(\"C\")\n",
        "    message1()\n",
        "\n",
        "message3()"
      ],
      "id": "80368640"
    },
    {
      "cell_type": "code",
      "execution_count": null,
      "metadata": {
        "id": "daef5247"
      },
      "outputs": [],
      "source": [],
      "id": "daef5247"
    },
    {
      "cell_type": "markdown",
      "metadata": {
        "id": "ac499b0e"
      },
      "source": [
        "211\n",
        "함수의 호출 결과를 예측하라.\n",
        "\n",
        "def 함수(문자열) :\n",
        "    print(문자열)\n",
        "\n",
        "함수(\"안녕\")\n",
        "함수(\"Hi\")"
      ],
      "id": "ac499b0e"
    },
    {
      "cell_type": "code",
      "execution_count": null,
      "metadata": {
        "id": "3cf10111"
      },
      "outputs": [],
      "source": [],
      "id": "3cf10111"
    },
    {
      "cell_type": "markdown",
      "metadata": {
        "id": "227cd570"
      },
      "source": [
        "212\n",
        "함수의 호출 결과를 예측하라.\n",
        "\n",
        "def 함수(a, b) :\n",
        "    print(a + b)\n",
        "\n",
        "함수(3, 4)\n",
        "함수(7, 8)"
      ],
      "id": "227cd570"
    },
    {
      "cell_type": "code",
      "execution_count": null,
      "metadata": {
        "id": "6f678a08"
      },
      "outputs": [],
      "source": [],
      "id": "6f678a08"
    },
    {
      "cell_type": "markdown",
      "metadata": {
        "id": "6e8e690a"
      },
      "source": [
        "213\n",
        "아래와 같은 에러가 발생하는 원인을 설명하라.\n",
        "\n",
        "def 함수(문자열) :\n",
        "    print(문자열)\n",
        "함수()\n",
        "TypeError: 함수() missing 1 required positional argument: '문자열'"
      ],
      "id": "6e8e690a"
    },
    {
      "cell_type": "code",
      "execution_count": null,
      "metadata": {
        "id": "043ee465"
      },
      "outputs": [],
      "source": [],
      "id": "043ee465"
    },
    {
      "cell_type": "markdown",
      "metadata": {
        "id": "41096c6c"
      },
      "source": [
        "214\n",
        "아래와 같은 에러가 발생하는 원인을 설명하라.\n",
        "\n",
        "def 함수(a, b) :\n",
        "    print(a + b)\n",
        "\n",
        "함수(\"안녕\", 3)\n",
        "TypeError: must be str, not int"
      ],
      "id": "41096c6c"
    },
    {
      "cell_type": "code",
      "execution_count": null,
      "metadata": {
        "id": "af92d1a3"
      },
      "outputs": [],
      "source": [],
      "id": "af92d1a3"
    },
    {
      "cell_type": "markdown",
      "metadata": {
        "id": "652ac024"
      },
      "source": [
        "215\n",
        "하나의 문자를 입력받아 문자열 끝에 \":D\" 스마일 문자열을 이어 붙여 출력하는 print_with_smile 함수를 정의하라."
      ],
      "id": "652ac024"
    },
    {
      "cell_type": "code",
      "execution_count": null,
      "metadata": {
        "id": "96a69382"
      },
      "outputs": [],
      "source": [],
      "id": "96a69382"
    },
    {
      "cell_type": "markdown",
      "metadata": {
        "id": "9fa5eba9"
      },
      "source": [
        "216\n",
        "215에서 정의한 함수를 호출하라. 파라미터는 \"안녕하세요\"로 입력하라."
      ],
      "id": "9fa5eba9"
    },
    {
      "cell_type": "code",
      "execution_count": null,
      "metadata": {
        "id": "d8ef1969"
      },
      "outputs": [],
      "source": [],
      "id": "d8ef1969"
    },
    {
      "cell_type": "markdown",
      "metadata": {
        "id": "b46ae153"
      },
      "source": [
        "217\n",
        "현재 가격을 입력 받아 상한가 (30%)를 출력하는 print_upper_price 함수를 정의하라."
      ],
      "id": "b46ae153"
    },
    {
      "cell_type": "code",
      "execution_count": null,
      "metadata": {
        "id": "2437e055"
      },
      "outputs": [],
      "source": [],
      "id": "2437e055"
    },
    {
      "cell_type": "markdown",
      "metadata": {
        "id": "78c8e60b"
      },
      "source": [
        "218\n",
        "두 개의 숫자를 입력받아 두 수의 합을 출력하는 print_sum 함수를 정의하라."
      ],
      "id": "78c8e60b"
    },
    {
      "cell_type": "code",
      "execution_count": null,
      "metadata": {
        "id": "23d53058"
      },
      "outputs": [],
      "source": [],
      "id": "23d53058"
    },
    {
      "cell_type": "markdown",
      "metadata": {
        "id": "56661bc3"
      },
      "source": [
        "219\n",
        "두 개의 숫자를 입력받아 합/차/곱/나눗셈을 출력하는 print_arithmetic_operation 함수를 작성하라.\n",
        "\n",
        "print_arithmetic_operation(3, 4)\n",
        "3 + 4 = 7\n",
        "3 - 4 = -1\n",
        "3 * 4 = 12\n",
        "3 / 4 = 0.75"
      ],
      "id": "56661bc3"
    },
    {
      "cell_type": "code",
      "execution_count": null,
      "metadata": {
        "id": "ddad46be"
      },
      "outputs": [],
      "source": [],
      "id": "ddad46be"
    },
    {
      "cell_type": "markdown",
      "metadata": {
        "id": "fbe42791"
      },
      "source": [
        "220\n",
        "세 개의 숫자를 입력받아 가장 큰수를 출력하는 print_max 함수를 정의하라. 단 if 문을 사용해서 수를 비교하라."
      ],
      "id": "fbe42791"
    },
    {
      "cell_type": "code",
      "execution_count": null,
      "metadata": {
        "id": "5dd31ce0"
      },
      "outputs": [],
      "source": [],
      "id": "5dd31ce0"
    },
    {
      "cell_type": "markdown",
      "metadata": {
        "id": "8fd27af5"
      },
      "source": [
        "221\n",
        "입력된 문자열을 역순으로 출력하는 print_reverse 함수를 정의하라.\n",
        "\n",
        "print_reverse(\"python\")\n",
        "nohtyp"
      ],
      "id": "8fd27af5"
    },
    {
      "cell_type": "code",
      "execution_count": null,
      "metadata": {
        "id": "fdd8c427"
      },
      "outputs": [],
      "source": [],
      "id": "fdd8c427"
    },
    {
      "cell_type": "markdown",
      "metadata": {
        "id": "9888c739"
      },
      "source": [
        "222\n",
        "성적 리스트를 입력 받아 평균을 출력하는 print_score 함수를 정의하라.\n",
        "\n",
        "print_score ([1, 2, 3])\n",
        "2.0"
      ],
      "id": "9888c739"
    },
    {
      "cell_type": "code",
      "execution_count": null,
      "metadata": {
        "id": "c70da477"
      },
      "outputs": [],
      "source": [],
      "id": "c70da477"
    },
    {
      "cell_type": "markdown",
      "metadata": {
        "id": "2e5e32af"
      },
      "source": [
        "223\n",
        "하나의 리스트를 입력받아 짝수만 화면에 출력하는 print_even 함수를 정의하라.\n",
        "\n",
        "print_even ([1, 3, 2, 10, 12, 11, 15])\n",
        "2\n",
        "10\n",
        "12"
      ],
      "id": "2e5e32af"
    },
    {
      "cell_type": "code",
      "execution_count": null,
      "metadata": {
        "id": "2bc9cf60"
      },
      "outputs": [],
      "source": [],
      "id": "2bc9cf60"
    },
    {
      "cell_type": "markdown",
      "metadata": {
        "id": "a1c7457f"
      },
      "source": [
        "224\n",
        "하나의 딕셔너리를 입력받아 딕셔너리의 key 값을 화면에 출력하는 print_keys 함수를 정의하라.\n",
        "\n",
        "print_keys ({\"이름\":\"김말똥\", \"나이\":30, \"성별\":0})\n",
        "이름\n",
        "나이\n",
        "성별"
      ],
      "id": "a1c7457f"
    },
    {
      "cell_type": "code",
      "execution_count": null,
      "metadata": {
        "id": "cb8a8c77"
      },
      "outputs": [],
      "source": [],
      "id": "cb8a8c77"
    },
    {
      "cell_type": "markdown",
      "metadata": {
        "id": "518049f0"
      },
      "source": [
        "225\n",
        "my_dict에는 날짜를 키값으로 OHLC가 리스트로 저장돼 있다.\n",
        "\n",
        "my_dict = {\"10/26\" : [100, 130, 100, 100],\n",
        "           \"10/27\" : [10, 12, 10, 11]}\n",
        "my_dict와 날짜 키값을 입력받아 OHLC 리스트를 출력하는 print_value_by_key 함수를 정의하라.\n",
        "\n",
        "print_value_by_key  (my_dict, \"10/26\")\n",
        "[100, 130, 100, 100]"
      ],
      "id": "518049f0"
    },
    {
      "cell_type": "code",
      "execution_count": null,
      "metadata": {
        "id": "af8a6e66"
      },
      "outputs": [],
      "source": [],
      "id": "af8a6e66"
    },
    {
      "cell_type": "markdown",
      "metadata": {
        "id": "bbadfbbb"
      },
      "source": [
        "226\n",
        "입력 문자열을 한 줄에 다섯글자씩 출력하는 print_5xn(string) 함수를 작성하라.\n",
        "\n",
        "print_5xn(\"아이엠어보이유알어걸\")\n",
        "아이엠어보\n",
        "이유알어걸"
      ],
      "id": "bbadfbbb"
    },
    {
      "cell_type": "code",
      "execution_count": null,
      "metadata": {
        "id": "c34b1dd6"
      },
      "outputs": [],
      "source": [],
      "id": "c34b1dd6"
    },
    {
      "cell_type": "markdown",
      "metadata": {
        "id": "cda8e7bb"
      },
      "source": [
        "227\n",
        "문자열과 한줄에 출력될 글자 수를 입력을 받아 한 줄에 입력된 글자 수만큼 출력하는 print_mxn(string) 함수를 작성하라.\n",
        "\n",
        "printmxn(\"아이엠어보이유알어걸\", 3)\n",
        "아이엠\n",
        "어보이\n",
        "유알어\n",
        "걸"
      ],
      "id": "cda8e7bb"
    },
    {
      "cell_type": "code",
      "execution_count": null,
      "metadata": {
        "id": "382477a3"
      },
      "outputs": [],
      "source": [],
      "id": "382477a3"
    },
    {
      "cell_type": "markdown",
      "metadata": {
        "id": "ffcbdcf7"
      },
      "source": [
        "228\n",
        "연봉을 입력받아 월급을 계산하는 calc_monthly_salary(annual_salary) 함수를 정의하라. 회사는 연봉을 12개월로 나누어 분할 지급하며, 이 때 1원 미만은 버림한다.\n",
        "\n",
        "calc_monthly_salary(12000000)\n",
        "1000000"
      ],
      "id": "ffcbdcf7"
    },
    {
      "cell_type": "code",
      "execution_count": null,
      "metadata": {
        "id": "41c78dec"
      },
      "outputs": [],
      "source": [],
      "id": "41c78dec"
    },
    {
      "cell_type": "markdown",
      "metadata": {
        "id": "6abfd50d"
      },
      "source": [
        "229\n",
        "아래 코드의 실행 결과를 예측하라.\n",
        "\n",
        "def my_print (a, b) :\n",
        "    print(\"왼쪽:\", a)\n",
        "    print(\"오른쪽:\", b)\n",
        "\n",
        "my_print(a=100, b=200)"
      ],
      "id": "6abfd50d"
    },
    {
      "cell_type": "code",
      "execution_count": null,
      "metadata": {
        "id": "ec4452bc"
      },
      "outputs": [],
      "source": [],
      "id": "ec4452bc"
    },
    {
      "cell_type": "markdown",
      "metadata": {
        "id": "619e0ba1"
      },
      "source": [
        "230\n",
        "아래 코드의 실행 결과를 예측하라.\n",
        "\n",
        "def my_print (a, b) :\n",
        "    print(\"왼쪽:\", a)\n",
        "    print(\"오른쪽:\", b)\n",
        "\n",
        "my_print(b=100, a=200)"
      ],
      "id": "619e0ba1"
    },
    {
      "cell_type": "code",
      "execution_count": null,
      "metadata": {
        "id": "614e5045"
      },
      "outputs": [],
      "source": [],
      "id": "614e5045"
    },
    {
      "cell_type": "markdown",
      "metadata": {
        "id": "194537f5"
      },
      "source": [
        "231\n",
        "아래 코드를 실행한 결과를 예상하라.\n",
        "\n",
        "def n_plus_1 (n) :\n",
        "    result = n + 1\n",
        "\n",
        "n_plus_1(3)\n",
        "print (result)"
      ],
      "id": "194537f5"
    },
    {
      "cell_type": "code",
      "execution_count": null,
      "metadata": {
        "id": "1b60bbef"
      },
      "outputs": [],
      "source": [],
      "id": "1b60bbef"
    },
    {
      "cell_type": "markdown",
      "metadata": {
        "id": "c78e4870"
      },
      "source": [
        "232\n",
        "문자열 하나를 입력받아 인터넷 주소를 반환하는 make_url 함수를 정의하라.\n",
        "\n",
        "make_url(\"naver\")\n",
        "www.naver.com"
      ],
      "id": "c78e4870"
    },
    {
      "cell_type": "code",
      "execution_count": null,
      "metadata": {
        "id": "f7f8ca43"
      },
      "outputs": [],
      "source": [],
      "id": "f7f8ca43"
    },
    {
      "cell_type": "markdown",
      "metadata": {
        "id": "825cc216"
      },
      "source": [
        "233\n",
        "문자열을 입력받아 각 문자들로 구성된 리스트로 반환하는 make_list 함수를 정의하라.\n",
        "\n",
        "make_list(\"abcd\")\n",
        "['a', 'b', 'c', 'd']"
      ],
      "id": "825cc216"
    },
    {
      "cell_type": "code",
      "execution_count": null,
      "metadata": {
        "id": "b9f3957e"
      },
      "outputs": [],
      "source": [],
      "id": "b9f3957e"
    },
    {
      "cell_type": "markdown",
      "metadata": {
        "id": "1288ceb6"
      },
      "source": [
        "234\n",
        "숫자로 구성된 하나의 리스트를 입력받아, 짝수들을 추출하여 리스트로 반환하는 pickup_even 함수를 구현하라.\n",
        "\n",
        "pickup_even([3, 4, 5, 6, 7, 8])\n",
        "[4, 6, 8]"
      ],
      "id": "1288ceb6"
    },
    {
      "cell_type": "code",
      "execution_count": null,
      "metadata": {
        "id": "1e493957"
      },
      "outputs": [],
      "source": [],
      "id": "1e493957"
    },
    {
      "cell_type": "markdown",
      "metadata": {
        "id": "99c55f69"
      },
      "source": [
        "235\n",
        "콤마가 포함된 문자열 숫자를 입력받아 정수로 변환하는 convert_int 함수를 정의하라.\n",
        "\n",
        "convert_int(\"1,234,567\")\n",
        "1234567"
      ],
      "id": "99c55f69"
    },
    {
      "cell_type": "code",
      "execution_count": null,
      "metadata": {
        "id": "780bd6d8"
      },
      "outputs": [],
      "source": [],
      "id": "780bd6d8"
    },
    {
      "cell_type": "markdown",
      "metadata": {
        "id": "6c1a6a9d"
      },
      "source": [
        "236\n",
        "아래 코드의 실행 결과를 예측하라.\n",
        "\n",
        "def 함수(num) :\n",
        "    return num + 4\n",
        "\n",
        "a = 함수(10)\n",
        "b = 함수(a)\n",
        "c = 함수(b)\n",
        "print(c)"
      ],
      "id": "6c1a6a9d"
    },
    {
      "cell_type": "code",
      "execution_count": null,
      "metadata": {
        "id": "8e38096e"
      },
      "outputs": [],
      "source": [],
      "id": "8e38096e"
    },
    {
      "cell_type": "markdown",
      "metadata": {
        "id": "0f711ddb"
      },
      "source": [
        "237\n",
        "아래 코드의 실행 결과를 예측하라.\n",
        "\n",
        "def 함수(num) :\n",
        "    return num + 4\n",
        "\n",
        "c = 함수(함수(함수(10)))\n",
        "print(c)"
      ],
      "id": "0f711ddb"
    },
    {
      "cell_type": "code",
      "execution_count": null,
      "metadata": {
        "id": "23a1c50f"
      },
      "outputs": [],
      "source": [],
      "id": "23a1c50f"
    },
    {
      "cell_type": "markdown",
      "metadata": {
        "id": "40bef809"
      },
      "source": [
        "238\n",
        "아래 코드의 실행 결과를 예측하라.\n",
        "\n",
        "def 함수1(num) :\n",
        "    return num + 4\n",
        "\n",
        "def 함수2(num) :\n",
        "    return num * 10\n",
        "\n",
        "a = 함수1(10)\n",
        "c = 함수2(a)\n",
        "print(c)"
      ],
      "id": "40bef809"
    },
    {
      "cell_type": "code",
      "execution_count": null,
      "metadata": {
        "id": "7fba5ff3"
      },
      "outputs": [],
      "source": [],
      "id": "7fba5ff3"
    },
    {
      "cell_type": "markdown",
      "metadata": {
        "id": "8c221eba"
      },
      "source": [
        "239\n",
        "아래 코드의 실행 결과를 예측하라.\n",
        "\n",
        "def 함수1(num) :\n",
        "    return num + 4\n",
        "\n",
        "def 함수2(num) :\n",
        "    num = num + 2\n",
        "    return 함수1(num)\n",
        "\n",
        "c = 함수2(10)\n",
        "print(c)"
      ],
      "id": "8c221eba"
    },
    {
      "cell_type": "code",
      "execution_count": null,
      "metadata": {
        "id": "0b5b13b4"
      },
      "outputs": [],
      "source": [],
      "id": "0b5b13b4"
    },
    {
      "cell_type": "markdown",
      "metadata": {
        "id": "e024712b"
      },
      "source": [
        "240\n",
        "아래 코드의 실행 결과를 예측하라.\n",
        "\n",
        "def 함수0(num) :\n",
        "    return num * 2\n",
        "\n",
        "def 함수1(num) :\n",
        "    return 함수0(num + 2)\n",
        "\n",
        "def 함수2(num) :\n",
        "    num = num + 10\n",
        "    return 함수1(num)\n",
        "\n",
        "c = 함수2(2)\n",
        "print(c)"
      ],
      "id": "e024712b"
    },
    {
      "cell_type": "code",
      "execution_count": null,
      "metadata": {
        "id": "49398d45"
      },
      "outputs": [],
      "source": [],
      "id": "49398d45"
    },
    {
      "cell_type": "markdown",
      "metadata": {
        "id": "d9c7a2d4"
      },
      "source": [
        "## 10. 파이썬 모듈"
      ],
      "id": "d9c7a2d4"
    },
    {
      "cell_type": "markdown",
      "metadata": {
        "id": "8be627f7"
      },
      "source": [
        "241 현재시간\n",
        "datetime 모듈을 사용해서 현재 시간을 화면에 출력해보세요."
      ],
      "id": "8be627f7"
    },
    {
      "cell_type": "code",
      "execution_count": null,
      "metadata": {
        "id": "06226259"
      },
      "outputs": [],
      "source": [],
      "id": "06226259"
    },
    {
      "cell_type": "markdown",
      "metadata": {
        "id": "48c89b36"
      },
      "source": [
        "242 현재시간의 타입\n",
        "datetime 모듈의 now 함수의 리턴 값의 타입을 화면에 출력해보세요."
      ],
      "id": "48c89b36"
    },
    {
      "cell_type": "code",
      "execution_count": null,
      "metadata": {
        "id": "ccccf207"
      },
      "outputs": [],
      "source": [],
      "id": "ccccf207"
    },
    {
      "cell_type": "markdown",
      "metadata": {
        "id": "a33a305b"
      },
      "source": [
        "243 timedelta\n",
        "datetime 모듈의 timedelta를 사용해서 오늘로부터 5일, 4일, 3일, 2일, 1일 전의 날짜를 화면에 출력해보세요."
      ],
      "id": "a33a305b"
    },
    {
      "cell_type": "code",
      "execution_count": null,
      "metadata": {
        "id": "f4904747"
      },
      "outputs": [],
      "source": [],
      "id": "f4904747"
    },
    {
      "cell_type": "markdown",
      "metadata": {
        "id": "34e85d4b"
      },
      "source": [
        "244 strftime\n",
        "현재시간을 얻어온 후 다음과 같은 포맷으로 시간을 출력해보세요. strftime 메서드를 사용하세요.\n",
        "\n",
        "18:35:01 "
      ],
      "id": "34e85d4b"
    },
    {
      "cell_type": "code",
      "execution_count": null,
      "metadata": {
        "id": "b5145c40"
      },
      "outputs": [],
      "source": [],
      "id": "b5145c40"
    },
    {
      "cell_type": "markdown",
      "metadata": {
        "id": "ba4d314e"
      },
      "source": [
        "245 strptime\n",
        "datetime.datetime.strptime 메서드를 사용하면 문자열 형식의 시간을 datetime.datetime 타입의 시간 값으로 만들어줍니다. \"2020-05-04\"의 문자열을 시간 타입으로 변환해보세요."
      ],
      "id": "ba4d314e"
    },
    {
      "cell_type": "code",
      "execution_count": null,
      "metadata": {
        "id": "00530976"
      },
      "outputs": [],
      "source": [],
      "id": "00530976"
    },
    {
      "cell_type": "markdown",
      "metadata": {
        "id": "9e97b71f"
      },
      "source": [
        "246 sleep 함수\n",
        "time 모듈, datetime 모듈을 사용해서 1초에 한 번 현재 시간을 출력하는 코드를 작성하세요."
      ],
      "id": "9e97b71f"
    },
    {
      "cell_type": "code",
      "execution_count": null,
      "metadata": {
        "id": "b61a0156"
      },
      "outputs": [],
      "source": [],
      "id": "b61a0156"
    },
    {
      "cell_type": "markdown",
      "metadata": {
        "id": "161783fe"
      },
      "source": [
        "247 모듈 임포트\n",
        "모듈을 임포트하는 4가지 방식에 대해 설명해보세요."
      ],
      "id": "161783fe"
    },
    {
      "cell_type": "code",
      "execution_count": null,
      "metadata": {
        "id": "fabd23a2"
      },
      "outputs": [],
      "source": [],
      "id": "fabd23a2"
    },
    {
      "cell_type": "markdown",
      "metadata": {
        "id": "64acde47"
      },
      "source": [
        "248 os 모듈\n",
        "os 모듈의 getcwd 함수를 호출하여 현재 디렉터리의 경로를 화면에 출력해보세요."
      ],
      "id": "64acde47"
    },
    {
      "cell_type": "code",
      "execution_count": null,
      "metadata": {
        "id": "28cf4217"
      },
      "outputs": [],
      "source": [],
      "id": "28cf4217"
    },
    {
      "cell_type": "markdown",
      "metadata": {
        "id": "280d587a"
      },
      "source": [
        "249 rename 함수\n",
        "바탕화면에 텍스트 파일을 하나 생성한 후 os 모듈의 rename 함수를 호출하여 해당 파일의 이름을 변경해보세요."
      ],
      "id": "280d587a"
    },
    {
      "cell_type": "code",
      "execution_count": null,
      "metadata": {
        "id": "cf4fac8e"
      },
      "outputs": [],
      "source": [],
      "id": "cf4fac8e"
    },
    {
      "cell_type": "markdown",
      "metadata": {
        "id": "0519185c"
      },
      "source": [
        "250 numpy\n",
        "numpy 모듈의 arange 함수를 사용해서 0.0 부터 5.0까지 0.1씩 증가하는 값을 화면에 출력해보세요."
      ],
      "id": "0519185c"
    },
    {
      "cell_type": "code",
      "execution_count": null,
      "metadata": {
        "id": "59224fb9"
      },
      "outputs": [],
      "source": [],
      "id": "59224fb9"
    },
    {
      "cell_type": "markdown",
      "metadata": {
        "id": "28affa3f"
      },
      "source": [
        "## 11. 파이썬 클래스"
      ],
      "id": "28affa3f"
    },
    {
      "cell_type": "markdown",
      "metadata": {
        "id": "c6a6a7c3"
      },
      "source": [
        "251 클래스, 객체, 인스턴스\n",
        "클래스, 객체, 인스턴스에 대해 설명해봅시다."
      ],
      "id": "c6a6a7c3"
    },
    {
      "cell_type": "code",
      "execution_count": null,
      "metadata": {
        "id": "675d51f2"
      },
      "outputs": [],
      "source": [],
      "id": "675d51f2"
    },
    {
      "cell_type": "markdown",
      "metadata": {
        "id": "bbbe5d3a"
      },
      "source": [
        "252 클래스 정의\n",
        "비어있는 사람 (Human) 클래스를 \"정의\" 해보세요."
      ],
      "id": "bbbe5d3a"
    },
    {
      "cell_type": "code",
      "execution_count": null,
      "metadata": {
        "id": "70e517db"
      },
      "outputs": [],
      "source": [],
      "id": "70e517db"
    },
    {
      "cell_type": "markdown",
      "metadata": {
        "id": "2a87a7f3"
      },
      "source": [
        "253 인스턴스 생성\n",
        "사람 (Human) 클래스의 인스턴스를 \"생성\" 하고 이를 areum 변수로 바인딩해보세요."
      ],
      "id": "2a87a7f3"
    },
    {
      "cell_type": "code",
      "execution_count": null,
      "metadata": {
        "id": "ec274781"
      },
      "outputs": [],
      "source": [],
      "id": "ec274781"
    },
    {
      "cell_type": "markdown",
      "metadata": {
        "id": "96c9cd0a"
      },
      "source": [
        "254 클래스 생성자-1\n",
        "사람 (Human) 클래스에 \"응애응애\"를 출력하는 생성자를 추가하세요."
      ],
      "id": "96c9cd0a"
    },
    {
      "cell_type": "code",
      "execution_count": null,
      "metadata": {
        "id": "a1717f1d"
      },
      "outputs": [],
      "source": [],
      "id": "a1717f1d"
    },
    {
      "cell_type": "markdown",
      "metadata": {
        "id": "dc1077d5"
      },
      "source": [
        "255 클래스 생성자-2\n",
        "사람 (Human) 클래스에 (이름, 나이, 성별)을 받는 생성자를 추가하세요.\n",
        "\n",
        ">>> areum = Human(\"아름\", 25, \"여자\")"
      ],
      "id": "dc1077d5"
    },
    {
      "cell_type": "code",
      "execution_count": null,
      "metadata": {
        "id": "e5c730a3"
      },
      "outputs": [],
      "source": [],
      "id": "e5c730a3"
    },
    {
      "cell_type": "markdown",
      "metadata": {
        "id": "767241bd"
      },
      "source": [
        "256 인스턴스 속성에 접근\n",
        "255에서 생성한 인스턴스의 이름, 나이, 성별을 출력하세요. 인스턴스 변수에 접근하여 값을 출력하면 됩니다.\n",
        "\n",
        "이름: 조아름, 나이: 25, 성별: 여자\n",
        "인스턴스 변수에 접근하여 값을 가져오는 예\n",
        "\n",
        ">>> areum.age\n",
        "25"
      ],
      "id": "767241bd"
    },
    {
      "cell_type": "code",
      "execution_count": null,
      "metadata": {
        "id": "99c69ac7"
      },
      "outputs": [],
      "source": [],
      "id": "99c69ac7"
    },
    {
      "cell_type": "markdown",
      "metadata": {
        "id": "e6cdca48"
      },
      "source": [
        "257 클래스 메소드 - 1\n",
        "사람 (Human) 클래스에서 이름, 나이, 성별을 출력하는 who() 메소드를 추가하세요.\n",
        "\n",
        ">>> areum.who()\n",
        "이름: 조아름, 나이: 25, 성별: 여자"
      ],
      "id": "e6cdca48"
    },
    {
      "cell_type": "code",
      "execution_count": null,
      "metadata": {
        "id": "e0bc2791"
      },
      "outputs": [],
      "source": [],
      "id": "e0bc2791"
    },
    {
      "cell_type": "markdown",
      "metadata": {
        "id": "0e164312"
      },
      "source": [
        "258 클래스 메소드 - 2\n",
        "사람 (Human) 클래스에 (이름, 나이, 성별)을 받는 setInfo 메소드를 추가하세요.\n",
        "\n",
        ">>> areum = Human(\"모름\", 0, \"모름\")\n",
        ">>> areum.setInfo(\"아름\", 25, \"여자\")"
      ],
      "id": "0e164312"
    },
    {
      "cell_type": "code",
      "execution_count": null,
      "metadata": {
        "id": "b17fde7f"
      },
      "outputs": [],
      "source": [],
      "id": "b17fde7f"
    },
    {
      "cell_type": "markdown",
      "metadata": {
        "id": "bfc98e76"
      },
      "source": [
        "259 클래스 소멸자\n",
        "사람 (human) 클래스에 \"나의 죽음을 알리지 말라\"를 출력하는 소멸자를 추가하세요.\n",
        "\n",
        ">>> areum = Human(\"아름\", 25, \"여자\")\n",
        ">>> del areum\n",
        "나의 죽음을 알리지 말라"
      ],
      "id": "bfc98e76"
    },
    {
      "cell_type": "code",
      "execution_count": null,
      "metadata": {
        "id": "9db68275"
      },
      "outputs": [],
      "source": [],
      "id": "9db68275"
    },
    {
      "cell_type": "markdown",
      "metadata": {
        "id": "9f2b650e"
      },
      "source": [
        "260 에러의 원인\n",
        "아래와 같은 에러가 발생한 원인에 대해 설명하세요.\n",
        "\n",
        "class OMG : \n",
        "    def print() :\n",
        "        print(\"Oh my god\")\n",
        "\n",
        ">>> >>> myStock = OMG()\n",
        ">>> myStock.print()\n",
        "TypeError Traceback (most recent call last)\n",
        "<ipython-input-233-c85c04535b22> in <module>()\n",
        "----> myStock.print()\n",
        "\n",
        "TypeError: print() takes 0 positional arguments but 1 was given"
      ],
      "id": "9f2b650e"
    },
    {
      "cell_type": "code",
      "execution_count": null,
      "metadata": {
        "id": "6326db12"
      },
      "outputs": [],
      "source": [],
      "id": "6326db12"
    },
    {
      "cell_type": "markdown",
      "metadata": {
        "id": "1a16097b"
      },
      "source": [
        "261 Stock 클래스 생성\n",
        "주식 종목에 대한 정보를 저장하는 Stock 클래스를 정의해보세요. 클래스는 속성과 메서드를 갖고 있지 않습니다."
      ],
      "id": "1a16097b"
    },
    {
      "cell_type": "code",
      "execution_count": null,
      "metadata": {
        "id": "f5f7b2fb"
      },
      "outputs": [],
      "source": [],
      "id": "f5f7b2fb"
    },
    {
      "cell_type": "markdown",
      "metadata": {
        "id": "7945ed72"
      },
      "source": [
        "262 생성자\n",
        "Stock 클래스의 객체가 생성될 때 종목명과 종목코드를 입력 받을 수 있도록 생성자를 정의해보세요.\n",
        "\n",
        "삼성 = Stock(\"삼성전자\", \"005930\")"
      ],
      "id": "7945ed72"
    },
    {
      "cell_type": "code",
      "execution_count": null,
      "metadata": {
        "id": "046071b9"
      },
      "outputs": [],
      "source": [],
      "id": "046071b9"
    },
    {
      "cell_type": "markdown",
      "metadata": {
        "id": "aae306a0"
      },
      "source": [
        "263 메서드\n",
        "객체에 종목명을 입력할 수 있는 set_name 메서드를 추가해보세요.\n",
        "\n",
        "a = Stock(None, None)\n",
        "a.set_name(\"삼성전자\")"
      ],
      "id": "aae306a0"
    },
    {
      "cell_type": "code",
      "execution_count": null,
      "metadata": {
        "id": "31c2f58e"
      },
      "outputs": [],
      "source": [],
      "id": "31c2f58e"
    },
    {
      "cell_type": "markdown",
      "metadata": {
        "id": "b56f52d4"
      },
      "source": [
        "264 메서드\n",
        "객체에 종목코드를 입력할 수 있는 set_code 메서드를 추가해보세요.\n",
        "\n",
        "a = Stock(None, None)\n",
        "a.set_code(\"005930\")"
      ],
      "id": "b56f52d4"
    },
    {
      "cell_type": "code",
      "execution_count": null,
      "metadata": {
        "id": "16ba7421"
      },
      "outputs": [],
      "source": [],
      "id": "16ba7421"
    },
    {
      "cell_type": "markdown",
      "metadata": {
        "id": "548c8b70"
      },
      "source": [
        "265 메서드\n",
        "종목명과 종목코드를 리턴하는 get_name, get_code 메서드를 추가하세요. 해당 메서드를 사용하여 종목명과 종목코드를 얻고 이를 출력해보세요.\n",
        "\n",
        "삼성 = Stock(\"삼성전자\", \"005930\")"
      ],
      "id": "548c8b70"
    },
    {
      "cell_type": "code",
      "execution_count": null,
      "metadata": {
        "id": "df18a85f"
      },
      "outputs": [],
      "source": [],
      "id": "df18a85f"
    },
    {
      "cell_type": "markdown",
      "metadata": {
        "id": "8f686a76"
      },
      "source": [
        "271 Account 클래스\n",
        "은행에 가서 계좌를 개설하면 은행이름, 예금주, 계좌번호, 잔액이 설정됩니다. Account 클래스를 생성한 후 생성자를 구현해보세요. 생성자에서는 예금주와 초기 잔액만 입력 받습니다. 은행이름은 SC은행으로 계좌번호는 3자리-2자리-6자리 형태로 랜덤하게 생성됩니다.\n",
        "\n",
        "은행이름: SC은행\n",
        "계좌번호: 111-11-111111"
      ],
      "id": "8f686a76"
    },
    {
      "cell_type": "code",
      "execution_count": null,
      "metadata": {
        "id": "1a12f55f"
      },
      "outputs": [],
      "source": [],
      "id": "1a12f55f"
    },
    {
      "cell_type": "markdown",
      "metadata": {
        "id": "58e645f3"
      },
      "source": [
        "272 클래스 변수\n",
        "클래스 변수를 사용해서 Account 클래스로부터 생성된 계좌 객체의 개수를 저장하세요."
      ],
      "id": "58e645f3"
    },
    {
      "cell_type": "code",
      "execution_count": null,
      "metadata": {
        "id": "6b1ccccf"
      },
      "outputs": [],
      "source": [],
      "id": "6b1ccccf"
    },
    {
      "cell_type": "markdown",
      "metadata": {
        "id": "109ae0d9"
      },
      "source": [
        "273 클래스 변수 출력\n",
        "Account 클래스로부터 생성된 계좌의 개수를 출력하는 get_account_num() 메서드를 추가하세요."
      ],
      "id": "109ae0d9"
    },
    {
      "cell_type": "code",
      "execution_count": null,
      "metadata": {
        "id": "8cd78a29"
      },
      "outputs": [],
      "source": [],
      "id": "8cd78a29"
    },
    {
      "cell_type": "markdown",
      "metadata": {
        "id": "0928ce64"
      },
      "source": [
        "274 입금 메서드\n",
        "Account 클래스에 입금을 위한 deposit 메서드를 추가하세요. 입금은 최소 1원 이상만 가능합니다."
      ],
      "id": "0928ce64"
    },
    {
      "cell_type": "code",
      "execution_count": null,
      "metadata": {
        "id": "4a32d835"
      },
      "outputs": [],
      "source": [],
      "id": "4a32d835"
    },
    {
      "cell_type": "markdown",
      "metadata": {
        "id": "6b6cf4af"
      },
      "source": [
        "275 출금 메서드\n",
        "Account 클래스에 출금을 위한 withdraw 메서드를 추가하세요. 출금은 계좌의 잔고 이상으로 출금할 수는 없습니다."
      ],
      "id": "6b6cf4af"
    },
    {
      "cell_type": "code",
      "execution_count": null,
      "metadata": {
        "id": "288066ec"
      },
      "outputs": [],
      "source": [],
      "id": "288066ec"
    },
    {
      "cell_type": "markdown",
      "metadata": {
        "id": "42d1a050"
      },
      "source": [
        "276 정보 출력 메서드\n",
        "Account 인스턴스에 저장된 정보를 출력하는 display_info() 메서드를 추가하세요. 잔고는 세자리마다 쉼표를 출력하세요.\n",
        "\n",
        "은행이름: SC은행\n",
        "예금주: 파이썬\n",
        "계좌번호: 111-11-111111\n",
        "잔고: 10,000원"
      ],
      "id": "42d1a050"
    },
    {
      "cell_type": "code",
      "execution_count": null,
      "metadata": {
        "id": "2e92e8ec"
      },
      "outputs": [],
      "source": [],
      "id": "2e92e8ec"
    },
    {
      "cell_type": "markdown",
      "metadata": {
        "id": "8e21408c"
      },
      "source": [
        "277 이자 지급하기\n",
        "입금 횟수가 5회가 될 때 잔고를 기준으로 1%의 이자가 잔고에 추가되도록 코드를 변경해보세요."
      ],
      "id": "8e21408c"
    },
    {
      "cell_type": "code",
      "execution_count": null,
      "metadata": {
        "id": "2d739849"
      },
      "outputs": [],
      "source": [],
      "id": "2d739849"
    },
    {
      "cell_type": "markdown",
      "metadata": {
        "id": "b47f9bf7"
      },
      "source": [
        "278 여러 객체 생성\n",
        "Account 클래스로부터 3개 이상 인스턴스를 생성하고 생성된 인스턴스를 리스트에 저장해보세요."
      ],
      "id": "b47f9bf7"
    },
    {
      "cell_type": "code",
      "execution_count": null,
      "metadata": {
        "id": "46a4be97"
      },
      "outputs": [],
      "source": [],
      "id": "46a4be97"
    },
    {
      "cell_type": "markdown",
      "metadata": {
        "id": "e4cd3a7c"
      },
      "source": [
        "279 객체 순회\n",
        "반복문을 통해 리스트에 있는 객체를 순회하면서 잔고가 100만원 이상인 고객의 정보만 출력하세요."
      ],
      "id": "e4cd3a7c"
    },
    {
      "cell_type": "code",
      "execution_count": null,
      "metadata": {
        "id": "a534a3f7"
      },
      "outputs": [],
      "source": [],
      "id": "a534a3f7"
    },
    {
      "cell_type": "markdown",
      "metadata": {
        "id": "90c8f2c1"
      },
      "source": [
        "280 입출금 내역\n",
        "입금과 출금 내역이 기록되도록 코드를 업데이트 하세요. 입금 내역과 출금 내역을 출력하는 deposit_history와 withdraw_history 메서드를 추가하세요."
      ],
      "id": "90c8f2c1"
    },
    {
      "cell_type": "code",
      "execution_count": null,
      "metadata": {
        "id": "0906f02d"
      },
      "outputs": [],
      "source": [],
      "id": "0906f02d"
    },
    {
      "cell_type": "markdown",
      "metadata": {
        "id": "2ec0dc34"
      },
      "source": [
        "281 클래스 정의\n",
        "다음 코드가 동작하도록 차 클래스를 정의하세요.\n",
        "\n",
        ">> car = 차(2, 1000)\n",
        ">> car.바퀴\n",
        "2\n",
        ">> car.가격\n",
        "1000"
      ],
      "id": "2ec0dc34"
    },
    {
      "cell_type": "code",
      "execution_count": null,
      "metadata": {
        "id": "77118bd0"
      },
      "outputs": [],
      "source": [],
      "id": "77118bd0"
    },
    {
      "cell_type": "markdown",
      "metadata": {
        "id": "8032f862"
      },
      "source": [
        "282 클래스 상속\n",
        "차 클래스를 상속받은 자전차 클래스를 정의하세요."
      ],
      "id": "8032f862"
    },
    {
      "cell_type": "code",
      "execution_count": null,
      "metadata": {
        "id": "262dcf2e"
      },
      "outputs": [],
      "source": [],
      "id": "262dcf2e"
    },
    {
      "cell_type": "markdown",
      "metadata": {
        "id": "40702414"
      },
      "source": [
        "283 클래스 상속\n",
        "다음 코드가 동작하도록 자전차 클래스를 정의하세요. 단 자전차 클래스는 차 클래스를 상속받습니다.\n",
        "\n",
        ">> bicycle = 자전차(2, 100)\n",
        ">> bicycle.가격\n",
        "100"
      ],
      "id": "40702414"
    },
    {
      "cell_type": "code",
      "execution_count": null,
      "metadata": {
        "id": "88701eaa"
      },
      "outputs": [],
      "source": [],
      "id": "88701eaa"
    },
    {
      "cell_type": "markdown",
      "metadata": {
        "id": "adc7fbd3"
      },
      "source": [
        "284 클래스 상속\n",
        "다음 코드가 동작하도록 자전차 클래스를 정의하세요. 단 자전차 클래스는 차 클래스를 상속받습니다.\n",
        "\n",
        ">> bicycle = 자전차(2, 100, \"시마노\")\n",
        ">> bicycle.구동계\n",
        "시마노"
      ],
      "id": "adc7fbd3"
    },
    {
      "cell_type": "code",
      "execution_count": null,
      "metadata": {
        "id": "a6cb87cb"
      },
      "outputs": [],
      "source": [],
      "id": "a6cb87cb"
    },
    {
      "cell_type": "markdown",
      "metadata": {
        "id": "9aea75e6"
      },
      "source": [
        "285 클래스 상속\n",
        "다음 코드가 동작하도록 차 클래스를 상속받는 자동차 클래스를 정의하세요.\n",
        "\n",
        ">> car = 자동차(4, 1000)\n",
        ">> car.정보()\n",
        "바퀴수 4\n",
        "가격 1000"
      ],
      "id": "9aea75e6"
    },
    {
      "cell_type": "code",
      "execution_count": null,
      "metadata": {
        "id": "1429eef9"
      },
      "outputs": [],
      "source": [],
      "id": "1429eef9"
    },
    {
      "cell_type": "markdown",
      "metadata": {
        "id": "36420ba7"
      },
      "source": [
        "286 부모 클래스 생성자 호출\n",
        "다음 코드가 동작하도록 차 클래스를 수정하세요.\n",
        "\n",
        ">> bicycle = 자전차(2, 100, \"시마노\")\n",
        ">> bicycle.정보()\n",
        "바퀴수 2\n",
        "가격 100"
      ],
      "id": "36420ba7"
    },
    {
      "cell_type": "code",
      "execution_count": null,
      "metadata": {
        "id": "13c1ffb8"
      },
      "outputs": [],
      "source": [],
      "id": "13c1ffb8"
    },
    {
      "cell_type": "markdown",
      "metadata": {
        "id": "a1827bf8"
      },
      "source": [
        "287 부모 클래스 메서드 호출\n",
        "자전차의 정보() 메서드로 구동계 정보까지 출력하도록 수정해보세요.\n",
        "\n",
        ">> bicycle = 자전차(2, 100, \"시마노\")\n",
        ">> bicycle.정보()\n",
        "바퀴수 2\n",
        "가격 100\n",
        "구동계 시마노"
      ],
      "id": "a1827bf8"
    },
    {
      "cell_type": "code",
      "execution_count": null,
      "metadata": {
        "id": "cd6ed2ca"
      },
      "outputs": [],
      "source": [],
      "id": "cd6ed2ca"
    },
    {
      "cell_type": "markdown",
      "metadata": {
        "id": "1f6b416e"
      },
      "source": [
        "288 메서드 오버라이딩\n",
        "다음 코드의 실행 결과를 예상해보세요.\n",
        "\n",
        "class 부모:\n",
        "  def 호출(self):\n",
        "    print(\"부모호출\")\n",
        "\n",
        "class 자식(부모):\n",
        "  def 호출(self):\n",
        "    print(\"자식호출\")\n",
        "나 = 자식()\n",
        "나.호출()"
      ],
      "id": "1f6b416e"
    },
    {
      "cell_type": "code",
      "execution_count": null,
      "metadata": {
        "id": "3e40dc50"
      },
      "outputs": [],
      "source": [],
      "id": "3e40dc50"
    },
    {
      "cell_type": "markdown",
      "metadata": {
        "id": "939e57d3"
      },
      "source": [
        "289 생성자\n",
        "다음 코드의 실행 결과를 예상해보세요.\n",
        "\n",
        "class 부모:\n",
        "  def __init__(self):\n",
        "    print(\"부모생성\")\n",
        "\n",
        "class 자식(부모):\n",
        "  def __init__(self):\n",
        "    print(\"자식생성\")\n",
        "나 = 자식()"
      ],
      "id": "939e57d3"
    },
    {
      "cell_type": "code",
      "execution_count": null,
      "metadata": {
        "id": "d1de03c9"
      },
      "outputs": [],
      "source": [],
      "id": "d1de03c9"
    },
    {
      "cell_type": "markdown",
      "metadata": {
        "id": "0b81e6fd"
      },
      "source": [
        "290 부모클래스 생성자 호출\n",
        "다음 코드의 실행 결과를 예상해보세요.\n",
        "\n",
        "class 부모:\n",
        "  def __init__(self):\n",
        "    print(\"부모생성\")\n",
        "\n",
        "class 자식(부모):\n",
        "  def __init__(self):\n",
        "    print(\"자식생성\")\n",
        "    super().__init__()\n",
        "\n",
        "나 = 자식()"
      ],
      "id": "0b81e6fd"
    },
    {
      "cell_type": "code",
      "execution_count": null,
      "metadata": {
        "id": "63be9f6e"
      },
      "outputs": [],
      "source": [],
      "id": "63be9f6e"
    },
    {
      "cell_type": "markdown",
      "metadata": {
        "id": "c22217b4"
      },
      "source": [
        "## 12. 파일 입출력과 예외처리"
      ],
      "id": "c22217b4"
    },
    {
      "cell_type": "markdown",
      "metadata": {
        "id": "8fb90756"
      },
      "source": [
        "291 파일 쓰기\n",
        "바탕화면에 '매수종목1.txt' 파일을 생성한 후 다음과 같이 종목코드를 파일에 써보세요.\n",
        "\n",
        "005930\n",
        "005380\n",
        "035420"
      ],
      "id": "8fb90756"
    },
    {
      "cell_type": "code",
      "execution_count": null,
      "metadata": {
        "id": "5ef6b0e9"
      },
      "outputs": [],
      "source": [],
      "id": "5ef6b0e9"
    },
    {
      "cell_type": "markdown",
      "metadata": {
        "id": "7954ed62"
      },
      "source": [
        "292 파일 쓰기\n",
        "바탕화면에 '매수종목2.txt' 파일을 생성한 후 다음과 같이 종목코드와 종목명을 파일에 써보세요.\n",
        "\n",
        "005930 삼성전자\n",
        "005380 현대차\n",
        "035420 NAVER"
      ],
      "id": "7954ed62"
    },
    {
      "cell_type": "code",
      "execution_count": null,
      "metadata": {
        "id": "cd713ca0"
      },
      "outputs": [],
      "source": [],
      "id": "cd713ca0"
    },
    {
      "cell_type": "markdown",
      "metadata": {
        "id": "0868eff1"
      },
      "source": [
        "293 CSV 파일 쓰기\n",
        "바탕화면에 '매수종목.csv' 파일을 생성한 후 다음과 같이 종목코드와 종목명을 파일에 써보세요. 인코딩은 'cp949'를 사용해야합니다.\n",
        "\n",
        "    A           B      C\n",
        "1 종목별    종목코드  PER\n",
        "2 삼성전자  005930    15.79\n",
        "3 NAVER     035420    55.82"
      ],
      "id": "0868eff1"
    },
    {
      "cell_type": "code",
      "execution_count": null,
      "metadata": {
        "id": "fc0951f6"
      },
      "outputs": [],
      "source": [],
      "id": "fc0951f6"
    },
    {
      "cell_type": "markdown",
      "metadata": {
        "id": "8a910ec1"
      },
      "source": [
        "294 파일 읽기\n",
        "바탕화면에 생성한 '매수종목1.txt' 파일을 읽은 후 종목코드를 리스트에 저장해보세요.\n",
        "\n",
        "005930\n",
        "005380\n",
        "035420"
      ],
      "id": "8a910ec1"
    },
    {
      "cell_type": "code",
      "execution_count": null,
      "metadata": {
        "id": "c4d7814f"
      },
      "outputs": [],
      "source": [],
      "id": "c4d7814f"
    },
    {
      "cell_type": "markdown",
      "metadata": {
        "id": "29c47e08"
      },
      "source": [
        "295 파일 읽기\n",
        "바탕화면에 생성한 '매수종목2.txt' 파일을 읽은 후 종목코드와 종목명을 딕셔너리로 저장해보세요. 종목명을 key로 종목명을 value로 저장합니다.\n",
        "\n",
        "005930 삼성전자\n",
        "005380 현대차\n",
        "035420 NAVER"
      ],
      "id": "29c47e08"
    },
    {
      "cell_type": "code",
      "execution_count": null,
      "metadata": {
        "id": "fb0280f5"
      },
      "outputs": [],
      "source": [],
      "id": "fb0280f5"
    },
    {
      "cell_type": "markdown",
      "metadata": {
        "id": "d8be95bf"
      },
      "source": [
        "296 예외처리\n",
        "문자열 PER (Price to Earning Ratio) 값을 실수로 변환할 때 에러가 발생합니다. 예외처리를 통해 에러가 발생하는 PER은 0으로 출력하세요.\n",
        "\n",
        "per = [\"10.31\", \"\", \"8.00\"]\n",
        "\n",
        "for i in per:\n",
        "    print(float(i))"
      ],
      "id": "d8be95bf"
    },
    {
      "cell_type": "code",
      "execution_count": null,
      "metadata": {
        "id": "33f2c05a"
      },
      "outputs": [],
      "source": [],
      "id": "33f2c05a"
    },
    {
      "cell_type": "markdown",
      "metadata": {
        "id": "1b6bae63"
      },
      "source": [
        "297 예외처리 및 리스트에 저장\n",
        "문자열로 표현된 PER 값을 실수로 변환한 후 이를 새로운 리스트에 저장해보세요.\n",
        "\n",
        "per = [\"10.31\", \"\", \"8.00\"]\n",
        "\n",
        "for i in per:\n",
        "    print(float(per))"
      ],
      "id": "1b6bae63"
    },
    {
      "cell_type": "code",
      "execution_count": null,
      "metadata": {
        "id": "8d8d1aa3"
      },
      "outputs": [],
      "source": [],
      "id": "8d8d1aa3"
    },
    {
      "cell_type": "markdown",
      "metadata": {
        "id": "6136835d"
      },
      "source": [
        "298 특정 예외만 처리하기\n",
        "어떤 값을 0으로 나누면 ZeroDivisionError 에러가 발생합니다. try ~ except로 모든 에러에 대해 예외처리하지 말고 ZeroDivisionError 에러만 예외처리해보세요."
      ],
      "id": "6136835d"
    },
    {
      "cell_type": "code",
      "execution_count": null,
      "metadata": {
        "id": "6cbde49a"
      },
      "outputs": [],
      "source": [],
      "id": "6cbde49a"
    },
    {
      "cell_type": "markdown",
      "metadata": {
        "id": "3a5d2995"
      },
      "source": [
        "299 예외의 메시지 출력하기\n",
        "다음과 같은 코드 구조를 사용하면 예외 발생 시 에러 메시지를 변수로 바인딩할 수 있습니다.\n",
        "\n",
        "try:\n",
        "    실행코드\n",
        "except 예외 as 변수:\n",
        "    예외처리코드 \n",
        "리스트의 인덱싱에 대해 에러를 출력해보세요.\n",
        "\n",
        "data = [1, 2, 3]\n",
        "\n",
        "for i in range(5)\n",
        "    print(data[i])"
      ],
      "id": "3a5d2995"
    },
    {
      "cell_type": "code",
      "execution_count": null,
      "metadata": {
        "id": "4706bf61"
      },
      "outputs": [],
      "source": [],
      "id": "4706bf61"
    },
    {
      "cell_type": "markdown",
      "metadata": {
        "id": "4958c0bc"
      },
      "source": [
        "300 try, except, else, finally 구조 사용해보기\n",
        "파이썬 예외처리는 다음과 같은 구조를 가질 수 있습니다.\n",
        "\n",
        "try:\n",
        "    실행 코드\n",
        "except:\n",
        "    예외가 발생했을 때 수행할 코드\n",
        "else:\n",
        "    예외가 발생하지 않았을 때 수행할 코드\n",
        "finally:\n",
        "    예외 발생 여부와 상관없이 항상 수행할 코드\n",
        "아래의 코드에 대해서 예외처리를 사용하고 try, except, else, finally에 적당한 코드를 작성해봅시다. else와 finally는 적당한 문구를 print하시면 됩니다.\n",
        "\n",
        "per = [\"10.31\", \"\", \"8.00\"]\n",
        "\n",
        "for i in per:\n",
        "    print(float(per))"
      ],
      "id": "4958c0bc"
    },
    {
      "cell_type": "code",
      "execution_count": null,
      "metadata": {
        "id": "ce75e3dd"
      },
      "outputs": [],
      "source": [],
      "id": "ce75e3dd"
    }
  ],
  "metadata": {
    "colab": {
      "collapsed_sections": [
        "8ed6160f",
        "5bf18777",
        "852ee809",
        "2bee2af7",
        "63820d84",
        "16df3d28",
        "c07dc97e",
        "a7df0d76",
        "a43dc052",
        "d9c7a2d4",
        "28affa3f",
        "c22217b4"
      ],
      "provenance": []
    },
    "kernelspec": {
      "display_name": "Python 3 (ipykernel)",
      "language": "python",
      "name": "python3"
    },
    "language_info": {
      "codemirror_mode": {
        "name": "ipython",
        "version": 3
      },
      "file_extension": ".py",
      "mimetype": "text/x-python",
      "name": "python",
      "nbconvert_exporter": "python",
      "pygments_lexer": "ipython3",
      "version": "3.8.13"
    }
  },
  "nbformat": 4,
  "nbformat_minor": 5
}